{
  "nbformat": 4,
  "nbformat_minor": 0,
  "metadata": {
    "colab": {
      "provenance": [],
      "authorship_tag": "ABX9TyN1aXnQVzsXAGYMvkefGJvM",
      "include_colab_link": true
    },
    "kernelspec": {
      "name": "python3",
      "display_name": "Python 3"
    },
    "language_info": {
      "name": "python"
    }
  },
  "cells": [
    {
      "cell_type": "markdown",
      "metadata": {
        "id": "view-in-github",
        "colab_type": "text"
      },
      "source": [
        "<a href=\"https://colab.research.google.com/github/Bess-Hub/Project-Citizen-Explorer/blob/main/Brazil_Lower_House.ipynb\" target=\"_parent\"><img src=\"https://colab.research.google.com/assets/colab-badge.svg\" alt=\"Open In Colab\"/></a>"
      ]
    },
    {
      "cell_type": "markdown",
      "source": [
        "# Data Analysis with Google Colab\n"
      ],
      "metadata": {
        "id": "rpodWDwHcZ9x"
      }
    },
    {
      "cell_type": "markdown",
      "source": [
        "---\n",
        "\n",
        "*In this exercise we will explore the data provided by the Brazilian Lower House API using Google Colab, because I had issues with Jupyter.*\n",
        "\n",
        "\n"
      ],
      "metadata": {
        "id": "oKWK-L3xfU8w"
      }
    },
    {
      "cell_type": "markdown",
      "source": [
        "# Phase 1: Data Extraction"
      ],
      "metadata": {
        "id": "jfbdTrkkfrp0"
      }
    },
    {
      "cell_type": "markdown",
      "source": [
        "\n",
        "*As any Data Analysis project we will start with Data Extraction.*\n"
      ],
      "metadata": {
        "id": "nZQNNHtlgLDa"
      }
    },
    {
      "cell_type": "markdown",
      "source": [
        "Import modules:"
      ],
      "metadata": {
        "id": "ZsP43mW1hDmB"
      }
    },
    {
      "cell_type": "code",
      "execution_count": 1,
      "metadata": {
        "id": "SwtwlBGjcOPj"
      },
      "outputs": [],
      "source": [
        "import requests # To get the API URL\n",
        "import pandas as pd # To test what I am learning on my course\n",
        "import xml.etree.ElementTree as ET # Because so far it is my way of reading into XML files returned by an API"
      ]
    },
    {
      "cell_type": "markdown",
      "source": [
        "Define the API URL:"
      ],
      "metadata": {
        "id": "9UUHc00lcpxE"
      }
    },
    {
      "cell_type": "code",
      "source": [
        "Base_URL = requests.get(url=\"https://www.camara.gov.br/SitCamaraWS/Deputados.asmx/ObterDeputados\")"
      ],
      "metadata": {
        "id": "Uy9nPtFNcnpR"
      },
      "execution_count": 2,
      "outputs": []
    },
    {
      "cell_type": "markdown",
      "source": [
        "## Some additional steps:"
      ],
      "metadata": {
        "id": "o4msuvgZpge8"
      }
    },
    {
      "cell_type": "markdown",
      "source": [
        "Check the connection:"
      ],
      "metadata": {
        "id": "WoZshKvPdoqD"
      }
    },
    {
      "cell_type": "code",
      "source": [
        "print(Base_URL)"
      ],
      "metadata": {
        "colab": {
          "base_uri": "https://localhost:8080/"
        },
        "id": "sS5YVz2Zc2j4",
        "outputId": "d31e4adf-7a34-476b-9d6f-da799df71b50"
      },
      "execution_count": 3,
      "outputs": [
        {
          "output_type": "stream",
          "name": "stdout",
          "text": [
            "<Response [200]>\n"
          ]
        }
      ]
    },
    {
      "cell_type": "markdown",
      "source": [
        "Let's check what is the data we will be working with:"
      ],
      "metadata": {
        "id": "UOOjDBtvdxIG"
      }
    },
    {
      "cell_type": "code",
      "source": [
        "print(Base_URL.headers.get('content-type'))"
      ],
      "metadata": {
        "colab": {
          "base_uri": "https://localhost:8080/"
        },
        "id": "d2tY3RTjc7cg",
        "outputId": "3a24c9fb-9aec-4a00-ae58-7e87b4784d1a"
      },
      "execution_count": 4,
      "outputs": [
        {
          "output_type": "stream",
          "name": "stdout",
          "text": [
            "text/xml; charset=utf-8\n"
          ]
        }
      ]
    },
    {
      "cell_type": "markdown",
      "source": [
        "## Visualizing the extracted data"
      ],
      "metadata": {
        "id": "0-ENfoBdpx-x"
      }
    },
    {
      "cell_type": "markdown",
      "source": [
        "Since the data is in XML we will use ElementTree to create a local DataFrame from the API."
      ],
      "metadata": {
        "id": "OBHREYEpwLk2"
      }
    },
    {
      "cell_type": "code",
      "source": [
        "root = ET.fromstring(Base_URL.content) # Define the root channel to the content we want to append to our lists\n",
        "# Create the lists\n",
        "dep_name = []\n",
        "dep_id = []\n",
        "dep_foto = []\n",
        "dep_uf = []\n",
        "dep_gender = []\n",
        "dep_part = []\n",
        "# Add elements to the correspondent lists\n",
        "for name in root.iter('nomeParlamentar'):\n",
        "    dep_name.append(name.text)\n",
        "for id in root.iter('ideCadastro'):\n",
        "    dep_id.append(id.text)\n",
        "for urlFoto in root.iter('urlFoto'):\n",
        "    dep_foto.append(urlFoto.text)\n",
        "for uf in root.iter('uf'):\n",
        "    dep_uf.append(uf.text)\n",
        "for sexo in root.iter('sexo'):\n",
        "    dep_gender.append(sexo.text)\n",
        "for part in root.iter('partido'):\n",
        "    dep_part.append(part.text)"
      ],
      "metadata": {
        "id": "ZwgMhfppppzR"
      },
      "execution_count": 5,
      "outputs": []
    },
    {
      "cell_type": "markdown",
      "source": [
        "Now we create one dataframe using Pandas."
      ],
      "metadata": {
        "id": "rjVbXtEDwjOq"
      }
    },
    {
      "cell_type": "code",
      "source": [
        "Deputados = pd.DataFrame({'Name': dep_name, 'ID': dep_id, 'Foto': dep_foto, 'UF': dep_uf, 'Gender': dep_gender, 'Party': dep_part})"
      ],
      "metadata": {
        "id": "6VCjqxOfsNzH"
      },
      "execution_count": 6,
      "outputs": []
    },
    {
      "cell_type": "markdown",
      "source": [
        "Because everything is in a certain order, if we give the folowing command we can see line by line each congressperson information in our DataFrame."
      ],
      "metadata": {
        "id": "Xl3_RGTywws-"
      }
    },
    {
      "cell_type": "code",
      "source": [
        "Deputados.head(513)"
      ],
      "metadata": {
        "colab": {
          "base_uri": "https://localhost:8080/",
          "height": 655
        },
        "id": "Zg0gYgrdtFvY",
        "outputId": "a4f85dd4-c7d6-4b0d-f7a4-225de32f172a"
      },
      "execution_count": 7,
      "outputs": [
        {
          "output_type": "execute_result",
          "data": {
            "text/plain": [
              "                   Name      ID  \\\n",
              "0     Benedita da Silva   73701   \n",
              "1            Átila Lins   74090   \n",
              "2     Renildo Calheiros   73801   \n",
              "3       Jandira Feghali   74848   \n",
              "4        Lídice da Mata  139285   \n",
              "..                  ...     ...   \n",
              "508   Leônidas Cristino   74299   \n",
              "509     Luciano Azevedo  103758   \n",
              "510        Gabriel Mota  224117   \n",
              "511              Welter  224333   \n",
              "512  Reinhold Stephanes  205865   \n",
              "\n",
              "                                                  Foto  UF     Gender  \\\n",
              "0    http://www.camara.gov.br/internet/deputado/ban...  RJ   feminino   \n",
              "1    http://www.camara.gov.br/internet/deputado/ban...  AM  masculino   \n",
              "2    http://www.camara.gov.br/internet/deputado/ban...  PE  masculino   \n",
              "3    http://www.camara.gov.br/internet/deputado/ban...  RJ   feminino   \n",
              "4    http://www.camara.gov.br/internet/deputado/ban...  BA   feminino   \n",
              "..                                                 ...  ..        ...   \n",
              "508  http://www.camara.gov.br/internet/deputado/ban...  CE  masculino   \n",
              "509  http://www.camara.gov.br/internet/deputado/ban...  RS  masculino   \n",
              "510  http://www.camara.gov.br/internet/deputado/ban...  RR  masculino   \n",
              "511  http://www.camara.gov.br/internet/deputado/ban...  PR  masculino   \n",
              "512  http://www.camara.gov.br/internet/deputado/ban...  PR  masculino   \n",
              "\n",
              "            Party  \n",
              "0              PT  \n",
              "1             PSD  \n",
              "2           PCdoB  \n",
              "3           PCdoB  \n",
              "4             PSB  \n",
              "..            ...  \n",
              "508           PDT  \n",
              "509           PSD  \n",
              "510  REPUBLICANOS  \n",
              "511            PT  \n",
              "512           PSD  \n",
              "\n",
              "[513 rows x 6 columns]"
            ],
            "text/html": [
              "\n",
              "  <div id=\"df-38417d62-f377-4c54-9183-4d2e23b7ad6e\">\n",
              "    <div class=\"colab-df-container\">\n",
              "      <div>\n",
              "<style scoped>\n",
              "    .dataframe tbody tr th:only-of-type {\n",
              "        vertical-align: middle;\n",
              "    }\n",
              "\n",
              "    .dataframe tbody tr th {\n",
              "        vertical-align: top;\n",
              "    }\n",
              "\n",
              "    .dataframe thead th {\n",
              "        text-align: right;\n",
              "    }\n",
              "</style>\n",
              "<table border=\"1\" class=\"dataframe\">\n",
              "  <thead>\n",
              "    <tr style=\"text-align: right;\">\n",
              "      <th></th>\n",
              "      <th>Name</th>\n",
              "      <th>ID</th>\n",
              "      <th>Foto</th>\n",
              "      <th>UF</th>\n",
              "      <th>Gender</th>\n",
              "      <th>Party</th>\n",
              "    </tr>\n",
              "  </thead>\n",
              "  <tbody>\n",
              "    <tr>\n",
              "      <th>0</th>\n",
              "      <td>Benedita da Silva</td>\n",
              "      <td>73701</td>\n",
              "      <td>http://www.camara.gov.br/internet/deputado/ban...</td>\n",
              "      <td>RJ</td>\n",
              "      <td>feminino</td>\n",
              "      <td>PT</td>\n",
              "    </tr>\n",
              "    <tr>\n",
              "      <th>1</th>\n",
              "      <td>Átila Lins</td>\n",
              "      <td>74090</td>\n",
              "      <td>http://www.camara.gov.br/internet/deputado/ban...</td>\n",
              "      <td>AM</td>\n",
              "      <td>masculino</td>\n",
              "      <td>PSD</td>\n",
              "    </tr>\n",
              "    <tr>\n",
              "      <th>2</th>\n",
              "      <td>Renildo Calheiros</td>\n",
              "      <td>73801</td>\n",
              "      <td>http://www.camara.gov.br/internet/deputado/ban...</td>\n",
              "      <td>PE</td>\n",
              "      <td>masculino</td>\n",
              "      <td>PCdoB</td>\n",
              "    </tr>\n",
              "    <tr>\n",
              "      <th>3</th>\n",
              "      <td>Jandira Feghali</td>\n",
              "      <td>74848</td>\n",
              "      <td>http://www.camara.gov.br/internet/deputado/ban...</td>\n",
              "      <td>RJ</td>\n",
              "      <td>feminino</td>\n",
              "      <td>PCdoB</td>\n",
              "    </tr>\n",
              "    <tr>\n",
              "      <th>4</th>\n",
              "      <td>Lídice da Mata</td>\n",
              "      <td>139285</td>\n",
              "      <td>http://www.camara.gov.br/internet/deputado/ban...</td>\n",
              "      <td>BA</td>\n",
              "      <td>feminino</td>\n",
              "      <td>PSB</td>\n",
              "    </tr>\n",
              "    <tr>\n",
              "      <th>...</th>\n",
              "      <td>...</td>\n",
              "      <td>...</td>\n",
              "      <td>...</td>\n",
              "      <td>...</td>\n",
              "      <td>...</td>\n",
              "      <td>...</td>\n",
              "    </tr>\n",
              "    <tr>\n",
              "      <th>508</th>\n",
              "      <td>Leônidas Cristino</td>\n",
              "      <td>74299</td>\n",
              "      <td>http://www.camara.gov.br/internet/deputado/ban...</td>\n",
              "      <td>CE</td>\n",
              "      <td>masculino</td>\n",
              "      <td>PDT</td>\n",
              "    </tr>\n",
              "    <tr>\n",
              "      <th>509</th>\n",
              "      <td>Luciano Azevedo</td>\n",
              "      <td>103758</td>\n",
              "      <td>http://www.camara.gov.br/internet/deputado/ban...</td>\n",
              "      <td>RS</td>\n",
              "      <td>masculino</td>\n",
              "      <td>PSD</td>\n",
              "    </tr>\n",
              "    <tr>\n",
              "      <th>510</th>\n",
              "      <td>Gabriel Mota</td>\n",
              "      <td>224117</td>\n",
              "      <td>http://www.camara.gov.br/internet/deputado/ban...</td>\n",
              "      <td>RR</td>\n",
              "      <td>masculino</td>\n",
              "      <td>REPUBLICANOS</td>\n",
              "    </tr>\n",
              "    <tr>\n",
              "      <th>511</th>\n",
              "      <td>Welter</td>\n",
              "      <td>224333</td>\n",
              "      <td>http://www.camara.gov.br/internet/deputado/ban...</td>\n",
              "      <td>PR</td>\n",
              "      <td>masculino</td>\n",
              "      <td>PT</td>\n",
              "    </tr>\n",
              "    <tr>\n",
              "      <th>512</th>\n",
              "      <td>Reinhold Stephanes</td>\n",
              "      <td>205865</td>\n",
              "      <td>http://www.camara.gov.br/internet/deputado/ban...</td>\n",
              "      <td>PR</td>\n",
              "      <td>masculino</td>\n",
              "      <td>PSD</td>\n",
              "    </tr>\n",
              "  </tbody>\n",
              "</table>\n",
              "<p>513 rows × 6 columns</p>\n",
              "</div>\n",
              "      <button class=\"colab-df-convert\" onclick=\"convertToInteractive('df-38417d62-f377-4c54-9183-4d2e23b7ad6e')\"\n",
              "              title=\"Convert this dataframe to an interactive table.\"\n",
              "              style=\"display:none;\">\n",
              "        \n",
              "  <svg xmlns=\"http://www.w3.org/2000/svg\" height=\"24px\"viewBox=\"0 0 24 24\"\n",
              "       width=\"24px\">\n",
              "    <path d=\"M0 0h24v24H0V0z\" fill=\"none\"/>\n",
              "    <path d=\"M18.56 5.44l.94 2.06.94-2.06 2.06-.94-2.06-.94-.94-2.06-.94 2.06-2.06.94zm-11 1L8.5 8.5l.94-2.06 2.06-.94-2.06-.94L8.5 2.5l-.94 2.06-2.06.94zm10 10l.94 2.06.94-2.06 2.06-.94-2.06-.94-.94-2.06-.94 2.06-2.06.94z\"/><path d=\"M17.41 7.96l-1.37-1.37c-.4-.4-.92-.59-1.43-.59-.52 0-1.04.2-1.43.59L10.3 9.45l-7.72 7.72c-.78.78-.78 2.05 0 2.83L4 21.41c.39.39.9.59 1.41.59.51 0 1.02-.2 1.41-.59l7.78-7.78 2.81-2.81c.8-.78.8-2.07 0-2.86zM5.41 20L4 18.59l7.72-7.72 1.47 1.35L5.41 20z\"/>\n",
              "  </svg>\n",
              "      </button>\n",
              "      \n",
              "  <style>\n",
              "    .colab-df-container {\n",
              "      display:flex;\n",
              "      flex-wrap:wrap;\n",
              "      gap: 12px;\n",
              "    }\n",
              "\n",
              "    .colab-df-convert {\n",
              "      background-color: #E8F0FE;\n",
              "      border: none;\n",
              "      border-radius: 50%;\n",
              "      cursor: pointer;\n",
              "      display: none;\n",
              "      fill: #1967D2;\n",
              "      height: 32px;\n",
              "      padding: 0 0 0 0;\n",
              "      width: 32px;\n",
              "    }\n",
              "\n",
              "    .colab-df-convert:hover {\n",
              "      background-color: #E2EBFA;\n",
              "      box-shadow: 0px 1px 2px rgba(60, 64, 67, 0.3), 0px 1px 3px 1px rgba(60, 64, 67, 0.15);\n",
              "      fill: #174EA6;\n",
              "    }\n",
              "\n",
              "    [theme=dark] .colab-df-convert {\n",
              "      background-color: #3B4455;\n",
              "      fill: #D2E3FC;\n",
              "    }\n",
              "\n",
              "    [theme=dark] .colab-df-convert:hover {\n",
              "      background-color: #434B5C;\n",
              "      box-shadow: 0px 1px 3px 1px rgba(0, 0, 0, 0.15);\n",
              "      filter: drop-shadow(0px 1px 2px rgba(0, 0, 0, 0.3));\n",
              "      fill: #FFFFFF;\n",
              "    }\n",
              "  </style>\n",
              "\n",
              "      <script>\n",
              "        const buttonEl =\n",
              "          document.querySelector('#df-38417d62-f377-4c54-9183-4d2e23b7ad6e button.colab-df-convert');\n",
              "        buttonEl.style.display =\n",
              "          google.colab.kernel.accessAllowed ? 'block' : 'none';\n",
              "\n",
              "        async function convertToInteractive(key) {\n",
              "          const element = document.querySelector('#df-38417d62-f377-4c54-9183-4d2e23b7ad6e');\n",
              "          const dataTable =\n",
              "            await google.colab.kernel.invokeFunction('convertToInteractive',\n",
              "                                                     [key], {});\n",
              "          if (!dataTable) return;\n",
              "\n",
              "          const docLinkHtml = 'Like what you see? Visit the ' +\n",
              "            '<a target=\"_blank\" href=https://colab.research.google.com/notebooks/data_table.ipynb>data table notebook</a>'\n",
              "            + ' to learn more about interactive tables.';\n",
              "          element.innerHTML = '';\n",
              "          dataTable['output_type'] = 'display_data';\n",
              "          await google.colab.output.renderOutput(dataTable, element);\n",
              "          const docLink = document.createElement('div');\n",
              "          docLink.innerHTML = docLinkHtml;\n",
              "          element.appendChild(docLink);\n",
              "        }\n",
              "      </script>\n",
              "    </div>\n",
              "  </div>\n",
              "  "
            ]
          },
          "metadata": {},
          "execution_count": 7
        }
      ]
    },
    {
      "cell_type": "markdown",
      "source": [
        "We could wish to select only the first 10, for example:"
      ],
      "metadata": {
        "id": "jt1FY0oAw8gq"
      }
    },
    {
      "cell_type": "code",
      "source": [
        "Deputados.head(10)"
      ],
      "metadata": {
        "colab": {
          "base_uri": "https://localhost:8080/",
          "height": 363
        },
        "id": "1jhqi0S3xAni",
        "outputId": "cf7f53ac-e18e-41b3-ca03-7cdf44b1d110"
      },
      "execution_count": 8,
      "outputs": [
        {
          "output_type": "execute_result",
          "data": {
            "text/plain": [
              "                Name      ID  \\\n",
              "0  Benedita da Silva   73701   \n",
              "1         Átila Lins   74090   \n",
              "2  Renildo Calheiros   73801   \n",
              "3    Jandira Feghali   74848   \n",
              "4     Lídice da Mata  139285   \n",
              "5        Júlio Cesar   74317   \n",
              "6     Claudio Cajado   74537   \n",
              "7   Elcione Barbalho   74075   \n",
              "8  Arlindo Chinaglia   73433   \n",
              "9     Mendonça Filho   74428   \n",
              "\n",
              "                                                Foto  UF     Gender  Party  \n",
              "0  http://www.camara.gov.br/internet/deputado/ban...  RJ   feminino     PT  \n",
              "1  http://www.camara.gov.br/internet/deputado/ban...  AM  masculino    PSD  \n",
              "2  http://www.camara.gov.br/internet/deputado/ban...  PE  masculino  PCdoB  \n",
              "3  http://www.camara.gov.br/internet/deputado/ban...  RJ   feminino  PCdoB  \n",
              "4  http://www.camara.gov.br/internet/deputado/ban...  BA   feminino    PSB  \n",
              "5  http://www.camara.gov.br/internet/deputado/ban...  PI  masculino    PSD  \n",
              "6  http://www.camara.gov.br/internet/deputado/ban...  BA  masculino     PP  \n",
              "7  http://www.camara.gov.br/internet/deputado/ban...  PA   feminino    MDB  \n",
              "8  http://www.camara.gov.br/internet/deputado/ban...  SP  masculino     PT  \n",
              "9  http://www.camara.gov.br/internet/deputado/ban...  PE  masculino  UNIÃO  "
            ],
            "text/html": [
              "\n",
              "  <div id=\"df-29e76feb-b950-4c41-ae01-5eda890c644d\">\n",
              "    <div class=\"colab-df-container\">\n",
              "      <div>\n",
              "<style scoped>\n",
              "    .dataframe tbody tr th:only-of-type {\n",
              "        vertical-align: middle;\n",
              "    }\n",
              "\n",
              "    .dataframe tbody tr th {\n",
              "        vertical-align: top;\n",
              "    }\n",
              "\n",
              "    .dataframe thead th {\n",
              "        text-align: right;\n",
              "    }\n",
              "</style>\n",
              "<table border=\"1\" class=\"dataframe\">\n",
              "  <thead>\n",
              "    <tr style=\"text-align: right;\">\n",
              "      <th></th>\n",
              "      <th>Name</th>\n",
              "      <th>ID</th>\n",
              "      <th>Foto</th>\n",
              "      <th>UF</th>\n",
              "      <th>Gender</th>\n",
              "      <th>Party</th>\n",
              "    </tr>\n",
              "  </thead>\n",
              "  <tbody>\n",
              "    <tr>\n",
              "      <th>0</th>\n",
              "      <td>Benedita da Silva</td>\n",
              "      <td>73701</td>\n",
              "      <td>http://www.camara.gov.br/internet/deputado/ban...</td>\n",
              "      <td>RJ</td>\n",
              "      <td>feminino</td>\n",
              "      <td>PT</td>\n",
              "    </tr>\n",
              "    <tr>\n",
              "      <th>1</th>\n",
              "      <td>Átila Lins</td>\n",
              "      <td>74090</td>\n",
              "      <td>http://www.camara.gov.br/internet/deputado/ban...</td>\n",
              "      <td>AM</td>\n",
              "      <td>masculino</td>\n",
              "      <td>PSD</td>\n",
              "    </tr>\n",
              "    <tr>\n",
              "      <th>2</th>\n",
              "      <td>Renildo Calheiros</td>\n",
              "      <td>73801</td>\n",
              "      <td>http://www.camara.gov.br/internet/deputado/ban...</td>\n",
              "      <td>PE</td>\n",
              "      <td>masculino</td>\n",
              "      <td>PCdoB</td>\n",
              "    </tr>\n",
              "    <tr>\n",
              "      <th>3</th>\n",
              "      <td>Jandira Feghali</td>\n",
              "      <td>74848</td>\n",
              "      <td>http://www.camara.gov.br/internet/deputado/ban...</td>\n",
              "      <td>RJ</td>\n",
              "      <td>feminino</td>\n",
              "      <td>PCdoB</td>\n",
              "    </tr>\n",
              "    <tr>\n",
              "      <th>4</th>\n",
              "      <td>Lídice da Mata</td>\n",
              "      <td>139285</td>\n",
              "      <td>http://www.camara.gov.br/internet/deputado/ban...</td>\n",
              "      <td>BA</td>\n",
              "      <td>feminino</td>\n",
              "      <td>PSB</td>\n",
              "    </tr>\n",
              "    <tr>\n",
              "      <th>5</th>\n",
              "      <td>Júlio Cesar</td>\n",
              "      <td>74317</td>\n",
              "      <td>http://www.camara.gov.br/internet/deputado/ban...</td>\n",
              "      <td>PI</td>\n",
              "      <td>masculino</td>\n",
              "      <td>PSD</td>\n",
              "    </tr>\n",
              "    <tr>\n",
              "      <th>6</th>\n",
              "      <td>Claudio Cajado</td>\n",
              "      <td>74537</td>\n",
              "      <td>http://www.camara.gov.br/internet/deputado/ban...</td>\n",
              "      <td>BA</td>\n",
              "      <td>masculino</td>\n",
              "      <td>PP</td>\n",
              "    </tr>\n",
              "    <tr>\n",
              "      <th>7</th>\n",
              "      <td>Elcione Barbalho</td>\n",
              "      <td>74075</td>\n",
              "      <td>http://www.camara.gov.br/internet/deputado/ban...</td>\n",
              "      <td>PA</td>\n",
              "      <td>feminino</td>\n",
              "      <td>MDB</td>\n",
              "    </tr>\n",
              "    <tr>\n",
              "      <th>8</th>\n",
              "      <td>Arlindo Chinaglia</td>\n",
              "      <td>73433</td>\n",
              "      <td>http://www.camara.gov.br/internet/deputado/ban...</td>\n",
              "      <td>SP</td>\n",
              "      <td>masculino</td>\n",
              "      <td>PT</td>\n",
              "    </tr>\n",
              "    <tr>\n",
              "      <th>9</th>\n",
              "      <td>Mendonça Filho</td>\n",
              "      <td>74428</td>\n",
              "      <td>http://www.camara.gov.br/internet/deputado/ban...</td>\n",
              "      <td>PE</td>\n",
              "      <td>masculino</td>\n",
              "      <td>UNIÃO</td>\n",
              "    </tr>\n",
              "  </tbody>\n",
              "</table>\n",
              "</div>\n",
              "      <button class=\"colab-df-convert\" onclick=\"convertToInteractive('df-29e76feb-b950-4c41-ae01-5eda890c644d')\"\n",
              "              title=\"Convert this dataframe to an interactive table.\"\n",
              "              style=\"display:none;\">\n",
              "        \n",
              "  <svg xmlns=\"http://www.w3.org/2000/svg\" height=\"24px\"viewBox=\"0 0 24 24\"\n",
              "       width=\"24px\">\n",
              "    <path d=\"M0 0h24v24H0V0z\" fill=\"none\"/>\n",
              "    <path d=\"M18.56 5.44l.94 2.06.94-2.06 2.06-.94-2.06-.94-.94-2.06-.94 2.06-2.06.94zm-11 1L8.5 8.5l.94-2.06 2.06-.94-2.06-.94L8.5 2.5l-.94 2.06-2.06.94zm10 10l.94 2.06.94-2.06 2.06-.94-2.06-.94-.94-2.06-.94 2.06-2.06.94z\"/><path d=\"M17.41 7.96l-1.37-1.37c-.4-.4-.92-.59-1.43-.59-.52 0-1.04.2-1.43.59L10.3 9.45l-7.72 7.72c-.78.78-.78 2.05 0 2.83L4 21.41c.39.39.9.59 1.41.59.51 0 1.02-.2 1.41-.59l7.78-7.78 2.81-2.81c.8-.78.8-2.07 0-2.86zM5.41 20L4 18.59l7.72-7.72 1.47 1.35L5.41 20z\"/>\n",
              "  </svg>\n",
              "      </button>\n",
              "      \n",
              "  <style>\n",
              "    .colab-df-container {\n",
              "      display:flex;\n",
              "      flex-wrap:wrap;\n",
              "      gap: 12px;\n",
              "    }\n",
              "\n",
              "    .colab-df-convert {\n",
              "      background-color: #E8F0FE;\n",
              "      border: none;\n",
              "      border-radius: 50%;\n",
              "      cursor: pointer;\n",
              "      display: none;\n",
              "      fill: #1967D2;\n",
              "      height: 32px;\n",
              "      padding: 0 0 0 0;\n",
              "      width: 32px;\n",
              "    }\n",
              "\n",
              "    .colab-df-convert:hover {\n",
              "      background-color: #E2EBFA;\n",
              "      box-shadow: 0px 1px 2px rgba(60, 64, 67, 0.3), 0px 1px 3px 1px rgba(60, 64, 67, 0.15);\n",
              "      fill: #174EA6;\n",
              "    }\n",
              "\n",
              "    [theme=dark] .colab-df-convert {\n",
              "      background-color: #3B4455;\n",
              "      fill: #D2E3FC;\n",
              "    }\n",
              "\n",
              "    [theme=dark] .colab-df-convert:hover {\n",
              "      background-color: #434B5C;\n",
              "      box-shadow: 0px 1px 3px 1px rgba(0, 0, 0, 0.15);\n",
              "      filter: drop-shadow(0px 1px 2px rgba(0, 0, 0, 0.3));\n",
              "      fill: #FFFFFF;\n",
              "    }\n",
              "  </style>\n",
              "\n",
              "      <script>\n",
              "        const buttonEl =\n",
              "          document.querySelector('#df-29e76feb-b950-4c41-ae01-5eda890c644d button.colab-df-convert');\n",
              "        buttonEl.style.display =\n",
              "          google.colab.kernel.accessAllowed ? 'block' : 'none';\n",
              "\n",
              "        async function convertToInteractive(key) {\n",
              "          const element = document.querySelector('#df-29e76feb-b950-4c41-ae01-5eda890c644d');\n",
              "          const dataTable =\n",
              "            await google.colab.kernel.invokeFunction('convertToInteractive',\n",
              "                                                     [key], {});\n",
              "          if (!dataTable) return;\n",
              "\n",
              "          const docLinkHtml = 'Like what you see? Visit the ' +\n",
              "            '<a target=\"_blank\" href=https://colab.research.google.com/notebooks/data_table.ipynb>data table notebook</a>'\n",
              "            + ' to learn more about interactive tables.';\n",
              "          element.innerHTML = '';\n",
              "          dataTable['output_type'] = 'display_data';\n",
              "          await google.colab.output.renderOutput(dataTable, element);\n",
              "          const docLink = document.createElement('div');\n",
              "          docLink.innerHTML = docLinkHtml;\n",
              "          element.appendChild(docLink);\n",
              "        }\n",
              "      </script>\n",
              "    </div>\n",
              "  </div>\n",
              "  "
            ]
          },
          "metadata": {},
          "execution_count": 8
        }
      ]
    },
    {
      "cell_type": "markdown",
      "source": [
        "Or we could wish to select only the ones from a specific UF, for example Paraná - that is represented by its acronym PR"
      ],
      "metadata": {
        "id": "uYjj-Qye0E_X"
      }
    },
    {
      "cell_type": "code",
      "source": [
        "Deputados.loc[Deputados['UF'] == 'PR']"
      ],
      "metadata": {
        "colab": {
          "base_uri": "https://localhost:8080/",
          "height": 990
        },
        "id": "1T8Xy2az0KbR",
        "outputId": "3dbf8dcc-8ba3-4407-e460-4a49959bafc0"
      },
      "execution_count": 9,
      "outputs": [
        {
          "output_type": "execute_result",
          "data": {
            "text/plain": [
              "                        Name      ID  \\\n",
              "10          Dilceu Sperafico   73768   \n",
              "29                   Giacobo   74383   \n",
              "98               Zeca Dirceu  160592   \n",
              "111           Luiz Nishimori  162332   \n",
              "145            Aliel Machado  178927   \n",
              "146             Diego Garcia  178929   \n",
              "147            Luciano Ducci  178931   \n",
              "148             Sergio Souza  178933   \n",
              "149       Toninho Wandscheer  178934   \n",
              "176           Sargento Fahur  204387   \n",
              "228             Tadeu Veneri  220682   \n",
              "229             Pedro Lupion  204395   \n",
              "230               Beto Richa  220683   \n",
              "231                 Vermelho  204396   \n",
              "232            Tião Medeiros  220684   \n",
              "233      Felipe Francischini  204398   \n",
              "234              Paulo Litro  220685   \n",
              "235          Gleisi Hoffmann  107283   \n",
              "291           Luisa Canziani  204410   \n",
              "292            Filipe Barros  204411   \n",
              "407               Beto Preto  220698   \n",
              "438  Delegado Matheus Laiola  220701   \n",
              "467           Geraldo Mendes  220702   \n",
              "471            Carol Dartora  220704   \n",
              "475         Deltan Dallagnol  220705   \n",
              "481                 Padovani  220706   \n",
              "502             Marco Brasil  219585   \n",
              "507          Rodrigo Estacho  223128   \n",
              "511                   Welter  224333   \n",
              "512       Reinhold Stephanes  205865   \n",
              "\n",
              "                                                  Foto  UF     Gender  \\\n",
              "10   http://www.camara.gov.br/internet/deputado/ban...  PR  masculino   \n",
              "29   http://www.camara.gov.br/internet/deputado/ban...  PR  masculino   \n",
              "98   http://www.camara.gov.br/internet/deputado/ban...  PR  masculino   \n",
              "111  http://www.camara.gov.br/internet/deputado/ban...  PR  masculino   \n",
              "145  http://www.camara.gov.br/internet/deputado/ban...  PR  masculino   \n",
              "146  http://www.camara.gov.br/internet/deputado/ban...  PR  masculino   \n",
              "147  http://www.camara.gov.br/internet/deputado/ban...  PR  masculino   \n",
              "148  http://www.camara.gov.br/internet/deputado/ban...  PR  masculino   \n",
              "149  http://www.camara.gov.br/internet/deputado/ban...  PR  masculino   \n",
              "176  http://www.camara.gov.br/internet/deputado/ban...  PR  masculino   \n",
              "228  http://www.camara.gov.br/internet/deputado/ban...  PR  masculino   \n",
              "229  http://www.camara.gov.br/internet/deputado/ban...  PR  masculino   \n",
              "230  http://www.camara.gov.br/internet/deputado/ban...  PR  masculino   \n",
              "231  http://www.camara.gov.br/internet/deputado/ban...  PR  masculino   \n",
              "232  http://www.camara.gov.br/internet/deputado/ban...  PR  masculino   \n",
              "233  http://www.camara.gov.br/internet/deputado/ban...  PR  masculino   \n",
              "234  http://www.camara.gov.br/internet/deputado/ban...  PR  masculino   \n",
              "235  http://www.camara.gov.br/internet/deputado/ban...  PR   feminino   \n",
              "291  http://www.camara.gov.br/internet/deputado/ban...  PR   feminino   \n",
              "292  http://www.camara.gov.br/internet/deputado/ban...  PR  masculino   \n",
              "407  http://www.camara.gov.br/internet/deputado/ban...  PR  masculino   \n",
              "438  http://www.camara.gov.br/internet/deputado/ban...  PR  masculino   \n",
              "467  http://www.camara.gov.br/internet/deputado/ban...  PR  masculino   \n",
              "471  http://www.camara.gov.br/internet/deputado/ban...  PR   feminino   \n",
              "475  http://www.camara.gov.br/internet/deputado/ban...  PR  masculino   \n",
              "481  http://www.camara.gov.br/internet/deputado/ban...  PR  masculino   \n",
              "502  http://www.camara.gov.br/internet/deputado/ban...  PR  masculino   \n",
              "507  http://www.camara.gov.br/internet/deputado/ban...  PR  masculino   \n",
              "511  http://www.camara.gov.br/internet/deputado/ban...  PR  masculino   \n",
              "512  http://www.camara.gov.br/internet/deputado/ban...  PR  masculino   \n",
              "\n",
              "            Party  \n",
              "10             PP  \n",
              "29             PL  \n",
              "98             PT  \n",
              "111           PSD  \n",
              "145            PV  \n",
              "146  REPUBLICANOS  \n",
              "147           PSB  \n",
              "148           MDB  \n",
              "149            PP  \n",
              "176           PSD  \n",
              "228            PT  \n",
              "229            PP  \n",
              "230          PSDB  \n",
              "231            PL  \n",
              "232            PP  \n",
              "233         UNIÃO  \n",
              "234           PSD  \n",
              "235            PT  \n",
              "291           PSD  \n",
              "292            PL  \n",
              "407           PSD  \n",
              "438         UNIÃO  \n",
              "467         UNIÃO  \n",
              "471            PT  \n",
              "475          PODE  \n",
              "481         UNIÃO  \n",
              "502            PP  \n",
              "507           PSD  \n",
              "511            PT  \n",
              "512           PSD  "
            ],
            "text/html": [
              "\n",
              "  <div id=\"df-3c29e65c-927d-40a5-9237-e7f44dfddff9\">\n",
              "    <div class=\"colab-df-container\">\n",
              "      <div>\n",
              "<style scoped>\n",
              "    .dataframe tbody tr th:only-of-type {\n",
              "        vertical-align: middle;\n",
              "    }\n",
              "\n",
              "    .dataframe tbody tr th {\n",
              "        vertical-align: top;\n",
              "    }\n",
              "\n",
              "    .dataframe thead th {\n",
              "        text-align: right;\n",
              "    }\n",
              "</style>\n",
              "<table border=\"1\" class=\"dataframe\">\n",
              "  <thead>\n",
              "    <tr style=\"text-align: right;\">\n",
              "      <th></th>\n",
              "      <th>Name</th>\n",
              "      <th>ID</th>\n",
              "      <th>Foto</th>\n",
              "      <th>UF</th>\n",
              "      <th>Gender</th>\n",
              "      <th>Party</th>\n",
              "    </tr>\n",
              "  </thead>\n",
              "  <tbody>\n",
              "    <tr>\n",
              "      <th>10</th>\n",
              "      <td>Dilceu Sperafico</td>\n",
              "      <td>73768</td>\n",
              "      <td>http://www.camara.gov.br/internet/deputado/ban...</td>\n",
              "      <td>PR</td>\n",
              "      <td>masculino</td>\n",
              "      <td>PP</td>\n",
              "    </tr>\n",
              "    <tr>\n",
              "      <th>29</th>\n",
              "      <td>Giacobo</td>\n",
              "      <td>74383</td>\n",
              "      <td>http://www.camara.gov.br/internet/deputado/ban...</td>\n",
              "      <td>PR</td>\n",
              "      <td>masculino</td>\n",
              "      <td>PL</td>\n",
              "    </tr>\n",
              "    <tr>\n",
              "      <th>98</th>\n",
              "      <td>Zeca Dirceu</td>\n",
              "      <td>160592</td>\n",
              "      <td>http://www.camara.gov.br/internet/deputado/ban...</td>\n",
              "      <td>PR</td>\n",
              "      <td>masculino</td>\n",
              "      <td>PT</td>\n",
              "    </tr>\n",
              "    <tr>\n",
              "      <th>111</th>\n",
              "      <td>Luiz Nishimori</td>\n",
              "      <td>162332</td>\n",
              "      <td>http://www.camara.gov.br/internet/deputado/ban...</td>\n",
              "      <td>PR</td>\n",
              "      <td>masculino</td>\n",
              "      <td>PSD</td>\n",
              "    </tr>\n",
              "    <tr>\n",
              "      <th>145</th>\n",
              "      <td>Aliel Machado</td>\n",
              "      <td>178927</td>\n",
              "      <td>http://www.camara.gov.br/internet/deputado/ban...</td>\n",
              "      <td>PR</td>\n",
              "      <td>masculino</td>\n",
              "      <td>PV</td>\n",
              "    </tr>\n",
              "    <tr>\n",
              "      <th>146</th>\n",
              "      <td>Diego Garcia</td>\n",
              "      <td>178929</td>\n",
              "      <td>http://www.camara.gov.br/internet/deputado/ban...</td>\n",
              "      <td>PR</td>\n",
              "      <td>masculino</td>\n",
              "      <td>REPUBLICANOS</td>\n",
              "    </tr>\n",
              "    <tr>\n",
              "      <th>147</th>\n",
              "      <td>Luciano Ducci</td>\n",
              "      <td>178931</td>\n",
              "      <td>http://www.camara.gov.br/internet/deputado/ban...</td>\n",
              "      <td>PR</td>\n",
              "      <td>masculino</td>\n",
              "      <td>PSB</td>\n",
              "    </tr>\n",
              "    <tr>\n",
              "      <th>148</th>\n",
              "      <td>Sergio Souza</td>\n",
              "      <td>178933</td>\n",
              "      <td>http://www.camara.gov.br/internet/deputado/ban...</td>\n",
              "      <td>PR</td>\n",
              "      <td>masculino</td>\n",
              "      <td>MDB</td>\n",
              "    </tr>\n",
              "    <tr>\n",
              "      <th>149</th>\n",
              "      <td>Toninho Wandscheer</td>\n",
              "      <td>178934</td>\n",
              "      <td>http://www.camara.gov.br/internet/deputado/ban...</td>\n",
              "      <td>PR</td>\n",
              "      <td>masculino</td>\n",
              "      <td>PP</td>\n",
              "    </tr>\n",
              "    <tr>\n",
              "      <th>176</th>\n",
              "      <td>Sargento Fahur</td>\n",
              "      <td>204387</td>\n",
              "      <td>http://www.camara.gov.br/internet/deputado/ban...</td>\n",
              "      <td>PR</td>\n",
              "      <td>masculino</td>\n",
              "      <td>PSD</td>\n",
              "    </tr>\n",
              "    <tr>\n",
              "      <th>228</th>\n",
              "      <td>Tadeu Veneri</td>\n",
              "      <td>220682</td>\n",
              "      <td>http://www.camara.gov.br/internet/deputado/ban...</td>\n",
              "      <td>PR</td>\n",
              "      <td>masculino</td>\n",
              "      <td>PT</td>\n",
              "    </tr>\n",
              "    <tr>\n",
              "      <th>229</th>\n",
              "      <td>Pedro Lupion</td>\n",
              "      <td>204395</td>\n",
              "      <td>http://www.camara.gov.br/internet/deputado/ban...</td>\n",
              "      <td>PR</td>\n",
              "      <td>masculino</td>\n",
              "      <td>PP</td>\n",
              "    </tr>\n",
              "    <tr>\n",
              "      <th>230</th>\n",
              "      <td>Beto Richa</td>\n",
              "      <td>220683</td>\n",
              "      <td>http://www.camara.gov.br/internet/deputado/ban...</td>\n",
              "      <td>PR</td>\n",
              "      <td>masculino</td>\n",
              "      <td>PSDB</td>\n",
              "    </tr>\n",
              "    <tr>\n",
              "      <th>231</th>\n",
              "      <td>Vermelho</td>\n",
              "      <td>204396</td>\n",
              "      <td>http://www.camara.gov.br/internet/deputado/ban...</td>\n",
              "      <td>PR</td>\n",
              "      <td>masculino</td>\n",
              "      <td>PL</td>\n",
              "    </tr>\n",
              "    <tr>\n",
              "      <th>232</th>\n",
              "      <td>Tião Medeiros</td>\n",
              "      <td>220684</td>\n",
              "      <td>http://www.camara.gov.br/internet/deputado/ban...</td>\n",
              "      <td>PR</td>\n",
              "      <td>masculino</td>\n",
              "      <td>PP</td>\n",
              "    </tr>\n",
              "    <tr>\n",
              "      <th>233</th>\n",
              "      <td>Felipe Francischini</td>\n",
              "      <td>204398</td>\n",
              "      <td>http://www.camara.gov.br/internet/deputado/ban...</td>\n",
              "      <td>PR</td>\n",
              "      <td>masculino</td>\n",
              "      <td>UNIÃO</td>\n",
              "    </tr>\n",
              "    <tr>\n",
              "      <th>234</th>\n",
              "      <td>Paulo Litro</td>\n",
              "      <td>220685</td>\n",
              "      <td>http://www.camara.gov.br/internet/deputado/ban...</td>\n",
              "      <td>PR</td>\n",
              "      <td>masculino</td>\n",
              "      <td>PSD</td>\n",
              "    </tr>\n",
              "    <tr>\n",
              "      <th>235</th>\n",
              "      <td>Gleisi Hoffmann</td>\n",
              "      <td>107283</td>\n",
              "      <td>http://www.camara.gov.br/internet/deputado/ban...</td>\n",
              "      <td>PR</td>\n",
              "      <td>feminino</td>\n",
              "      <td>PT</td>\n",
              "    </tr>\n",
              "    <tr>\n",
              "      <th>291</th>\n",
              "      <td>Luisa Canziani</td>\n",
              "      <td>204410</td>\n",
              "      <td>http://www.camara.gov.br/internet/deputado/ban...</td>\n",
              "      <td>PR</td>\n",
              "      <td>feminino</td>\n",
              "      <td>PSD</td>\n",
              "    </tr>\n",
              "    <tr>\n",
              "      <th>292</th>\n",
              "      <td>Filipe Barros</td>\n",
              "      <td>204411</td>\n",
              "      <td>http://www.camara.gov.br/internet/deputado/ban...</td>\n",
              "      <td>PR</td>\n",
              "      <td>masculino</td>\n",
              "      <td>PL</td>\n",
              "    </tr>\n",
              "    <tr>\n",
              "      <th>407</th>\n",
              "      <td>Beto Preto</td>\n",
              "      <td>220698</td>\n",
              "      <td>http://www.camara.gov.br/internet/deputado/ban...</td>\n",
              "      <td>PR</td>\n",
              "      <td>masculino</td>\n",
              "      <td>PSD</td>\n",
              "    </tr>\n",
              "    <tr>\n",
              "      <th>438</th>\n",
              "      <td>Delegado Matheus Laiola</td>\n",
              "      <td>220701</td>\n",
              "      <td>http://www.camara.gov.br/internet/deputado/ban...</td>\n",
              "      <td>PR</td>\n",
              "      <td>masculino</td>\n",
              "      <td>UNIÃO</td>\n",
              "    </tr>\n",
              "    <tr>\n",
              "      <th>467</th>\n",
              "      <td>Geraldo Mendes</td>\n",
              "      <td>220702</td>\n",
              "      <td>http://www.camara.gov.br/internet/deputado/ban...</td>\n",
              "      <td>PR</td>\n",
              "      <td>masculino</td>\n",
              "      <td>UNIÃO</td>\n",
              "    </tr>\n",
              "    <tr>\n",
              "      <th>471</th>\n",
              "      <td>Carol Dartora</td>\n",
              "      <td>220704</td>\n",
              "      <td>http://www.camara.gov.br/internet/deputado/ban...</td>\n",
              "      <td>PR</td>\n",
              "      <td>feminino</td>\n",
              "      <td>PT</td>\n",
              "    </tr>\n",
              "    <tr>\n",
              "      <th>475</th>\n",
              "      <td>Deltan Dallagnol</td>\n",
              "      <td>220705</td>\n",
              "      <td>http://www.camara.gov.br/internet/deputado/ban...</td>\n",
              "      <td>PR</td>\n",
              "      <td>masculino</td>\n",
              "      <td>PODE</td>\n",
              "    </tr>\n",
              "    <tr>\n",
              "      <th>481</th>\n",
              "      <td>Padovani</td>\n",
              "      <td>220706</td>\n",
              "      <td>http://www.camara.gov.br/internet/deputado/ban...</td>\n",
              "      <td>PR</td>\n",
              "      <td>masculino</td>\n",
              "      <td>UNIÃO</td>\n",
              "    </tr>\n",
              "    <tr>\n",
              "      <th>502</th>\n",
              "      <td>Marco Brasil</td>\n",
              "      <td>219585</td>\n",
              "      <td>http://www.camara.gov.br/internet/deputado/ban...</td>\n",
              "      <td>PR</td>\n",
              "      <td>masculino</td>\n",
              "      <td>PP</td>\n",
              "    </tr>\n",
              "    <tr>\n",
              "      <th>507</th>\n",
              "      <td>Rodrigo Estacho</td>\n",
              "      <td>223128</td>\n",
              "      <td>http://www.camara.gov.br/internet/deputado/ban...</td>\n",
              "      <td>PR</td>\n",
              "      <td>masculino</td>\n",
              "      <td>PSD</td>\n",
              "    </tr>\n",
              "    <tr>\n",
              "      <th>511</th>\n",
              "      <td>Welter</td>\n",
              "      <td>224333</td>\n",
              "      <td>http://www.camara.gov.br/internet/deputado/ban...</td>\n",
              "      <td>PR</td>\n",
              "      <td>masculino</td>\n",
              "      <td>PT</td>\n",
              "    </tr>\n",
              "    <tr>\n",
              "      <th>512</th>\n",
              "      <td>Reinhold Stephanes</td>\n",
              "      <td>205865</td>\n",
              "      <td>http://www.camara.gov.br/internet/deputado/ban...</td>\n",
              "      <td>PR</td>\n",
              "      <td>masculino</td>\n",
              "      <td>PSD</td>\n",
              "    </tr>\n",
              "  </tbody>\n",
              "</table>\n",
              "</div>\n",
              "      <button class=\"colab-df-convert\" onclick=\"convertToInteractive('df-3c29e65c-927d-40a5-9237-e7f44dfddff9')\"\n",
              "              title=\"Convert this dataframe to an interactive table.\"\n",
              "              style=\"display:none;\">\n",
              "        \n",
              "  <svg xmlns=\"http://www.w3.org/2000/svg\" height=\"24px\"viewBox=\"0 0 24 24\"\n",
              "       width=\"24px\">\n",
              "    <path d=\"M0 0h24v24H0V0z\" fill=\"none\"/>\n",
              "    <path d=\"M18.56 5.44l.94 2.06.94-2.06 2.06-.94-2.06-.94-.94-2.06-.94 2.06-2.06.94zm-11 1L8.5 8.5l.94-2.06 2.06-.94-2.06-.94L8.5 2.5l-.94 2.06-2.06.94zm10 10l.94 2.06.94-2.06 2.06-.94-2.06-.94-.94-2.06-.94 2.06-2.06.94z\"/><path d=\"M17.41 7.96l-1.37-1.37c-.4-.4-.92-.59-1.43-.59-.52 0-1.04.2-1.43.59L10.3 9.45l-7.72 7.72c-.78.78-.78 2.05 0 2.83L4 21.41c.39.39.9.59 1.41.59.51 0 1.02-.2 1.41-.59l7.78-7.78 2.81-2.81c.8-.78.8-2.07 0-2.86zM5.41 20L4 18.59l7.72-7.72 1.47 1.35L5.41 20z\"/>\n",
              "  </svg>\n",
              "      </button>\n",
              "      \n",
              "  <style>\n",
              "    .colab-df-container {\n",
              "      display:flex;\n",
              "      flex-wrap:wrap;\n",
              "      gap: 12px;\n",
              "    }\n",
              "\n",
              "    .colab-df-convert {\n",
              "      background-color: #E8F0FE;\n",
              "      border: none;\n",
              "      border-radius: 50%;\n",
              "      cursor: pointer;\n",
              "      display: none;\n",
              "      fill: #1967D2;\n",
              "      height: 32px;\n",
              "      padding: 0 0 0 0;\n",
              "      width: 32px;\n",
              "    }\n",
              "\n",
              "    .colab-df-convert:hover {\n",
              "      background-color: #E2EBFA;\n",
              "      box-shadow: 0px 1px 2px rgba(60, 64, 67, 0.3), 0px 1px 3px 1px rgba(60, 64, 67, 0.15);\n",
              "      fill: #174EA6;\n",
              "    }\n",
              "\n",
              "    [theme=dark] .colab-df-convert {\n",
              "      background-color: #3B4455;\n",
              "      fill: #D2E3FC;\n",
              "    }\n",
              "\n",
              "    [theme=dark] .colab-df-convert:hover {\n",
              "      background-color: #434B5C;\n",
              "      box-shadow: 0px 1px 3px 1px rgba(0, 0, 0, 0.15);\n",
              "      filter: drop-shadow(0px 1px 2px rgba(0, 0, 0, 0.3));\n",
              "      fill: #FFFFFF;\n",
              "    }\n",
              "  </style>\n",
              "\n",
              "      <script>\n",
              "        const buttonEl =\n",
              "          document.querySelector('#df-3c29e65c-927d-40a5-9237-e7f44dfddff9 button.colab-df-convert');\n",
              "        buttonEl.style.display =\n",
              "          google.colab.kernel.accessAllowed ? 'block' : 'none';\n",
              "\n",
              "        async function convertToInteractive(key) {\n",
              "          const element = document.querySelector('#df-3c29e65c-927d-40a5-9237-e7f44dfddff9');\n",
              "          const dataTable =\n",
              "            await google.colab.kernel.invokeFunction('convertToInteractive',\n",
              "                                                     [key], {});\n",
              "          if (!dataTable) return;\n",
              "\n",
              "          const docLinkHtml = 'Like what you see? Visit the ' +\n",
              "            '<a target=\"_blank\" href=https://colab.research.google.com/notebooks/data_table.ipynb>data table notebook</a>'\n",
              "            + ' to learn more about interactive tables.';\n",
              "          element.innerHTML = '';\n",
              "          dataTable['output_type'] = 'display_data';\n",
              "          await google.colab.output.renderOutput(dataTable, element);\n",
              "          const docLink = document.createElement('div');\n",
              "          docLink.innerHTML = docLinkHtml;\n",
              "          element.appendChild(docLink);\n",
              "        }\n",
              "      </script>\n",
              "    </div>\n",
              "  </div>\n",
              "  "
            ]
          },
          "metadata": {},
          "execution_count": 9
        }
      ]
    },
    {
      "cell_type": "markdown",
      "source": [
        "We could want to verify if we have any missing data by asking for info()."
      ],
      "metadata": {
        "id": "_lVUBabIxeSg"
      }
    },
    {
      "cell_type": "code",
      "source": [
        "Deputados.info()"
      ],
      "metadata": {
        "colab": {
          "base_uri": "https://localhost:8080/"
        },
        "id": "NJzLVWW1t0Wi",
        "outputId": "059185c2-f177-4f99-df7b-8b991af95719"
      },
      "execution_count": 10,
      "outputs": [
        {
          "output_type": "stream",
          "name": "stdout",
          "text": [
            "<class 'pandas.core.frame.DataFrame'>\n",
            "RangeIndex: 513 entries, 0 to 512\n",
            "Data columns (total 6 columns):\n",
            " #   Column  Non-Null Count  Dtype \n",
            "---  ------  --------------  ----- \n",
            " 0   Name    513 non-null    object\n",
            " 1   ID      513 non-null    object\n",
            " 2   Foto    513 non-null    object\n",
            " 3   UF      513 non-null    object\n",
            " 4   Gender  513 non-null    object\n",
            " 5   Party   513 non-null    object\n",
            "dtypes: object(6)\n",
            "memory usage: 24.2+ KB\n"
          ]
        }
      ]
    },
    {
      "cell_type": "markdown",
      "source": [
        "\n",
        "Do you see how each column has the same number of elements: 513?\n",
        "Knowing that there should be 513 Congresspersons, it seems that there is no missing information.\n",
        "\n"
      ],
      "metadata": {
        "id": "VrLmAjWlxlxP"
      }
    },
    {
      "cell_type": "markdown",
      "source": [
        "We could also request to describe the UF's, although the result should not bring any new information:\n",
        "<br> \n",
        "*   There should be 513 Congresspersons.\n",
        "*   Brazil has 26 UF's + the Federal District, so it should be 27 unique UF's.\n",
        "*   Sao Paulo is the state with more congresspersons.\n",
        "<br>\n",
        "*What about those that are temporarily replacing a congressperson, would they be added to this list?*"
      ],
      "metadata": {
        "id": "lSddJYiny0jO"
      }
    },
    {
      "cell_type": "code",
      "source": [
        "Deputados['UF'].describe()"
      ],
      "metadata": {
        "colab": {
          "base_uri": "https://localhost:8080/"
        },
        "id": "XXL-POERyOcW",
        "outputId": "1156f360-97ab-4a3c-b0e7-692a877ebf76"
      },
      "execution_count": 11,
      "outputs": [
        {
          "output_type": "execute_result",
          "data": {
            "text/plain": [
              "count     513\n",
              "unique     27\n",
              "top        SP\n",
              "freq       70\n",
              "Name: UF, dtype: object"
            ]
          },
          "metadata": {},
          "execution_count": 11
        }
      ]
    },
    {
      "cell_type": "markdown",
      "source": [
        "But we can also want to see how they are gender classified:"
      ],
      "metadata": {
        "id": "3utY1sSFx-fY"
      }
    },
    {
      "cell_type": "code",
      "source": [
        "Deputados['Gender'].value_counts()"
      ],
      "metadata": {
        "colab": {
          "base_uri": "https://localhost:8080/"
        },
        "id": "03wfh0Z9uLma",
        "outputId": "3315044e-565b-4d71-c906-cd754124f0ff"
      },
      "execution_count": 12,
      "outputs": [
        {
          "output_type": "execute_result",
          "data": {
            "text/plain": [
              "masculino    426\n",
              "feminino      87\n",
              "Name: Gender, dtype: int64"
            ]
          },
          "metadata": {},
          "execution_count": 12
        }
      ]
    },
    {
      "cell_type": "markdown",
      "source": [
        "And make a pie chart of it:"
      ],
      "metadata": {
        "id": "HYKLvLCSyIlt"
      }
    },
    {
      "cell_type": "code",
      "source": [
        "Deputados['Gender'].value_counts().plot(kind=\"pie\")"
      ],
      "metadata": {
        "colab": {
          "base_uri": "https://localhost:8080/",
          "height": 423
        },
        "id": "EiM61mOzuYRX",
        "outputId": "fbcd9152-3845-4c95-d8d1-5d29dbc18f16"
      },
      "execution_count": 13,
      "outputs": [
        {
          "output_type": "execute_result",
          "data": {
            "text/plain": [
              "<Axes: ylabel='Gender'>"
            ]
          },
          "metadata": {},
          "execution_count": 13
        },
        {
          "output_type": "display_data",
          "data": {
            "text/plain": [
              "<Figure size 640x480 with 1 Axes>"
            ],
            "image/png": "[encoded data removed]"
          },
          "metadata": {}
        }
      ]
    },
    {
      "cell_type": "markdown",
      "source": [
        "This can get interesting when verifying the correlation between political party and gender, or UF and gender."
      ],
      "metadata": {
        "id": "LtqzJSfd5wAP"
      }
    },
    {
      "cell_type": "markdown",
      "source": [
        "## Adding other sources of data"
      ],
      "metadata": {
        "id": "vnp0-OgQ3Wd2"
      }
    },
    {
      "cell_type": "markdown",
      "source": [
        "Let's use another endpoint to retrieve information such as the birth date and the level of studies of each congressperson. So we start by creating a list for each element.\n",
        "<br><br>\n",
        "The API endpoint where this information comes from has a static portion and a dynamic portion, let's have the Static portion declared:"
      ],
      "metadata": {
        "id": "wcpQ_gRfNOgF"
      }
    },
    {
      "cell_type": "code",
      "source": [
        "bdate = []\n",
        "studies = []\n",
        "\n",
        "Static_URL = \"https://dadosabertos.camara.leg.br/api/v2/deputados/\""
      ],
      "metadata": {
        "id": "w7NVvxe6Kfwc"
      },
      "execution_count": 14,
      "outputs": []
    },
    {
      "cell_type": "markdown",
      "source": [
        "\n",
        "\n",
        "*   The dynamic portion of the URL is the ID of each congressperson.\n",
        "*   So, for every element in ID - that we will call i - we will get a specific URL (i_URL).\n",
        "*   Run a requests.get on this i_URL and get the text/xml data.\n",
        "*   Using ET we will get the content of the xml.\n",
        "*   Now we just extract the data we want and append it to the correspondent list."
      ],
      "metadata": {
        "id": "5FtoGjDiKkUC"
      }
    },
    {
      "cell_type": "code",
      "source": [
        "for i in Deputados['ID']:\n",
        "    i_URL = Static_URL + str(i)\n",
        "    response = requests.get(url=i_URL, headers={'Accept': 'text/xml'})\n",
        "    root2 = ET.fromstring(response.content)\n",
        "    for data in root2.iter('dataNascimento'):\n",
        "      bdate.append(data.text)\n",
        "    for info in root2.iter('escolaridade'):\n",
        "      studies.append(info.text)"
      ],
      "metadata": {
        "id": "5mEZNweMI5dz"
      },
      "execution_count": 15,
      "outputs": []
    },
    {
      "cell_type": "markdown",
      "source": [
        "Just like with our previous data frame, create a dictionary that contains the values extracted. <br><br> Add the ID column so it is used as reference to join the Deputados dictionary with the new_df correctly."
      ],
      "metadata": {
        "id": "-J1NqFW1GJun"
      }
    },
    {
      "cell_type": "code",
      "source": [
        "new_df = pd.DataFrame({'ID': dep_id, 'Birthdate': bdate, 'Scolarity': studies})"
      ],
      "metadata": {
        "id": "-FWqpEe08VRM"
      },
      "execution_count": 16,
      "outputs": []
    },
    {
      "cell_type": "code",
      "source": [
        "Deputados = Deputados.join(new_df, lsuffix=\"_left\", rsuffix=\"_right\", how='left')"
      ],
      "metadata": {
        "id": "UVcG4ROp-Sks"
      },
      "execution_count": 17,
      "outputs": []
    },
    {
      "cell_type": "markdown",
      "source": [
        "Now our Deputados dataframe is bigger!"
      ],
      "metadata": {
        "id": "GIoiseYGL4v2"
      }
    },
    {
      "cell_type": "code",
      "source": [
        "Deputados.head(513)"
      ],
      "metadata": {
        "id": "uq9AjfZWEid2",
        "colab": {
          "base_uri": "https://localhost:8080/",
          "height": 424
        },
        "outputId": "4db0f93e-14ea-40b6-df76-b99ca1e1cfac"
      },
      "execution_count": 18,
      "outputs": [
        {
          "output_type": "execute_result",
          "data": {
            "text/plain": [
              "                   Name ID_left  \\\n",
              "0     Benedita da Silva   73701   \n",
              "1            Átila Lins   74090   \n",
              "2     Renildo Calheiros   73801   \n",
              "3       Jandira Feghali   74848   \n",
              "4        Lídice da Mata  139285   \n",
              "..                  ...     ...   \n",
              "508   Leônidas Cristino   74299   \n",
              "509     Luciano Azevedo  103758   \n",
              "510        Gabriel Mota  224117   \n",
              "511              Welter  224333   \n",
              "512  Reinhold Stephanes  205865   \n",
              "\n",
              "                                                  Foto  UF     Gender  \\\n",
              "0    http://www.camara.gov.br/internet/deputado/ban...  RJ   feminino   \n",
              "1    http://www.camara.gov.br/internet/deputado/ban...  AM  masculino   \n",
              "2    http://www.camara.gov.br/internet/deputado/ban...  PE  masculino   \n",
              "3    http://www.camara.gov.br/internet/deputado/ban...  RJ   feminino   \n",
              "4    http://www.camara.gov.br/internet/deputado/ban...  BA   feminino   \n",
              "..                                                 ...  ..        ...   \n",
              "508  http://www.camara.gov.br/internet/deputado/ban...  CE  masculino   \n",
              "509  http://www.camara.gov.br/internet/deputado/ban...  RS  masculino   \n",
              "510  http://www.camara.gov.br/internet/deputado/ban...  RR  masculino   \n",
              "511  http://www.camara.gov.br/internet/deputado/ban...  PR  masculino   \n",
              "512  http://www.camara.gov.br/internet/deputado/ban...  PR  masculino   \n",
              "\n",
              "            Party ID_right   Birthdate      Scolarity  \n",
              "0              PT    73701  1942-04-26       Superior  \n",
              "1             PSD    74090  1950-11-22       Superior  \n",
              "2           PCdoB    73801  1959-04-20       Superior  \n",
              "3           PCdoB    74848  1957-05-17  Pós-Graduação  \n",
              "4             PSB   139285  1956-03-12       Superior  \n",
              "..            ...      ...         ...            ...  \n",
              "508           PDT    74299  1957-06-03       Superior  \n",
              "509           PSD   103758  1969-05-24       Superior  \n",
              "510  REPUBLICANOS   224117  1982-12-24           None  \n",
              "511            PT   224333  1968-11-23       Superior  \n",
              "512           PSD   205865  1965-07-26       Superior  \n",
              "\n",
              "[513 rows x 9 columns]"
            ],
            "text/html": [
              "\n",
              "  <div id=\"df-feaad50f-6a26-4de2-8860-eaed1fe830c7\">\n",
              "    <div class=\"colab-df-container\">\n",
              "      <div>\n",
              "<style scoped>\n",
              "    .dataframe tbody tr th:only-of-type {\n",
              "        vertical-align: middle;\n",
              "    }\n",
              "\n",
              "    .dataframe tbody tr th {\n",
              "        vertical-align: top;\n",
              "    }\n",
              "\n",
              "    .dataframe thead th {\n",
              "        text-align: right;\n",
              "    }\n",
              "</style>\n",
              "<table border=\"1\" class=\"dataframe\">\n",
              "  <thead>\n",
              "    <tr style=\"text-align: right;\">\n",
              "      <th></th>\n",
              "      <th>Name</th>\n",
              "      <th>ID_left</th>\n",
              "      <th>Foto</th>\n",
              "      <th>UF</th>\n",
              "      <th>Gender</th>\n",
              "      <th>Party</th>\n",
              "      <th>ID_right</th>\n",
              "      <th>Birthdate</th>\n",
              "      <th>Scolarity</th>\n",
              "    </tr>\n",
              "  </thead>\n",
              "  <tbody>\n",
              "    <tr>\n",
              "      <th>0</th>\n",
              "      <td>Benedita da Silva</td>\n",
              "      <td>73701</td>\n",
              "      <td>http://www.camara.gov.br/internet/deputado/ban...</td>\n",
              "      <td>RJ</td>\n",
              "      <td>feminino</td>\n",
              "      <td>PT</td>\n",
              "      <td>73701</td>\n",
              "      <td>1942-04-26</td>\n",
              "      <td>Superior</td>\n",
              "    </tr>\n",
              "    <tr>\n",
              "      <th>1</th>\n",
              "      <td>Átila Lins</td>\n",
              "      <td>74090</td>\n",
              "      <td>http://www.camara.gov.br/internet/deputado/ban...</td>\n",
              "      <td>AM</td>\n",
              "      <td>masculino</td>\n",
              "      <td>PSD</td>\n",
              "      <td>74090</td>\n",
              "      <td>1950-11-22</td>\n",
              "      <td>Superior</td>\n",
              "    </tr>\n",
              "    <tr>\n",
              "      <th>2</th>\n",
              "      <td>Renildo Calheiros</td>\n",
              "      <td>73801</td>\n",
              "      <td>http://www.camara.gov.br/internet/deputado/ban...</td>\n",
              "      <td>PE</td>\n",
              "      <td>masculino</td>\n",
              "      <td>PCdoB</td>\n",
              "      <td>73801</td>\n",
              "      <td>1959-04-20</td>\n",
              "      <td>Superior</td>\n",
              "    </tr>\n",
              "    <tr>\n",
              "      <th>3</th>\n",
              "      <td>Jandira Feghali</td>\n",
              "      <td>74848</td>\n",
              "      <td>http://www.camara.gov.br/internet/deputado/ban...</td>\n",
              "      <td>RJ</td>\n",
              "      <td>feminino</td>\n",
              "      <td>PCdoB</td>\n",
              "      <td>74848</td>\n",
              "      <td>1957-05-17</td>\n",
              "      <td>Pós-Graduação</td>\n",
              "    </tr>\n",
              "    <tr>\n",
              "      <th>4</th>\n",
              "      <td>Lídice da Mata</td>\n",
              "      <td>139285</td>\n",
              "      <td>http://www.camara.gov.br/internet/deputado/ban...</td>\n",
              "      <td>BA</td>\n",
              "      <td>feminino</td>\n",
              "      <td>PSB</td>\n",
              "      <td>139285</td>\n",
              "      <td>1956-03-12</td>\n",
              "      <td>Superior</td>\n",
              "    </tr>\n",
              "    <tr>\n",
              "      <th>...</th>\n",
              "      <td>...</td>\n",
              "      <td>...</td>\n",
              "      <td>...</td>\n",
              "      <td>...</td>\n",
              "      <td>...</td>\n",
              "      <td>...</td>\n",
              "      <td>...</td>\n",
              "      <td>...</td>\n",
              "      <td>...</td>\n",
              "    </tr>\n",
              "    <tr>\n",
              "      <th>508</th>\n",
              "      <td>Leônidas Cristino</td>\n",
              "      <td>74299</td>\n",
              "      <td>http://www.camara.gov.br/internet/deputado/ban...</td>\n",
              "      <td>CE</td>\n",
              "      <td>masculino</td>\n",
              "      <td>PDT</td>\n",
              "      <td>74299</td>\n",
              "      <td>1957-06-03</td>\n",
              "      <td>Superior</td>\n",
              "    </tr>\n",
              "    <tr>\n",
              "      <th>509</th>\n",
              "      <td>Luciano Azevedo</td>\n",
              "      <td>103758</td>\n",
              "      <td>http://www.camara.gov.br/internet/deputado/ban...</td>\n",
              "      <td>RS</td>\n",
              "      <td>masculino</td>\n",
              "      <td>PSD</td>\n",
              "      <td>103758</td>\n",
              "      <td>1969-05-24</td>\n",
              "      <td>Superior</td>\n",
              "    </tr>\n",
              "    <tr>\n",
              "      <th>510</th>\n",
              "      <td>Gabriel Mota</td>\n",
              "      <td>224117</td>\n",
              "      <td>http://www.camara.gov.br/internet/deputado/ban...</td>\n",
              "      <td>RR</td>\n",
              "      <td>masculino</td>\n",
              "      <td>REPUBLICANOS</td>\n",
              "      <td>224117</td>\n",
              "      <td>1982-12-24</td>\n",
              "      <td>None</td>\n",
              "    </tr>\n",
              "    <tr>\n",
              "      <th>511</th>\n",
              "      <td>Welter</td>\n",
              "      <td>224333</td>\n",
              "      <td>http://www.camara.gov.br/internet/deputado/ban...</td>\n",
              "      <td>PR</td>\n",
              "      <td>masculino</td>\n",
              "      <td>PT</td>\n",
              "      <td>224333</td>\n",
              "      <td>1968-11-23</td>\n",
              "      <td>Superior</td>\n",
              "    </tr>\n",
              "    <tr>\n",
              "      <th>512</th>\n",
              "      <td>Reinhold Stephanes</td>\n",
              "      <td>205865</td>\n",
              "      <td>http://www.camara.gov.br/internet/deputado/ban...</td>\n",
              "      <td>PR</td>\n",
              "      <td>masculino</td>\n",
              "      <td>PSD</td>\n",
              "      <td>205865</td>\n",
              "      <td>1965-07-26</td>\n",
              "      <td>Superior</td>\n",
              "    </tr>\n",
              "  </tbody>\n",
              "</table>\n",
              "<p>513 rows × 9 columns</p>\n",
              "</div>\n",
              "      <button class=\"colab-df-convert\" onclick=\"convertToInteractive('df-feaad50f-6a26-4de2-8860-eaed1fe830c7')\"\n",
              "              title=\"Convert this dataframe to an interactive table.\"\n",
              "              style=\"display:none;\">\n",
              "        \n",
              "  <svg xmlns=\"http://www.w3.org/2000/svg\" height=\"24px\"viewBox=\"0 0 24 24\"\n",
              "       width=\"24px\">\n",
              "    <path d=\"M0 0h24v24H0V0z\" fill=\"none\"/>\n",
              "    <path d=\"M18.56 5.44l.94 2.06.94-2.06 2.06-.94-2.06-.94-.94-2.06-.94 2.06-2.06.94zm-11 1L8.5 8.5l.94-2.06 2.06-.94-2.06-.94L8.5 2.5l-.94 2.06-2.06.94zm10 10l.94 2.06.94-2.06 2.06-.94-2.06-.94-.94-2.06-.94 2.06-2.06.94z\"/><path d=\"M17.41 7.96l-1.37-1.37c-.4-.4-.92-.59-1.43-.59-.52 0-1.04.2-1.43.59L10.3 9.45l-7.72 7.72c-.78.78-.78 2.05 0 2.83L4 21.41c.39.39.9.59 1.41.59.51 0 1.02-.2 1.41-.59l7.78-7.78 2.81-2.81c.8-.78.8-2.07 0-2.86zM5.41 20L4 18.59l7.72-7.72 1.47 1.35L5.41 20z\"/>\n",
              "  </svg>\n",
              "      </button>\n",
              "      \n",
              "  <style>\n",
              "    .colab-df-container {\n",
              "      display:flex;\n",
              "      flex-wrap:wrap;\n",
              "      gap: 12px;\n",
              "    }\n",
              "\n",
              "    .colab-df-convert {\n",
              "      background-color: #E8F0FE;\n",
              "      border: none;\n",
              "      border-radius: 50%;\n",
              "      cursor: pointer;\n",
              "      display: none;\n",
              "      fill: #1967D2;\n",
              "      height: 32px;\n",
              "      padding: 0 0 0 0;\n",
              "      width: 32px;\n",
              "    }\n",
              "\n",
              "    .colab-df-convert:hover {\n",
              "      background-color: #E2EBFA;\n",
              "      box-shadow: 0px 1px 2px rgba(60, 64, 67, 0.3), 0px 1px 3px 1px rgba(60, 64, 67, 0.15);\n",
              "      fill: #174EA6;\n",
              "    }\n",
              "\n",
              "    [theme=dark] .colab-df-convert {\n",
              "      background-color: #3B4455;\n",
              "      fill: #D2E3FC;\n",
              "    }\n",
              "\n",
              "    [theme=dark] .colab-df-convert:hover {\n",
              "      background-color: #434B5C;\n",
              "      box-shadow: 0px 1px 3px 1px rgba(0, 0, 0, 0.15);\n",
              "      filter: drop-shadow(0px 1px 2px rgba(0, 0, 0, 0.3));\n",
              "      fill: #FFFFFF;\n",
              "    }\n",
              "  </style>\n",
              "\n",
              "      <script>\n",
              "        const buttonEl =\n",
              "          document.querySelector('#df-feaad50f-6a26-4de2-8860-eaed1fe830c7 button.colab-df-convert');\n",
              "        buttonEl.style.display =\n",
              "          google.colab.kernel.accessAllowed ? 'block' : 'none';\n",
              "\n",
              "        async function convertToInteractive(key) {\n",
              "          const element = document.querySelector('#df-feaad50f-6a26-4de2-8860-eaed1fe830c7');\n",
              "          const dataTable =\n",
              "            await google.colab.kernel.invokeFunction('convertToInteractive',\n",
              "                                                     [key], {});\n",
              "          if (!dataTable) return;\n",
              "\n",
              "          const docLinkHtml = 'Like what you see? Visit the ' +\n",
              "            '<a target=\"_blank\" href=https://colab.research.google.com/notebooks/data_table.ipynb>data table notebook</a>'\n",
              "            + ' to learn more about interactive tables.';\n",
              "          element.innerHTML = '';\n",
              "          dataTable['output_type'] = 'display_data';\n",
              "          await google.colab.output.renderOutput(dataTable, element);\n",
              "          const docLink = document.createElement('div');\n",
              "          docLink.innerHTML = docLinkHtml;\n",
              "          element.appendChild(docLink);\n",
              "        }\n",
              "      </script>\n",
              "    </div>\n",
              "  </div>\n",
              "  "
            ]
          },
          "metadata": {},
          "execution_count": 18
        }
      ]
    },
    {
      "cell_type": "markdown",
      "source": [
        "We do not want duplicated columns, so let's drop the ID_right column:"
      ],
      "metadata": {
        "id": "DD-bfggJJaRJ"
      }
    },
    {
      "cell_type": "code",
      "source": [
        "Deputados.drop('ID_right', inplace=True, axis=1)"
      ],
      "metadata": {
        "id": "c9vNeEPGDx3k"
      },
      "execution_count": 19,
      "outputs": []
    },
    {
      "cell_type": "markdown",
      "source": [
        "Let's rename the ID_left column name to ID:"
      ],
      "metadata": {
        "id": "H1qs5it5KKna"
      }
    },
    {
      "cell_type": "code",
      "source": [
        "Deputados.rename(columns={\"ID_left\": \"ID\"})"
      ],
      "metadata": {
        "colab": {
          "base_uri": "https://localhost:8080/",
          "height": 655
        },
        "id": "kQWlk7iwKGsU",
        "outputId": "8e7f0da2-facc-4497-85c2-e3e3cafbcef8"
      },
      "execution_count": 20,
      "outputs": [
        {
          "output_type": "execute_result",
          "data": {
            "text/plain": [
              "                   Name      ID  \\\n",
              "0     Benedita da Silva   73701   \n",
              "1            Átila Lins   74090   \n",
              "2     Renildo Calheiros   73801   \n",
              "3       Jandira Feghali   74848   \n",
              "4        Lídice da Mata  139285   \n",
              "..                  ...     ...   \n",
              "508   Leônidas Cristino   74299   \n",
              "509     Luciano Azevedo  103758   \n",
              "510        Gabriel Mota  224117   \n",
              "511              Welter  224333   \n",
              "512  Reinhold Stephanes  205865   \n",
              "\n",
              "                                                  Foto  UF     Gender  \\\n",
              "0    http://www.camara.gov.br/internet/deputado/ban...  RJ   feminino   \n",
              "1    http://www.camara.gov.br/internet/deputado/ban...  AM  masculino   \n",
              "2    http://www.camara.gov.br/internet/deputado/ban...  PE  masculino   \n",
              "3    http://www.camara.gov.br/internet/deputado/ban...  RJ   feminino   \n",
              "4    http://www.camara.gov.br/internet/deputado/ban...  BA   feminino   \n",
              "..                                                 ...  ..        ...   \n",
              "508  http://www.camara.gov.br/internet/deputado/ban...  CE  masculino   \n",
              "509  http://www.camara.gov.br/internet/deputado/ban...  RS  masculino   \n",
              "510  http://www.camara.gov.br/internet/deputado/ban...  RR  masculino   \n",
              "511  http://www.camara.gov.br/internet/deputado/ban...  PR  masculino   \n",
              "512  http://www.camara.gov.br/internet/deputado/ban...  PR  masculino   \n",
              "\n",
              "            Party   Birthdate      Scolarity  \n",
              "0              PT  1942-04-26       Superior  \n",
              "1             PSD  1950-11-22       Superior  \n",
              "2           PCdoB  1959-04-20       Superior  \n",
              "3           PCdoB  1957-05-17  Pós-Graduação  \n",
              "4             PSB  1956-03-12       Superior  \n",
              "..            ...         ...            ...  \n",
              "508           PDT  1957-06-03       Superior  \n",
              "509           PSD  1969-05-24       Superior  \n",
              "510  REPUBLICANOS  1982-12-24           None  \n",
              "511            PT  1968-11-23       Superior  \n",
              "512           PSD  1965-07-26       Superior  \n",
              "\n",
              "[513 rows x 8 columns]"
            ],
            "text/html": [
              "\n",
              "  <div id=\"df-5c0fdfb6-bba6-40db-9dd7-18ae75a9ac60\">\n",
              "    <div class=\"colab-df-container\">\n",
              "      <div>\n",
              "<style scoped>\n",
              "    .dataframe tbody tr th:only-of-type {\n",
              "        vertical-align: middle;\n",
              "    }\n",
              "\n",
              "    .dataframe tbody tr th {\n",
              "        vertical-align: top;\n",
              "    }\n",
              "\n",
              "    .dataframe thead th {\n",
              "        text-align: right;\n",
              "    }\n",
              "</style>\n",
              "<table border=\"1\" class=\"dataframe\">\n",
              "  <thead>\n",
              "    <tr style=\"text-align: right;\">\n",
              "      <th></th>\n",
              "      <th>Name</th>\n",
              "      <th>ID</th>\n",
              "      <th>Foto</th>\n",
              "      <th>UF</th>\n",
              "      <th>Gender</th>\n",
              "      <th>Party</th>\n",
              "      <th>Birthdate</th>\n",
              "      <th>Scolarity</th>\n",
              "    </tr>\n",
              "  </thead>\n",
              "  <tbody>\n",
              "    <tr>\n",
              "      <th>0</th>\n",
              "      <td>Benedita da Silva</td>\n",
              "      <td>73701</td>\n",
              "      <td>http://www.camara.gov.br/internet/deputado/ban...</td>\n",
              "      <td>RJ</td>\n",
              "      <td>feminino</td>\n",
              "      <td>PT</td>\n",
              "      <td>1942-04-26</td>\n",
              "      <td>Superior</td>\n",
              "    </tr>\n",
              "    <tr>\n",
              "      <th>1</th>\n",
              "      <td>Átila Lins</td>\n",
              "      <td>74090</td>\n",
              "      <td>http://www.camara.gov.br/internet/deputado/ban...</td>\n",
              "      <td>AM</td>\n",
              "      <td>masculino</td>\n",
              "      <td>PSD</td>\n",
              "      <td>1950-11-22</td>\n",
              "      <td>Superior</td>\n",
              "    </tr>\n",
              "    <tr>\n",
              "      <th>2</th>\n",
              "      <td>Renildo Calheiros</td>\n",
              "      <td>73801</td>\n",
              "      <td>http://www.camara.gov.br/internet/deputado/ban...</td>\n",
              "      <td>PE</td>\n",
              "      <td>masculino</td>\n",
              "      <td>PCdoB</td>\n",
              "      <td>1959-04-20</td>\n",
              "      <td>Superior</td>\n",
              "    </tr>\n",
              "    <tr>\n",
              "      <th>3</th>\n",
              "      <td>Jandira Feghali</td>\n",
              "      <td>74848</td>\n",
              "      <td>http://www.camara.gov.br/internet/deputado/ban...</td>\n",
              "      <td>RJ</td>\n",
              "      <td>feminino</td>\n",
              "      <td>PCdoB</td>\n",
              "      <td>1957-05-17</td>\n",
              "      <td>Pós-Graduação</td>\n",
              "    </tr>\n",
              "    <tr>\n",
              "      <th>4</th>\n",
              "      <td>Lídice da Mata</td>\n",
              "      <td>139285</td>\n",
              "      <td>http://www.camara.gov.br/internet/deputado/ban...</td>\n",
              "      <td>BA</td>\n",
              "      <td>feminino</td>\n",
              "      <td>PSB</td>\n",
              "      <td>1956-03-12</td>\n",
              "      <td>Superior</td>\n",
              "    </tr>\n",
              "    <tr>\n",
              "      <th>...</th>\n",
              "      <td>...</td>\n",
              "      <td>...</td>\n",
              "      <td>...</td>\n",
              "      <td>...</td>\n",
              "      <td>...</td>\n",
              "      <td>...</td>\n",
              "      <td>...</td>\n",
              "      <td>...</td>\n",
              "    </tr>\n",
              "    <tr>\n",
              "      <th>508</th>\n",
              "      <td>Leônidas Cristino</td>\n",
              "      <td>74299</td>\n",
              "      <td>http://www.camara.gov.br/internet/deputado/ban...</td>\n",
              "      <td>CE</td>\n",
              "      <td>masculino</td>\n",
              "      <td>PDT</td>\n",
              "      <td>1957-06-03</td>\n",
              "      <td>Superior</td>\n",
              "    </tr>\n",
              "    <tr>\n",
              "      <th>509</th>\n",
              "      <td>Luciano Azevedo</td>\n",
              "      <td>103758</td>\n",
              "      <td>http://www.camara.gov.br/internet/deputado/ban...</td>\n",
              "      <td>RS</td>\n",
              "      <td>masculino</td>\n",
              "      <td>PSD</td>\n",
              "      <td>1969-05-24</td>\n",
              "      <td>Superior</td>\n",
              "    </tr>\n",
              "    <tr>\n",
              "      <th>510</th>\n",
              "      <td>Gabriel Mota</td>\n",
              "      <td>224117</td>\n",
              "      <td>http://www.camara.gov.br/internet/deputado/ban...</td>\n",
              "      <td>RR</td>\n",
              "      <td>masculino</td>\n",
              "      <td>REPUBLICANOS</td>\n",
              "      <td>1982-12-24</td>\n",
              "      <td>None</td>\n",
              "    </tr>\n",
              "    <tr>\n",
              "      <th>511</th>\n",
              "      <td>Welter</td>\n",
              "      <td>224333</td>\n",
              "      <td>http://www.camara.gov.br/internet/deputado/ban...</td>\n",
              "      <td>PR</td>\n",
              "      <td>masculino</td>\n",
              "      <td>PT</td>\n",
              "      <td>1968-11-23</td>\n",
              "      <td>Superior</td>\n",
              "    </tr>\n",
              "    <tr>\n",
              "      <th>512</th>\n",
              "      <td>Reinhold Stephanes</td>\n",
              "      <td>205865</td>\n",
              "      <td>http://www.camara.gov.br/internet/deputado/ban...</td>\n",
              "      <td>PR</td>\n",
              "      <td>masculino</td>\n",
              "      <td>PSD</td>\n",
              "      <td>1965-07-26</td>\n",
              "      <td>Superior</td>\n",
              "    </tr>\n",
              "  </tbody>\n",
              "</table>\n",
              "<p>513 rows × 8 columns</p>\n",
              "</div>\n",
              "      <button class=\"colab-df-convert\" onclick=\"convertToInteractive('df-5c0fdfb6-bba6-40db-9dd7-18ae75a9ac60')\"\n",
              "              title=\"Convert this dataframe to an interactive table.\"\n",
              "              style=\"display:none;\">\n",
              "        \n",
              "  <svg xmlns=\"http://www.w3.org/2000/svg\" height=\"24px\"viewBox=\"0 0 24 24\"\n",
              "       width=\"24px\">\n",
              "    <path d=\"M0 0h24v24H0V0z\" fill=\"none\"/>\n",
              "    <path d=\"M18.56 5.44l.94 2.06.94-2.06 2.06-.94-2.06-.94-.94-2.06-.94 2.06-2.06.94zm-11 1L8.5 8.5l.94-2.06 2.06-.94-2.06-.94L8.5 2.5l-.94 2.06-2.06.94zm10 10l.94 2.06.94-2.06 2.06-.94-2.06-.94-.94-2.06-.94 2.06-2.06.94z\"/><path d=\"M17.41 7.96l-1.37-1.37c-.4-.4-.92-.59-1.43-.59-.52 0-1.04.2-1.43.59L10.3 9.45l-7.72 7.72c-.78.78-.78 2.05 0 2.83L4 21.41c.39.39.9.59 1.41.59.51 0 1.02-.2 1.41-.59l7.78-7.78 2.81-2.81c.8-.78.8-2.07 0-2.86zM5.41 20L4 18.59l7.72-7.72 1.47 1.35L5.41 20z\"/>\n",
              "  </svg>\n",
              "      </button>\n",
              "      \n",
              "  <style>\n",
              "    .colab-df-container {\n",
              "      display:flex;\n",
              "      flex-wrap:wrap;\n",
              "      gap: 12px;\n",
              "    }\n",
              "\n",
              "    .colab-df-convert {\n",
              "      background-color: #E8F0FE;\n",
              "      border: none;\n",
              "      border-radius: 50%;\n",
              "      cursor: pointer;\n",
              "      display: none;\n",
              "      fill: #1967D2;\n",
              "      height: 32px;\n",
              "      padding: 0 0 0 0;\n",
              "      width: 32px;\n",
              "    }\n",
              "\n",
              "    .colab-df-convert:hover {\n",
              "      background-color: #E2EBFA;\n",
              "      box-shadow: 0px 1px 2px rgba(60, 64, 67, 0.3), 0px 1px 3px 1px rgba(60, 64, 67, 0.15);\n",
              "      fill: #174EA6;\n",
              "    }\n",
              "\n",
              "    [theme=dark] .colab-df-convert {\n",
              "      background-color: #3B4455;\n",
              "      fill: #D2E3FC;\n",
              "    }\n",
              "\n",
              "    [theme=dark] .colab-df-convert:hover {\n",
              "      background-color: #434B5C;\n",
              "      box-shadow: 0px 1px 3px 1px rgba(0, 0, 0, 0.15);\n",
              "      filter: drop-shadow(0px 1px 2px rgba(0, 0, 0, 0.3));\n",
              "      fill: #FFFFFF;\n",
              "    }\n",
              "  </style>\n",
              "\n",
              "      <script>\n",
              "        const buttonEl =\n",
              "          document.querySelector('#df-5c0fdfb6-bba6-40db-9dd7-18ae75a9ac60 button.colab-df-convert');\n",
              "        buttonEl.style.display =\n",
              "          google.colab.kernel.accessAllowed ? 'block' : 'none';\n",
              "\n",
              "        async function convertToInteractive(key) {\n",
              "          const element = document.querySelector('#df-5c0fdfb6-bba6-40db-9dd7-18ae75a9ac60');\n",
              "          const dataTable =\n",
              "            await google.colab.kernel.invokeFunction('convertToInteractive',\n",
              "                                                     [key], {});\n",
              "          if (!dataTable) return;\n",
              "\n",
              "          const docLinkHtml = 'Like what you see? Visit the ' +\n",
              "            '<a target=\"_blank\" href=https://colab.research.google.com/notebooks/data_table.ipynb>data table notebook</a>'\n",
              "            + ' to learn more about interactive tables.';\n",
              "          element.innerHTML = '';\n",
              "          dataTable['output_type'] = 'display_data';\n",
              "          await google.colab.output.renderOutput(dataTable, element);\n",
              "          const docLink = document.createElement('div');\n",
              "          docLink.innerHTML = docLinkHtml;\n",
              "          element.appendChild(docLink);\n",
              "        }\n",
              "      </script>\n",
              "    </div>\n",
              "  </div>\n",
              "  "
            ]
          },
          "metadata": {},
          "execution_count": 20
        }
      ]
    },
    {
      "cell_type": "markdown",
      "source": [
        "Looking way better! Let's just adjust that Birthdate column is a datetime type, not object - This will be important for the future."
      ],
      "metadata": {
        "id": "zE_VO7NdL_J9"
      }
    },
    {
      "cell_type": "code",
      "source": [
        "Deputados['Birthdate'] = pd.to_datetime(Deputados['Birthdate'])"
      ],
      "metadata": {
        "id": "qKhBkWN0Ibdk"
      },
      "execution_count": 21,
      "outputs": []
    },
    {
      "cell_type": "markdown",
      "source": [
        "And with birth date adjusted, we can calculate the age of each congressperson."
      ],
      "metadata": {
        "id": "t-A1LPNUM0U-"
      }
    },
    {
      "cell_type": "code",
      "source": [
        "age = []\n",
        "\n",
        "from datetime import date, timedelta\n",
        "\n",
        "for date in Deputados['Birthdate']:\n",
        "  result = (date.today() - date) // timedelta(days=365.2425)\n",
        "  age.append(result)"
      ],
      "metadata": {
        "id": "16KQUqtNPXk3"
      },
      "execution_count": 22,
      "outputs": []
    },
    {
      "cell_type": "code",
      "source": [
        "join_age = pd.DataFrame({'ID': dep_id, 'Age': age})"
      ],
      "metadata": {
        "id": "02gSE_xVQJs4"
      },
      "execution_count": 23,
      "outputs": []
    },
    {
      "cell_type": "code",
      "source": [
        "Deputados = Deputados.join(join_age, lsuffix=\"_left\", rsuffix=\"_right\", how='left')\n",
        "Deputados.drop('ID_left', inplace=True, axis=1)"
      ],
      "metadata": {
        "id": "JXFr3tuxP4rE"
      },
      "execution_count": 24,
      "outputs": []
    },
    {
      "cell_type": "code",
      "source": [
        "Deputados.info()"
      ],
      "metadata": {
        "colab": {
          "base_uri": "https://localhost:8080/"
        },
        "id": "4VJQqxQQQlTL",
        "outputId": "be3a50ae-5d4d-4694-fcb6-7bcad424afcc"
      },
      "execution_count": 25,
      "outputs": [
        {
          "output_type": "stream",
          "name": "stdout",
          "text": [
            "<class 'pandas.core.frame.DataFrame'>\n",
            "RangeIndex: 513 entries, 0 to 512\n",
            "Data columns (total 9 columns):\n",
            " #   Column     Non-Null Count  Dtype         \n",
            "---  ------     --------------  -----         \n",
            " 0   Name       513 non-null    object        \n",
            " 1   Foto       513 non-null    object        \n",
            " 2   UF         513 non-null    object        \n",
            " 3   Gender     513 non-null    object        \n",
            " 4   Party      513 non-null    object        \n",
            " 5   Birthdate  513 non-null    datetime64[ns]\n",
            " 6   Scolarity  446 non-null    object        \n",
            " 7   ID         513 non-null    object        \n",
            " 8   Age        513 non-null    int64         \n",
            "dtypes: datetime64[ns](1), int64(1), object(7)\n",
            "memory usage: 36.2+ KB\n"
          ]
        }
      ]
    },
    {
      "cell_type": "markdown",
      "source": [
        "Now we can see the average age of a congressperson, the oldest and the youngest as well."
      ],
      "metadata": {
        "id": "q744B1cnVRX0"
      }
    },
    {
      "cell_type": "code",
      "source": [
        "print(\"The average congressperson age is:\", Deputados[\"Age\"].mean(), \"years old.\")\n",
        "print(\"The oldest congressperson age is:\", Deputados[\"Age\"].max(), \"years old.\")\n",
        "print(\"The youngest congressperson age is:\", Deputados[\"Age\"].min(), \"years old.\")"
      ],
      "metadata": {
        "colab": {
          "base_uri": "https://localhost:8080/"
        },
        "id": "BT9BrSpgQ7Fg",
        "outputId": "aa826df9-edd8-4b97-a892-81821a1fa112"
      },
      "execution_count": 26,
      "outputs": [
        {
          "output_type": "stream",
          "name": "stdout",
          "text": [
            "The average congressperson age is: 50.39766081871345 years old.\n",
            "The oldest congressperson age is: 88 years old.\n",
            "The youngest congressperson age is: 22 years old.\n"
          ]
        }
      ]
    },
    {
      "cell_type": "code",
      "source": [
        "print(\"This is the average age of congresspersons per political party:\")\n",
        "party_age = Deputados.groupby(['Party'])['Age'].mean()\n",
        "graph_1 = party_age.plot.bar(x='Party', y='Age', figsize=(8, 5))\n",
        "graph_1.set_title('Average Congressperson Age per Political Party')\n",
        "graph_1.set_ylabel('Average Age')"
      ],
      "metadata": {
        "colab": {
          "base_uri": "https://localhost:8080/",
          "height": 621
        },
        "id": "-r5l6bAMUG9D",
        "outputId": "4c57b46b-ac79-4e80-f57b-3b7c31c0a1e4"
      },
      "execution_count": 56,
      "outputs": [
        {
          "output_type": "stream",
          "name": "stdout",
          "text": [
            "This is the average age of congresspersons per political party:\n"
          ]
        },
        {
          "output_type": "execute_result",
          "data": {
            "text/plain": [
              "Text(0, 0.5, 'Average Age')"
            ]
          },
          "metadata": {},
          "execution_count": 56
        },
        {
          "output_type": "display_data",
          "data": {
            "text/plain": [
              "<Figure size 800x500 with 1 Axes>"
            ],
            "image/png": "[encoded data removed]"
          },
          "metadata": {}
        }
      ]
    },
    {
      "cell_type": "code",
      "source": [
        "print(\"This is the average age of congresspersons per State:\")\n",
        "uf_age = Deputados.groupby(['UF'])['Age'].mean()"
      ],
      "metadata": {
        "colab": {
          "base_uri": "https://localhost:8080/"
        },
        "id": "qckkGK7MUFCg",
        "outputId": "08046291-34e0-4d67-d2b1-26b2f2c7397c"
      },
      "execution_count": 28,
      "outputs": [
        {
          "output_type": "stream",
          "name": "stdout",
          "text": [
            "This is the average age of congresspersons per State:\n"
          ]
        },
        {
          "output_type": "execute_result",
          "data": {
            "text/plain": [
              "UF\n",
              "AC    50.750000\n",
              "AL    46.222222\n",
              "AM    43.625000\n",
              "AP    47.125000\n",
              "BA    54.974359\n",
              "CE    49.590909\n",
              "DF    53.125000\n",
              "ES    48.500000\n",
              "GO    54.470588\n",
              "MA    45.111111\n",
              "MG    48.905660\n",
              "MS    53.875000\n",
              "MT    45.125000\n",
              "PA    52.000000\n",
              "PB    53.833333\n",
              "PE    46.600000\n",
              "PI    51.800000\n",
              "PR    49.200000\n",
              "RJ    52.326087\n",
              "RN    56.625000\n",
              "RO    48.875000\n",
              "RR    44.875000\n",
              "RS    52.774194\n",
              "SC    46.187500\n",
              "SE    39.250000\n",
              "SP    51.857143\n",
              "TO    52.625000\n",
              "Name: Age, dtype: float64"
            ]
          },
          "metadata": {},
          "execution_count": 28
        }
      ]
    },
    {
      "cell_type": "code",
      "source": [
        "ge_ag = Deputados.groupby(['Gender'])['Age'].mean()\n",
        "graph_3 = ge_ag.plot.barh(x='Gender', y='Age', figsize=(8, 5))\n",
        "graph_3.set_title('Average Congressperson Age per Gender')\n",
        "graph_3.set_xlabel('Average Age')"
      ],
      "metadata": {
        "colab": {
          "base_uri": "https://localhost:8080/",
          "height": 504
        },
        "id": "9hTlncisS9Zh",
        "outputId": "66e7da93-84e3-438f-92db-69539f99a45c"
      },
      "execution_count": 58,
      "outputs": [
        {
          "output_type": "execute_result",
          "data": {
            "text/plain": [
              "Text(0.5, 0, 'Average Age')"
            ]
          },
          "metadata": {},
          "execution_count": 58
        },
        {
          "output_type": "display_data",
          "data": {
            "text/plain": [
              "<Figure size 800x500 with 1 Axes>"
            ],
            "image/png": "[encoded data removed]"
          },
          "metadata": {}
        }
      ]
    },
    {
      "cell_type": "markdown",
      "source": [
        "# Dealing with missing values"
      ],
      "metadata": {
        "id": "o4cfXG40XT-m"
      }
    },
    {
      "cell_type": "markdown",
      "source": [
        "We can see how we have some missing data in the Scolarity column.\n",
        "\n",
        "![Captura de Pantalla 2023-04-19 a la(s) 6.55.34 p. m..png](data:image/png;base64,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)"
      ],
      "metadata": {
        "id": "eJrPEE12P2fZ"
      }
    },
    {
      "cell_type": "markdown",
      "source": [
        "Another way of verifying it is by querying the sum of .isnull()"
      ],
      "metadata": {
        "id": "ZDEv84PYc9kC"
      }
    },
    {
      "cell_type": "code",
      "source": [
        "print(Deputados.isnull().sum())"
      ],
      "metadata": {
        "colab": {
          "base_uri": "https://localhost:8080/"
        },
        "id": "YY4x_PiWc1a_",
        "outputId": "3ef71d44-5b8a-49bc-a3a6-e17035b208d7"
      },
      "execution_count": 47,
      "outputs": [
        {
          "output_type": "stream",
          "name": "stdout",
          "text": [
            "Name          0\n",
            "Foto          0\n",
            "UF            0\n",
            "Gender        0\n",
            "Party         0\n",
            "Birthdate     0\n",
            "Scolarity    67\n",
            "ID            0\n",
            "Age           0\n",
            "dtype: int64\n"
          ]
        }
      ]
    },
    {
      "cell_type": "markdown",
      "source": [
        "And then we can call the entries without data."
      ],
      "metadata": {
        "id": "O9PkH_n_eTYJ"
      }
    },
    {
      "cell_type": "code",
      "source": [
        "Deputados[Deputados.isnull().any(axis=1)]"
      ],
      "metadata": {
        "colab": {
          "base_uri": "https://localhost:8080/",
          "height": 655
        },
        "id": "wRC_NoMqeDsK",
        "outputId": "d12c907e-57f3-492c-ae12-9f7985501d7e"
      },
      "execution_count": 52,
      "outputs": [
        {
          "output_type": "execute_result",
          "data": {
            "text/plain": [
              "                  Name                                               Foto  UF  \\\n",
              "117     Ricardo Salles  http://www.camara.gov.br/internet/deputado/ban...  SP   \n",
              "264    Eduardo Velloso  http://www.camara.gov.br/internet/deputado/ban...  AC   \n",
              "276    Daniela Reinehr  http://www.camara.gov.br/internet/deputado/ban...  SC   \n",
              "278  Washington Quaquá  http://www.camara.gov.br/internet/deputado/ban...  RJ   \n",
              "279        Nely Aquino  http://www.camara.gov.br/internet/deputado/ban...  MG   \n",
              "..                 ...                                                ...  ..   \n",
              "494      Ricardo Abrão  http://www.camara.gov.br/internet/deputado/ban...  RJ   \n",
              "500       Dr. Benjamim  http://www.camara.gov.br/internet/deputado/ban...  MA   \n",
              "505  Luis Carlos Gomes  http://www.camara.gov.br/internet/deputado/ban...  RJ   \n",
              "507    Rodrigo Estacho  http://www.camara.gov.br/internet/deputado/ban...  PR   \n",
              "510       Gabriel Mota  http://www.camara.gov.br/internet/deputado/ban...  RR   \n",
              "\n",
              "        Gender         Party  Birthdate Scolarity      ID  Age  \n",
              "117  masculino            PL 1975-06-08      None  220633   47  \n",
              "264  masculino         UNIÃO 1976-07-08      None  220589   46  \n",
              "276   feminino            PL 1977-04-04      None  220557   46  \n",
              "278  masculino            PT 1971-05-31      None  220601   51  \n",
              "279   feminino          PODE 1972-11-17      None  220622   50  \n",
              "..         ...           ...        ...       ...     ...  ...  \n",
              "494  masculino         UNIÃO 1972-09-13      None  221329   50  \n",
              "500  masculino         UNIÃO 1973-02-07      None  221339   50  \n",
              "505  masculino  REPUBLICANOS 1966-05-05      None  222429   56  \n",
              "507  masculino           PSD 1989-01-16      None  223128   34  \n",
              "510  masculino  REPUBLICANOS 1982-12-24      None  224117   40  \n",
              "\n",
              "[67 rows x 9 columns]"
            ],
            "text/html": [
              "\n",
              "  <div id=\"df-a109f96a-ee34-4ed2-b5c9-5716bd3b7a36\">\n",
              "    <div class=\"colab-df-container\">\n",
              "      <div>\n",
              "<style scoped>\n",
              "    .dataframe tbody tr th:only-of-type {\n",
              "        vertical-align: middle;\n",
              "    }\n",
              "\n",
              "    .dataframe tbody tr th {\n",
              "        vertical-align: top;\n",
              "    }\n",
              "\n",
              "    .dataframe thead th {\n",
              "        text-align: right;\n",
              "    }\n",
              "</style>\n",
              "<table border=\"1\" class=\"dataframe\">\n",
              "  <thead>\n",
              "    <tr style=\"text-align: right;\">\n",
              "      <th></th>\n",
              "      <th>Name</th>\n",
              "      <th>Foto</th>\n",
              "      <th>UF</th>\n",
              "      <th>Gender</th>\n",
              "      <th>Party</th>\n",
              "      <th>Birthdate</th>\n",
              "      <th>Scolarity</th>\n",
              "      <th>ID</th>\n",
              "      <th>Age</th>\n",
              "    </tr>\n",
              "  </thead>\n",
              "  <tbody>\n",
              "    <tr>\n",
              "      <th>117</th>\n",
              "      <td>Ricardo Salles</td>\n",
              "      <td>http://www.camara.gov.br/internet/deputado/ban...</td>\n",
              "      <td>SP</td>\n",
              "      <td>masculino</td>\n",
              "      <td>PL</td>\n",
              "      <td>1975-06-08</td>\n",
              "      <td>None</td>\n",
              "      <td>220633</td>\n",
              "      <td>47</td>\n",
              "    </tr>\n",
              "    <tr>\n",
              "      <th>264</th>\n",
              "      <td>Eduardo Velloso</td>\n",
              "      <td>http://www.camara.gov.br/internet/deputado/ban...</td>\n",
              "      <td>AC</td>\n",
              "      <td>masculino</td>\n",
              "      <td>UNIÃO</td>\n",
              "      <td>1976-07-08</td>\n",
              "      <td>None</td>\n",
              "      <td>220589</td>\n",
              "      <td>46</td>\n",
              "    </tr>\n",
              "    <tr>\n",
              "      <th>276</th>\n",
              "      <td>Daniela Reinehr</td>\n",
              "      <td>http://www.camara.gov.br/internet/deputado/ban...</td>\n",
              "      <td>SC</td>\n",
              "      <td>feminino</td>\n",
              "      <td>PL</td>\n",
              "      <td>1977-04-04</td>\n",
              "      <td>None</td>\n",
              "      <td>220557</td>\n",
              "      <td>46</td>\n",
              "    </tr>\n",
              "    <tr>\n",
              "      <th>278</th>\n",
              "      <td>Washington Quaquá</td>\n",
              "      <td>http://www.camara.gov.br/internet/deputado/ban...</td>\n",
              "      <td>RJ</td>\n",
              "      <td>masculino</td>\n",
              "      <td>PT</td>\n",
              "      <td>1971-05-31</td>\n",
              "      <td>None</td>\n",
              "      <td>220601</td>\n",
              "      <td>51</td>\n",
              "    </tr>\n",
              "    <tr>\n",
              "      <th>279</th>\n",
              "      <td>Nely Aquino</td>\n",
              "      <td>http://www.camara.gov.br/internet/deputado/ban...</td>\n",
              "      <td>MG</td>\n",
              "      <td>feminino</td>\n",
              "      <td>PODE</td>\n",
              "      <td>1972-11-17</td>\n",
              "      <td>None</td>\n",
              "      <td>220622</td>\n",
              "      <td>50</td>\n",
              "    </tr>\n",
              "    <tr>\n",
              "      <th>...</th>\n",
              "      <td>...</td>\n",
              "      <td>...</td>\n",
              "      <td>...</td>\n",
              "      <td>...</td>\n",
              "      <td>...</td>\n",
              "      <td>...</td>\n",
              "      <td>...</td>\n",
              "      <td>...</td>\n",
              "      <td>...</td>\n",
              "    </tr>\n",
              "    <tr>\n",
              "      <th>494</th>\n",
              "      <td>Ricardo Abrão</td>\n",
              "      <td>http://www.camara.gov.br/internet/deputado/ban...</td>\n",
              "      <td>RJ</td>\n",
              "      <td>masculino</td>\n",
              "      <td>UNIÃO</td>\n",
              "      <td>1972-09-13</td>\n",
              "      <td>None</td>\n",
              "      <td>221329</td>\n",
              "      <td>50</td>\n",
              "    </tr>\n",
              "    <tr>\n",
              "      <th>500</th>\n",
              "      <td>Dr. Benjamim</td>\n",
              "      <td>http://www.camara.gov.br/internet/deputado/ban...</td>\n",
              "      <td>MA</td>\n",
              "      <td>masculino</td>\n",
              "      <td>UNIÃO</td>\n",
              "      <td>1973-02-07</td>\n",
              "      <td>None</td>\n",
              "      <td>221339</td>\n",
              "      <td>50</td>\n",
              "    </tr>\n",
              "    <tr>\n",
              "      <th>505</th>\n",
              "      <td>Luis Carlos Gomes</td>\n",
              "      <td>http://www.camara.gov.br/internet/deputado/ban...</td>\n",
              "      <td>RJ</td>\n",
              "      <td>masculino</td>\n",
              "      <td>REPUBLICANOS</td>\n",
              "      <td>1966-05-05</td>\n",
              "      <td>None</td>\n",
              "      <td>222429</td>\n",
              "      <td>56</td>\n",
              "    </tr>\n",
              "    <tr>\n",
              "      <th>507</th>\n",
              "      <td>Rodrigo Estacho</td>\n",
              "      <td>http://www.camara.gov.br/internet/deputado/ban...</td>\n",
              "      <td>PR</td>\n",
              "      <td>masculino</td>\n",
              "      <td>PSD</td>\n",
              "      <td>1989-01-16</td>\n",
              "      <td>None</td>\n",
              "      <td>223128</td>\n",
              "      <td>34</td>\n",
              "    </tr>\n",
              "    <tr>\n",
              "      <th>510</th>\n",
              "      <td>Gabriel Mota</td>\n",
              "      <td>http://www.camara.gov.br/internet/deputado/ban...</td>\n",
              "      <td>RR</td>\n",
              "      <td>masculino</td>\n",
              "      <td>REPUBLICANOS</td>\n",
              "      <td>1982-12-24</td>\n",
              "      <td>None</td>\n",
              "      <td>224117</td>\n",
              "      <td>40</td>\n",
              "    </tr>\n",
              "  </tbody>\n",
              "</table>\n",
              "<p>67 rows × 9 columns</p>\n",
              "</div>\n",
              "      <button class=\"colab-df-convert\" onclick=\"convertToInteractive('df-a109f96a-ee34-4ed2-b5c9-5716bd3b7a36')\"\n",
              "              title=\"Convert this dataframe to an interactive table.\"\n",
              "              style=\"display:none;\">\n",
              "        \n",
              "  <svg xmlns=\"http://www.w3.org/2000/svg\" height=\"24px\"viewBox=\"0 0 24 24\"\n",
              "       width=\"24px\">\n",
              "    <path d=\"M0 0h24v24H0V0z\" fill=\"none\"/>\n",
              "    <path d=\"M18.56 5.44l.94 2.06.94-2.06 2.06-.94-2.06-.94-.94-2.06-.94 2.06-2.06.94zm-11 1L8.5 8.5l.94-2.06 2.06-.94-2.06-.94L8.5 2.5l-.94 2.06-2.06.94zm10 10l.94 2.06.94-2.06 2.06-.94-2.06-.94-.94-2.06-.94 2.06-2.06.94z\"/><path d=\"M17.41 7.96l-1.37-1.37c-.4-.4-.92-.59-1.43-.59-.52 0-1.04.2-1.43.59L10.3 9.45l-7.72 7.72c-.78.78-.78 2.05 0 2.83L4 21.41c.39.39.9.59 1.41.59.51 0 1.02-.2 1.41-.59l7.78-7.78 2.81-2.81c.8-.78.8-2.07 0-2.86zM5.41 20L4 18.59l7.72-7.72 1.47 1.35L5.41 20z\"/>\n",
              "  </svg>\n",
              "      </button>\n",
              "      \n",
              "  <style>\n",
              "    .colab-df-container {\n",
              "      display:flex;\n",
              "      flex-wrap:wrap;\n",
              "      gap: 12px;\n",
              "    }\n",
              "\n",
              "    .colab-df-convert {\n",
              "      background-color: #E8F0FE;\n",
              "      border: none;\n",
              "      border-radius: 50%;\n",
              "      cursor: pointer;\n",
              "      display: none;\n",
              "      fill: #1967D2;\n",
              "      height: 32px;\n",
              "      padding: 0 0 0 0;\n",
              "      width: 32px;\n",
              "    }\n",
              "\n",
              "    .colab-df-convert:hover {\n",
              "      background-color: #E2EBFA;\n",
              "      box-shadow: 0px 1px 2px rgba(60, 64, 67, 0.3), 0px 1px 3px 1px rgba(60, 64, 67, 0.15);\n",
              "      fill: #174EA6;\n",
              "    }\n",
              "\n",
              "    [theme=dark] .colab-df-convert {\n",
              "      background-color: #3B4455;\n",
              "      fill: #D2E3FC;\n",
              "    }\n",
              "\n",
              "    [theme=dark] .colab-df-convert:hover {\n",
              "      background-color: #434B5C;\n",
              "      box-shadow: 0px 1px 3px 1px rgba(0, 0, 0, 0.15);\n",
              "      filter: drop-shadow(0px 1px 2px rgba(0, 0, 0, 0.3));\n",
              "      fill: #FFFFFF;\n",
              "    }\n",
              "  </style>\n",
              "\n",
              "      <script>\n",
              "        const buttonEl =\n",
              "          document.querySelector('#df-a109f96a-ee34-4ed2-b5c9-5716bd3b7a36 button.colab-df-convert');\n",
              "        buttonEl.style.display =\n",
              "          google.colab.kernel.accessAllowed ? 'block' : 'none';\n",
              "\n",
              "        async function convertToInteractive(key) {\n",
              "          const element = document.querySelector('#df-a109f96a-ee34-4ed2-b5c9-5716bd3b7a36');\n",
              "          const dataTable =\n",
              "            await google.colab.kernel.invokeFunction('convertToInteractive',\n",
              "                                                     [key], {});\n",
              "          if (!dataTable) return;\n",
              "\n",
              "          const docLinkHtml = 'Like what you see? Visit the ' +\n",
              "            '<a target=\"_blank\" href=https://colab.research.google.com/notebooks/data_table.ipynb>data table notebook</a>'\n",
              "            + ' to learn more about interactive tables.';\n",
              "          element.innerHTML = '';\n",
              "          dataTable['output_type'] = 'display_data';\n",
              "          await google.colab.output.renderOutput(dataTable, element);\n",
              "          const docLink = document.createElement('div');\n",
              "          docLink.innerHTML = docLinkHtml;\n",
              "          element.appendChild(docLink);\n",
              "        }\n",
              "      </script>\n",
              "    </div>\n",
              "  </div>\n",
              "  "
            ]
          },
          "metadata": {},
          "execution_count": 52
        }
      ]
    }
  ]
}