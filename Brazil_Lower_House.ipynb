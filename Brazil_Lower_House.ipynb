{
  "nbformat": 4,
  "nbformat_minor": 0,
  "metadata": {
    "colab": {
      "provenance": [],
      "authorship_tag": "ABX9TyP4VoCnpBPun6zBJ2DHjAwA",
      "include_colab_link": true
    },
    "kernelspec": {
      "name": "python3",
      "display_name": "Python 3"
    },
    "language_info": {
      "name": "python"
    }
  },
  "cells": [
    {
      "cell_type": "markdown",
      "metadata": {
        "id": "view-in-github",
        "colab_type": "text"
      },
      "source": [
        "<a href=\"https://colab.research.google.com/github/Bess-Hub/Project-Citizen-Explorer/blob/main/Brazil_Lower_House.ipynb\" target=\"_parent\"><img src=\"https://colab.research.google.com/assets/colab-badge.svg\" alt=\"Open In Colab\"/></a>"
      ]
    },
    {
      "cell_type": "markdown",
      "source": [
        "# Data Analysis with Google Colab\n"
      ],
      "metadata": {
        "id": "rpodWDwHcZ9x"
      }
    },
    {
      "cell_type": "markdown",
      "source": [
        "---\n",
        "\n",
        "*In this exercise we will explore the data provided by the Brazilian Lower House API using Google Colab, because I had issues with Jupyter.*\n",
        "\n",
        "\n"
      ],
      "metadata": {
        "id": "oKWK-L3xfU8w"
      }
    },
    {
      "cell_type": "markdown",
      "source": [
        "# Phase 1: Data Extraction"
      ],
      "metadata": {
        "id": "jfbdTrkkfrp0"
      }
    },
    {
      "cell_type": "markdown",
      "source": [
        "\n",
        "*As any Data Analysis project we will start with Data Extraction.*\n"
      ],
      "metadata": {
        "id": "nZQNNHtlgLDa"
      }
    },
    {
      "cell_type": "markdown",
      "source": [
        "Import modules:"
      ],
      "metadata": {
        "id": "ZsP43mW1hDmB"
      }
    },
    {
      "cell_type": "code",
      "execution_count": 1,
      "metadata": {
        "id": "SwtwlBGjcOPj"
      },
      "outputs": [],
      "source": [
        "import requests # To get the API URL\n",
        "import pandas as pd # To test what I am learning on my course\n",
        "import xml.etree.ElementTree as ET # Because so far it is my way of reading into XML files returned by an API"
      ]
    },
    {
      "cell_type": "markdown",
      "source": [
        "Define the API URL:"
      ],
      "metadata": {
        "id": "9UUHc00lcpxE"
      }
    },
    {
      "cell_type": "code",
      "source": [
        "Base_URL = requests.get(url=\"https://www.camara.gov.br/SitCamaraWS/Deputados.asmx/ObterDeputados\")"
      ],
      "metadata": {
        "id": "Uy9nPtFNcnpR"
      },
      "execution_count": 2,
      "outputs": []
    },
    {
      "cell_type": "markdown",
      "source": [
        "## Some additional steps:"
      ],
      "metadata": {
        "id": "o4msuvgZpge8"
      }
    },
    {
      "cell_type": "markdown",
      "source": [
        "Check the connection:"
      ],
      "metadata": {
        "id": "WoZshKvPdoqD"
      }
    },
    {
      "cell_type": "code",
      "source": [
        "print(Base_URL)"
      ],
      "metadata": {
        "colab": {
          "base_uri": "https://localhost:8080/"
        },
        "id": "sS5YVz2Zc2j4",
        "outputId": "c3f445d1-85e2-4ed2-b703-0920fb3e1bf3"
      },
      "execution_count": 3,
      "outputs": [
        {
          "output_type": "stream",
          "name": "stdout",
          "text": [
            "<Response [200]>\n"
          ]
        }
      ]
    },
    {
      "cell_type": "markdown",
      "source": [
        "Let's check what is the data we will be working with:"
      ],
      "metadata": {
        "id": "UOOjDBtvdxIG"
      }
    },
    {
      "cell_type": "code",
      "source": [
        "print(Base_URL.headers.get('content-type'))"
      ],
      "metadata": {
        "colab": {
          "base_uri": "https://localhost:8080/"
        },
        "id": "d2tY3RTjc7cg",
        "outputId": "351c0ccf-0e6a-4b9b-d5a6-475c50c51332"
      },
      "execution_count": 4,
      "outputs": [
        {
          "output_type": "stream",
          "name": "stdout",
          "text": [
            "text/xml; charset=utf-8\n"
          ]
        }
      ]
    },
    {
      "cell_type": "markdown",
      "source": [
        "## Visualizing the extracted data"
      ],
      "metadata": {
        "id": "0-ENfoBdpx-x"
      }
    },
    {
      "cell_type": "markdown",
      "source": [
        "Since the data is in XML we will use ElementTree to create a local DataFrame from the API."
      ],
      "metadata": {
        "id": "OBHREYEpwLk2"
      }
    },
    {
      "cell_type": "code",
      "source": [
        "root = ET.fromstring(Base_URL.content) # Define the root channel to the content we want to append to our lists\n",
        "# Create the lists\n",
        "dep_name = []\n",
        "dep_id = []\n",
        "dep_foto = []\n",
        "dep_uf = []\n",
        "dep_gender = []\n",
        "dep_part = []\n",
        "# Add elements to the correspondent lists\n",
        "for name in root.iter('nomeParlamentar'):\n",
        "    dep_name.append(name.text)\n",
        "for id in root.iter('ideCadastro'):\n",
        "    dep_id.append(id.text)\n",
        "for urlFoto in root.iter('urlFoto'):\n",
        "    dep_foto.append(urlFoto.text)\n",
        "for uf in root.iter('uf'):\n",
        "    dep_uf.append(uf.text)\n",
        "for sexo in root.iter('sexo'):\n",
        "    dep_gender.append(sexo.text)\n",
        "for part in root.iter('partido'):\n",
        "    dep_part.append(part.text)"
      ],
      "metadata": {
        "id": "ZwgMhfppppzR"
      },
      "execution_count": 5,
      "outputs": []
    },
    {
      "cell_type": "markdown",
      "source": [
        "Now we create one dataframe using Pandas."
      ],
      "metadata": {
        "id": "rjVbXtEDwjOq"
      }
    },
    {
      "cell_type": "code",
      "source": [
        "Deputados = pd.DataFrame({'Name': dep_name, 'ID': dep_id, 'Foto': dep_foto, 'UF': dep_uf, 'Gender': dep_gender, 'Party': dep_part})"
      ],
      "metadata": {
        "id": "6VCjqxOfsNzH"
      },
      "execution_count": 6,
      "outputs": []
    },
    {
      "cell_type": "markdown",
      "source": [
        "Because everything is in a certain order, if we give the folowing command we can see line by line each congressperson information in our DataFrame."
      ],
      "metadata": {
        "id": "Xl3_RGTywws-"
      }
    },
    {
      "cell_type": "code",
      "source": [
        "Deputados.head(513)"
      ],
      "metadata": {
        "colab": {
          "base_uri": "https://localhost:8080/",
          "height": 655
        },
        "id": "Zg0gYgrdtFvY",
        "outputId": "4cd84f93-249b-4a7f-df41-e24c3701e877"
      },
      "execution_count": 7,
      "outputs": [
        {
          "output_type": "execute_result",
          "data": {
            "text/plain": [
              "                   Name      ID  \\\n",
              "0     Benedita da Silva   73701   \n",
              "1            Átila Lins   74090   \n",
              "2     Renildo Calheiros   73801   \n",
              "3       Jandira Feghali   74848   \n",
              "4        Lídice da Mata  139285   \n",
              "..                  ...     ...   \n",
              "508   Leônidas Cristino   74299   \n",
              "509     Luciano Azevedo  103758   \n",
              "510        Gabriel Mota  224117   \n",
              "511              Welter  224333   \n",
              "512  Reinhold Stephanes  205865   \n",
              "\n",
              "                                                  Foto  UF     Gender  \\\n",
              "0    http://www.camara.gov.br/internet/deputado/ban...  RJ   feminino   \n",
              "1    http://www.camara.gov.br/internet/deputado/ban...  AM  masculino   \n",
              "2    http://www.camara.gov.br/internet/deputado/ban...  PE  masculino   \n",
              "3    http://www.camara.gov.br/internet/deputado/ban...  RJ   feminino   \n",
              "4    http://www.camara.gov.br/internet/deputado/ban...  BA   feminino   \n",
              "..                                                 ...  ..        ...   \n",
              "508  http://www.camara.gov.br/internet/deputado/ban...  CE  masculino   \n",
              "509  http://www.camara.gov.br/internet/deputado/ban...  RS  masculino   \n",
              "510  http://www.camara.gov.br/internet/deputado/ban...  RR  masculino   \n",
              "511  http://www.camara.gov.br/internet/deputado/ban...  PR  masculino   \n",
              "512  http://www.camara.gov.br/internet/deputado/ban...  PR  masculino   \n",
              "\n",
              "            Party  \n",
              "0              PT  \n",
              "1             PSD  \n",
              "2           PCdoB  \n",
              "3           PCdoB  \n",
              "4             PSB  \n",
              "..            ...  \n",
              "508           PDT  \n",
              "509           PSD  \n",
              "510  REPUBLICANOS  \n",
              "511            PT  \n",
              "512           PSD  \n",
              "\n",
              "[513 rows x 6 columns]"
            ],
            "text/html": [
              "\n",
              "  <div id=\"df-7acf0c30-6d3b-4dfb-a92c-2e9dfa34986c\">\n",
              "    <div class=\"colab-df-container\">\n",
              "      <div>\n",
              "<style scoped>\n",
              "    .dataframe tbody tr th:only-of-type {\n",
              "        vertical-align: middle;\n",
              "    }\n",
              "\n",
              "    .dataframe tbody tr th {\n",
              "        vertical-align: top;\n",
              "    }\n",
              "\n",
              "    .dataframe thead th {\n",
              "        text-align: right;\n",
              "    }\n",
              "</style>\n",
              "<table border=\"1\" class=\"dataframe\">\n",
              "  <thead>\n",
              "    <tr style=\"text-align: right;\">\n",
              "      <th></th>\n",
              "      <th>Name</th>\n",
              "      <th>ID</th>\n",
              "      <th>Foto</th>\n",
              "      <th>UF</th>\n",
              "      <th>Gender</th>\n",
              "      <th>Party</th>\n",
              "    </tr>\n",
              "  </thead>\n",
              "  <tbody>\n",
              "    <tr>\n",
              "      <th>0</th>\n",
              "      <td>Benedita da Silva</td>\n",
              "      <td>73701</td>\n",
              "      <td>http://www.camara.gov.br/internet/deputado/ban...</td>\n",
              "      <td>RJ</td>\n",
              "      <td>feminino</td>\n",
              "      <td>PT</td>\n",
              "    </tr>\n",
              "    <tr>\n",
              "      <th>1</th>\n",
              "      <td>Átila Lins</td>\n",
              "      <td>74090</td>\n",
              "      <td>http://www.camara.gov.br/internet/deputado/ban...</td>\n",
              "      <td>AM</td>\n",
              "      <td>masculino</td>\n",
              "      <td>PSD</td>\n",
              "    </tr>\n",
              "    <tr>\n",
              "      <th>2</th>\n",
              "      <td>Renildo Calheiros</td>\n",
              "      <td>73801</td>\n",
              "      <td>http://www.camara.gov.br/internet/deputado/ban...</td>\n",
              "      <td>PE</td>\n",
              "      <td>masculino</td>\n",
              "      <td>PCdoB</td>\n",
              "    </tr>\n",
              "    <tr>\n",
              "      <th>3</th>\n",
              "      <td>Jandira Feghali</td>\n",
              "      <td>74848</td>\n",
              "      <td>http://www.camara.gov.br/internet/deputado/ban...</td>\n",
              "      <td>RJ</td>\n",
              "      <td>feminino</td>\n",
              "      <td>PCdoB</td>\n",
              "    </tr>\n",
              "    <tr>\n",
              "      <th>4</th>\n",
              "      <td>Lídice da Mata</td>\n",
              "      <td>139285</td>\n",
              "      <td>http://www.camara.gov.br/internet/deputado/ban...</td>\n",
              "      <td>BA</td>\n",
              "      <td>feminino</td>\n",
              "      <td>PSB</td>\n",
              "    </tr>\n",
              "    <tr>\n",
              "      <th>...</th>\n",
              "      <td>...</td>\n",
              "      <td>...</td>\n",
              "      <td>...</td>\n",
              "      <td>...</td>\n",
              "      <td>...</td>\n",
              "      <td>...</td>\n",
              "    </tr>\n",
              "    <tr>\n",
              "      <th>508</th>\n",
              "      <td>Leônidas Cristino</td>\n",
              "      <td>74299</td>\n",
              "      <td>http://www.camara.gov.br/internet/deputado/ban...</td>\n",
              "      <td>CE</td>\n",
              "      <td>masculino</td>\n",
              "      <td>PDT</td>\n",
              "    </tr>\n",
              "    <tr>\n",
              "      <th>509</th>\n",
              "      <td>Luciano Azevedo</td>\n",
              "      <td>103758</td>\n",
              "      <td>http://www.camara.gov.br/internet/deputado/ban...</td>\n",
              "      <td>RS</td>\n",
              "      <td>masculino</td>\n",
              "      <td>PSD</td>\n",
              "    </tr>\n",
              "    <tr>\n",
              "      <th>510</th>\n",
              "      <td>Gabriel Mota</td>\n",
              "      <td>224117</td>\n",
              "      <td>http://www.camara.gov.br/internet/deputado/ban...</td>\n",
              "      <td>RR</td>\n",
              "      <td>masculino</td>\n",
              "      <td>REPUBLICANOS</td>\n",
              "    </tr>\n",
              "    <tr>\n",
              "      <th>511</th>\n",
              "      <td>Welter</td>\n",
              "      <td>224333</td>\n",
              "      <td>http://www.camara.gov.br/internet/deputado/ban...</td>\n",
              "      <td>PR</td>\n",
              "      <td>masculino</td>\n",
              "      <td>PT</td>\n",
              "    </tr>\n",
              "    <tr>\n",
              "      <th>512</th>\n",
              "      <td>Reinhold Stephanes</td>\n",
              "      <td>205865</td>\n",
              "      <td>http://www.camara.gov.br/internet/deputado/ban...</td>\n",
              "      <td>PR</td>\n",
              "      <td>masculino</td>\n",
              "      <td>PSD</td>\n",
              "    </tr>\n",
              "  </tbody>\n",
              "</table>\n",
              "<p>513 rows × 6 columns</p>\n",
              "</div>\n",
              "      <button class=\"colab-df-convert\" onclick=\"convertToInteractive('df-7acf0c30-6d3b-4dfb-a92c-2e9dfa34986c')\"\n",
              "              title=\"Convert this dataframe to an interactive table.\"\n",
              "              style=\"display:none;\">\n",
              "        \n",
              "  <svg xmlns=\"http://www.w3.org/2000/svg\" height=\"24px\"viewBox=\"0 0 24 24\"\n",
              "       width=\"24px\">\n",
              "    <path d=\"M0 0h24v24H0V0z\" fill=\"none\"/>\n",
              "    <path d=\"M18.56 5.44l.94 2.06.94-2.06 2.06-.94-2.06-.94-.94-2.06-.94 2.06-2.06.94zm-11 1L8.5 8.5l.94-2.06 2.06-.94-2.06-.94L8.5 2.5l-.94 2.06-2.06.94zm10 10l.94 2.06.94-2.06 2.06-.94-2.06-.94-.94-2.06-.94 2.06-2.06.94z\"/><path d=\"M17.41 7.96l-1.37-1.37c-.4-.4-.92-.59-1.43-.59-.52 0-1.04.2-1.43.59L10.3 9.45l-7.72 7.72c-.78.78-.78 2.05 0 2.83L4 21.41c.39.39.9.59 1.41.59.51 0 1.02-.2 1.41-.59l7.78-7.78 2.81-2.81c.8-.78.8-2.07 0-2.86zM5.41 20L4 18.59l7.72-7.72 1.47 1.35L5.41 20z\"/>\n",
              "  </svg>\n",
              "      </button>\n",
              "      \n",
              "  <style>\n",
              "    .colab-df-container {\n",
              "      display:flex;\n",
              "      flex-wrap:wrap;\n",
              "      gap: 12px;\n",
              "    }\n",
              "\n",
              "    .colab-df-convert {\n",
              "      background-color: #E8F0FE;\n",
              "      border: none;\n",
              "      border-radius: 50%;\n",
              "      cursor: pointer;\n",
              "      display: none;\n",
              "      fill: #1967D2;\n",
              "      height: 32px;\n",
              "      padding: 0 0 0 0;\n",
              "      width: 32px;\n",
              "    }\n",
              "\n",
              "    .colab-df-convert:hover {\n",
              "      background-color: #E2EBFA;\n",
              "      box-shadow: 0px 1px 2px rgba(60, 64, 67, 0.3), 0px 1px 3px 1px rgba(60, 64, 67, 0.15);\n",
              "      fill: #174EA6;\n",
              "    }\n",
              "\n",
              "    [theme=dark] .colab-df-convert {\n",
              "      background-color: #3B4455;\n",
              "      fill: #D2E3FC;\n",
              "    }\n",
              "\n",
              "    [theme=dark] .colab-df-convert:hover {\n",
              "      background-color: #434B5C;\n",
              "      box-shadow: 0px 1px 3px 1px rgba(0, 0, 0, 0.15);\n",
              "      filter: drop-shadow(0px 1px 2px rgba(0, 0, 0, 0.3));\n",
              "      fill: #FFFFFF;\n",
              "    }\n",
              "  </style>\n",
              "\n",
              "      <script>\n",
              "        const buttonEl =\n",
              "          document.querySelector('#df-7acf0c30-6d3b-4dfb-a92c-2e9dfa34986c button.colab-df-convert');\n",
              "        buttonEl.style.display =\n",
              "          google.colab.kernel.accessAllowed ? 'block' : 'none';\n",
              "\n",
              "        async function convertToInteractive(key) {\n",
              "          const element = document.querySelector('#df-7acf0c30-6d3b-4dfb-a92c-2e9dfa34986c');\n",
              "          const dataTable =\n",
              "            await google.colab.kernel.invokeFunction('convertToInteractive',\n",
              "                                                     [key], {});\n",
              "          if (!dataTable) return;\n",
              "\n",
              "          const docLinkHtml = 'Like what you see? Visit the ' +\n",
              "            '<a target=\"_blank\" href=https://colab.research.google.com/notebooks/data_table.ipynb>data table notebook</a>'\n",
              "            + ' to learn more about interactive tables.';\n",
              "          element.innerHTML = '';\n",
              "          dataTable['output_type'] = 'display_data';\n",
              "          await google.colab.output.renderOutput(dataTable, element);\n",
              "          const docLink = document.createElement('div');\n",
              "          docLink.innerHTML = docLinkHtml;\n",
              "          element.appendChild(docLink);\n",
              "        }\n",
              "      </script>\n",
              "    </div>\n",
              "  </div>\n",
              "  "
            ]
          },
          "metadata": {},
          "execution_count": 7
        }
      ]
    },
    {
      "cell_type": "markdown",
      "source": [
        "We could wish to select only the first 10, for example:"
      ],
      "metadata": {
        "id": "jt1FY0oAw8gq"
      }
    },
    {
      "cell_type": "code",
      "source": [
        "Deputados.head(10)"
      ],
      "metadata": {
        "colab": {
          "base_uri": "https://localhost:8080/",
          "height": 322
        },
        "id": "1jhqi0S3xAni",
        "outputId": "20717422-46cf-4d3d-8cfd-ab240d9b93dc"
      },
      "execution_count": 8,
      "outputs": [
        {
          "output_type": "execute_result",
          "data": {
            "text/plain": [
              "                Name      ID  \\\n",
              "0  Benedita da Silva   73701   \n",
              "1         Átila Lins   74090   \n",
              "2  Renildo Calheiros   73801   \n",
              "3    Jandira Feghali   74848   \n",
              "4     Lídice da Mata  139285   \n",
              "5        Júlio Cesar   74317   \n",
              "6     Claudio Cajado   74537   \n",
              "7   Elcione Barbalho   74075   \n",
              "8  Arlindo Chinaglia   73433   \n",
              "9     Mendonça Filho   74428   \n",
              "\n",
              "                                                Foto  UF     Gender  Party  \n",
              "0  http://www.camara.gov.br/internet/deputado/ban...  RJ   feminino     PT  \n",
              "1  http://www.camara.gov.br/internet/deputado/ban...  AM  masculino    PSD  \n",
              "2  http://www.camara.gov.br/internet/deputado/ban...  PE  masculino  PCdoB  \n",
              "3  http://www.camara.gov.br/internet/deputado/ban...  RJ   feminino  PCdoB  \n",
              "4  http://www.camara.gov.br/internet/deputado/ban...  BA   feminino    PSB  \n",
              "5  http://www.camara.gov.br/internet/deputado/ban...  PI  masculino    PSD  \n",
              "6  http://www.camara.gov.br/internet/deputado/ban...  BA  masculino     PP  \n",
              "7  http://www.camara.gov.br/internet/deputado/ban...  PA   feminino    MDB  \n",
              "8  http://www.camara.gov.br/internet/deputado/ban...  SP  masculino     PT  \n",
              "9  http://www.camara.gov.br/internet/deputado/ban...  PE  masculino  UNIÃO  "
            ],
            "text/html": [
              "\n",
              "  <div id=\"df-6b1550bf-6232-4fc6-98cc-287824c2a78a\">\n",
              "    <div class=\"colab-df-container\">\n",
              "      <div>\n",
              "<style scoped>\n",
              "    .dataframe tbody tr th:only-of-type {\n",
              "        vertical-align: middle;\n",
              "    }\n",
              "\n",
              "    .dataframe tbody tr th {\n",
              "        vertical-align: top;\n",
              "    }\n",
              "\n",
              "    .dataframe thead th {\n",
              "        text-align: right;\n",
              "    }\n",
              "</style>\n",
              "<table border=\"1\" class=\"dataframe\">\n",
              "  <thead>\n",
              "    <tr style=\"text-align: right;\">\n",
              "      <th></th>\n",
              "      <th>Name</th>\n",
              "      <th>ID</th>\n",
              "      <th>Foto</th>\n",
              "      <th>UF</th>\n",
              "      <th>Gender</th>\n",
              "      <th>Party</th>\n",
              "    </tr>\n",
              "  </thead>\n",
              "  <tbody>\n",
              "    <tr>\n",
              "      <th>0</th>\n",
              "      <td>Benedita da Silva</td>\n",
              "      <td>73701</td>\n",
              "      <td>http://www.camara.gov.br/internet/deputado/ban...</td>\n",
              "      <td>RJ</td>\n",
              "      <td>feminino</td>\n",
              "      <td>PT</td>\n",
              "    </tr>\n",
              "    <tr>\n",
              "      <th>1</th>\n",
              "      <td>Átila Lins</td>\n",
              "      <td>74090</td>\n",
              "      <td>http://www.camara.gov.br/internet/deputado/ban...</td>\n",
              "      <td>AM</td>\n",
              "      <td>masculino</td>\n",
              "      <td>PSD</td>\n",
              "    </tr>\n",
              "    <tr>\n",
              "      <th>2</th>\n",
              "      <td>Renildo Calheiros</td>\n",
              "      <td>73801</td>\n",
              "      <td>http://www.camara.gov.br/internet/deputado/ban...</td>\n",
              "      <td>PE</td>\n",
              "      <td>masculino</td>\n",
              "      <td>PCdoB</td>\n",
              "    </tr>\n",
              "    <tr>\n",
              "      <th>3</th>\n",
              "      <td>Jandira Feghali</td>\n",
              "      <td>74848</td>\n",
              "      <td>http://www.camara.gov.br/internet/deputado/ban...</td>\n",
              "      <td>RJ</td>\n",
              "      <td>feminino</td>\n",
              "      <td>PCdoB</td>\n",
              "    </tr>\n",
              "    <tr>\n",
              "      <th>4</th>\n",
              "      <td>Lídice da Mata</td>\n",
              "      <td>139285</td>\n",
              "      <td>http://www.camara.gov.br/internet/deputado/ban...</td>\n",
              "      <td>BA</td>\n",
              "      <td>feminino</td>\n",
              "      <td>PSB</td>\n",
              "    </tr>\n",
              "    <tr>\n",
              "      <th>5</th>\n",
              "      <td>Júlio Cesar</td>\n",
              "      <td>74317</td>\n",
              "      <td>http://www.camara.gov.br/internet/deputado/ban...</td>\n",
              "      <td>PI</td>\n",
              "      <td>masculino</td>\n",
              "      <td>PSD</td>\n",
              "    </tr>\n",
              "    <tr>\n",
              "      <th>6</th>\n",
              "      <td>Claudio Cajado</td>\n",
              "      <td>74537</td>\n",
              "      <td>http://www.camara.gov.br/internet/deputado/ban...</td>\n",
              "      <td>BA</td>\n",
              "      <td>masculino</td>\n",
              "      <td>PP</td>\n",
              "    </tr>\n",
              "    <tr>\n",
              "      <th>7</th>\n",
              "      <td>Elcione Barbalho</td>\n",
              "      <td>74075</td>\n",
              "      <td>http://www.camara.gov.br/internet/deputado/ban...</td>\n",
              "      <td>PA</td>\n",
              "      <td>feminino</td>\n",
              "      <td>MDB</td>\n",
              "    </tr>\n",
              "    <tr>\n",
              "      <th>8</th>\n",
              "      <td>Arlindo Chinaglia</td>\n",
              "      <td>73433</td>\n",
              "      <td>http://www.camara.gov.br/internet/deputado/ban...</td>\n",
              "      <td>SP</td>\n",
              "      <td>masculino</td>\n",
              "      <td>PT</td>\n",
              "    </tr>\n",
              "    <tr>\n",
              "      <th>9</th>\n",
              "      <td>Mendonça Filho</td>\n",
              "      <td>74428</td>\n",
              "      <td>http://www.camara.gov.br/internet/deputado/ban...</td>\n",
              "      <td>PE</td>\n",
              "      <td>masculino</td>\n",
              "      <td>UNIÃO</td>\n",
              "    </tr>\n",
              "  </tbody>\n",
              "</table>\n",
              "</div>\n",
              "      <button class=\"colab-df-convert\" onclick=\"convertToInteractive('df-6b1550bf-6232-4fc6-98cc-287824c2a78a')\"\n",
              "              title=\"Convert this dataframe to an interactive table.\"\n",
              "              style=\"display:none;\">\n",
              "        \n",
              "  <svg xmlns=\"http://www.w3.org/2000/svg\" height=\"24px\"viewBox=\"0 0 24 24\"\n",
              "       width=\"24px\">\n",
              "    <path d=\"M0 0h24v24H0V0z\" fill=\"none\"/>\n",
              "    <path d=\"M18.56 5.44l.94 2.06.94-2.06 2.06-.94-2.06-.94-.94-2.06-.94 2.06-2.06.94zm-11 1L8.5 8.5l.94-2.06 2.06-.94-2.06-.94L8.5 2.5l-.94 2.06-2.06.94zm10 10l.94 2.06.94-2.06 2.06-.94-2.06-.94-.94-2.06-.94 2.06-2.06.94z\"/><path d=\"M17.41 7.96l-1.37-1.37c-.4-.4-.92-.59-1.43-.59-.52 0-1.04.2-1.43.59L10.3 9.45l-7.72 7.72c-.78.78-.78 2.05 0 2.83L4 21.41c.39.39.9.59 1.41.59.51 0 1.02-.2 1.41-.59l7.78-7.78 2.81-2.81c.8-.78.8-2.07 0-2.86zM5.41 20L4 18.59l7.72-7.72 1.47 1.35L5.41 20z\"/>\n",
              "  </svg>\n",
              "      </button>\n",
              "      \n",
              "  <style>\n",
              "    .colab-df-container {\n",
              "      display:flex;\n",
              "      flex-wrap:wrap;\n",
              "      gap: 12px;\n",
              "    }\n",
              "\n",
              "    .colab-df-convert {\n",
              "      background-color: #E8F0FE;\n",
              "      border: none;\n",
              "      border-radius: 50%;\n",
              "      cursor: pointer;\n",
              "      display: none;\n",
              "      fill: #1967D2;\n",
              "      height: 32px;\n",
              "      padding: 0 0 0 0;\n",
              "      width: 32px;\n",
              "    }\n",
              "\n",
              "    .colab-df-convert:hover {\n",
              "      background-color: #E2EBFA;\n",
              "      box-shadow: 0px 1px 2px rgba(60, 64, 67, 0.3), 0px 1px 3px 1px rgba(60, 64, 67, 0.15);\n",
              "      fill: #174EA6;\n",
              "    }\n",
              "\n",
              "    [theme=dark] .colab-df-convert {\n",
              "      background-color: #3B4455;\n",
              "      fill: #D2E3FC;\n",
              "    }\n",
              "\n",
              "    [theme=dark] .colab-df-convert:hover {\n",
              "      background-color: #434B5C;\n",
              "      box-shadow: 0px 1px 3px 1px rgba(0, 0, 0, 0.15);\n",
              "      filter: drop-shadow(0px 1px 2px rgba(0, 0, 0, 0.3));\n",
              "      fill: #FFFFFF;\n",
              "    }\n",
              "  </style>\n",
              "\n",
              "      <script>\n",
              "        const buttonEl =\n",
              "          document.querySelector('#df-6b1550bf-6232-4fc6-98cc-287824c2a78a button.colab-df-convert');\n",
              "        buttonEl.style.display =\n",
              "          google.colab.kernel.accessAllowed ? 'block' : 'none';\n",
              "\n",
              "        async function convertToInteractive(key) {\n",
              "          const element = document.querySelector('#df-6b1550bf-6232-4fc6-98cc-287824c2a78a');\n",
              "          const dataTable =\n",
              "            await google.colab.kernel.invokeFunction('convertToInteractive',\n",
              "                                                     [key], {});\n",
              "          if (!dataTable) return;\n",
              "\n",
              "          const docLinkHtml = 'Like what you see? Visit the ' +\n",
              "            '<a target=\"_blank\" href=https://colab.research.google.com/notebooks/data_table.ipynb>data table notebook</a>'\n",
              "            + ' to learn more about interactive tables.';\n",
              "          element.innerHTML = '';\n",
              "          dataTable['output_type'] = 'display_data';\n",
              "          await google.colab.output.renderOutput(dataTable, element);\n",
              "          const docLink = document.createElement('div');\n",
              "          docLink.innerHTML = docLinkHtml;\n",
              "          element.appendChild(docLink);\n",
              "        }\n",
              "      </script>\n",
              "    </div>\n",
              "  </div>\n",
              "  "
            ]
          },
          "metadata": {},
          "execution_count": 8
        }
      ]
    },
    {
      "cell_type": "markdown",
      "source": [
        "Or we could wish to select only the ones from a specific UF, for example Paraná - that is represented by its acronym PR"
      ],
      "metadata": {
        "id": "uYjj-Qye0E_X"
      }
    },
    {
      "cell_type": "code",
      "source": [
        "Deputados.loc[Deputados['UF'] == 'PR']"
      ],
      "metadata": {
        "colab": {
          "base_uri": "https://localhost:8080/",
          "height": 655
        },
        "id": "1T8Xy2az0KbR",
        "outputId": "56b10f07-78a7-49a4-a875-d093fc05e739"
      },
      "execution_count": 9,
      "outputs": [
        {
          "output_type": "execute_result",
          "data": {
            "text/plain": [
              "                        Name      ID  \\\n",
              "10          Dilceu Sperafico   73768   \n",
              "29                   Giacobo   74383   \n",
              "98               Zeca Dirceu  160592   \n",
              "111           Luiz Nishimori  162332   \n",
              "145            Aliel Machado  178927   \n",
              "146             Diego Garcia  178929   \n",
              "147            Luciano Ducci  178931   \n",
              "148             Sergio Souza  178933   \n",
              "149       Toninho Wandscheer  178934   \n",
              "176           Sargento Fahur  204387   \n",
              "228             Tadeu Veneri  220682   \n",
              "229             Pedro Lupion  204395   \n",
              "230               Beto Richa  220683   \n",
              "231                 Vermelho  204396   \n",
              "232            Tião Medeiros  220684   \n",
              "233      Felipe Francischini  204398   \n",
              "234              Paulo Litro  220685   \n",
              "235          Gleisi Hoffmann  107283   \n",
              "291           Luisa Canziani  204410   \n",
              "292            Filipe Barros  204411   \n",
              "407               Beto Preto  220698   \n",
              "438  Delegado Matheus Laiola  220701   \n",
              "467           Geraldo Mendes  220702   \n",
              "471            Carol Dartora  220704   \n",
              "475         Deltan Dallagnol  220705   \n",
              "481                 Padovani  220706   \n",
              "502             Marco Brasil  219585   \n",
              "507          Rodrigo Estacho  223128   \n",
              "511                   Welter  224333   \n",
              "512       Reinhold Stephanes  205865   \n",
              "\n",
              "                                                  Foto  UF     Gender  \\\n",
              "10   http://www.camara.gov.br/internet/deputado/ban...  PR  masculino   \n",
              "29   http://www.camara.gov.br/internet/deputado/ban...  PR  masculino   \n",
              "98   http://www.camara.gov.br/internet/deputado/ban...  PR  masculino   \n",
              "111  http://www.camara.gov.br/internet/deputado/ban...  PR  masculino   \n",
              "145  http://www.camara.gov.br/internet/deputado/ban...  PR  masculino   \n",
              "146  http://www.camara.gov.br/internet/deputado/ban...  PR  masculino   \n",
              "147  http://www.camara.gov.br/internet/deputado/ban...  PR  masculino   \n",
              "148  http://www.camara.gov.br/internet/deputado/ban...  PR  masculino   \n",
              "149  http://www.camara.gov.br/internet/deputado/ban...  PR  masculino   \n",
              "176  http://www.camara.gov.br/internet/deputado/ban...  PR  masculino   \n",
              "228  http://www.camara.gov.br/internet/deputado/ban...  PR  masculino   \n",
              "229  http://www.camara.gov.br/internet/deputado/ban...  PR  masculino   \n",
              "230  http://www.camara.gov.br/internet/deputado/ban...  PR  masculino   \n",
              "231  http://www.camara.gov.br/internet/deputado/ban...  PR  masculino   \n",
              "232  http://www.camara.gov.br/internet/deputado/ban...  PR  masculino   \n",
              "233  http://www.camara.gov.br/internet/deputado/ban...  PR  masculino   \n",
              "234  http://www.camara.gov.br/internet/deputado/ban...  PR  masculino   \n",
              "235  http://www.camara.gov.br/internet/deputado/ban...  PR   feminino   \n",
              "291  http://www.camara.gov.br/internet/deputado/ban...  PR   feminino   \n",
              "292  http://www.camara.gov.br/internet/deputado/ban...  PR  masculino   \n",
              "407  http://www.camara.gov.br/internet/deputado/ban...  PR  masculino   \n",
              "438  http://www.camara.gov.br/internet/deputado/ban...  PR  masculino   \n",
              "467  http://www.camara.gov.br/internet/deputado/ban...  PR  masculino   \n",
              "471  http://www.camara.gov.br/internet/deputado/ban...  PR   feminino   \n",
              "475  http://www.camara.gov.br/internet/deputado/ban...  PR  masculino   \n",
              "481  http://www.camara.gov.br/internet/deputado/ban...  PR  masculino   \n",
              "502  http://www.camara.gov.br/internet/deputado/ban...  PR  masculino   \n",
              "507  http://www.camara.gov.br/internet/deputado/ban...  PR  masculino   \n",
              "511  http://www.camara.gov.br/internet/deputado/ban...  PR  masculino   \n",
              "512  http://www.camara.gov.br/internet/deputado/ban...  PR  masculino   \n",
              "\n",
              "            Party  \n",
              "10             PP  \n",
              "29             PL  \n",
              "98             PT  \n",
              "111           PSD  \n",
              "145            PV  \n",
              "146  REPUBLICANOS  \n",
              "147           PSB  \n",
              "148           MDB  \n",
              "149            PP  \n",
              "176           PSD  \n",
              "228            PT  \n",
              "229            PP  \n",
              "230          PSDB  \n",
              "231            PL  \n",
              "232            PP  \n",
              "233         UNIÃO  \n",
              "234           PSD  \n",
              "235            PT  \n",
              "291           PSD  \n",
              "292            PL  \n",
              "407           PSD  \n",
              "438         UNIÃO  \n",
              "467         UNIÃO  \n",
              "471            PT  \n",
              "475          PODE  \n",
              "481         UNIÃO  \n",
              "502            PP  \n",
              "507           PSD  \n",
              "511            PT  \n",
              "512           PSD  "
            ],
            "text/html": [
              "\n",
              "  <div id=\"df-287872fe-7b1a-44da-a1db-ce9eb41dfd68\">\n",
              "    <div class=\"colab-df-container\">\n",
              "      <div>\n",
              "<style scoped>\n",
              "    .dataframe tbody tr th:only-of-type {\n",
              "        vertical-align: middle;\n",
              "    }\n",
              "\n",
              "    .dataframe tbody tr th {\n",
              "        vertical-align: top;\n",
              "    }\n",
              "\n",
              "    .dataframe thead th {\n",
              "        text-align: right;\n",
              "    }\n",
              "</style>\n",
              "<table border=\"1\" class=\"dataframe\">\n",
              "  <thead>\n",
              "    <tr style=\"text-align: right;\">\n",
              "      <th></th>\n",
              "      <th>Name</th>\n",
              "      <th>ID</th>\n",
              "      <th>Foto</th>\n",
              "      <th>UF</th>\n",
              "      <th>Gender</th>\n",
              "      <th>Party</th>\n",
              "    </tr>\n",
              "  </thead>\n",
              "  <tbody>\n",
              "    <tr>\n",
              "      <th>10</th>\n",
              "      <td>Dilceu Sperafico</td>\n",
              "      <td>73768</td>\n",
              "      <td>http://www.camara.gov.br/internet/deputado/ban...</td>\n",
              "      <td>PR</td>\n",
              "      <td>masculino</td>\n",
              "      <td>PP</td>\n",
              "    </tr>\n",
              "    <tr>\n",
              "      <th>29</th>\n",
              "      <td>Giacobo</td>\n",
              "      <td>74383</td>\n",
              "      <td>http://www.camara.gov.br/internet/deputado/ban...</td>\n",
              "      <td>PR</td>\n",
              "      <td>masculino</td>\n",
              "      <td>PL</td>\n",
              "    </tr>\n",
              "    <tr>\n",
              "      <th>98</th>\n",
              "      <td>Zeca Dirceu</td>\n",
              "      <td>160592</td>\n",
              "      <td>http://www.camara.gov.br/internet/deputado/ban...</td>\n",
              "      <td>PR</td>\n",
              "      <td>masculino</td>\n",
              "      <td>PT</td>\n",
              "    </tr>\n",
              "    <tr>\n",
              "      <th>111</th>\n",
              "      <td>Luiz Nishimori</td>\n",
              "      <td>162332</td>\n",
              "      <td>http://www.camara.gov.br/internet/deputado/ban...</td>\n",
              "      <td>PR</td>\n",
              "      <td>masculino</td>\n",
              "      <td>PSD</td>\n",
              "    </tr>\n",
              "    <tr>\n",
              "      <th>145</th>\n",
              "      <td>Aliel Machado</td>\n",
              "      <td>178927</td>\n",
              "      <td>http://www.camara.gov.br/internet/deputado/ban...</td>\n",
              "      <td>PR</td>\n",
              "      <td>masculino</td>\n",
              "      <td>PV</td>\n",
              "    </tr>\n",
              "    <tr>\n",
              "      <th>146</th>\n",
              "      <td>Diego Garcia</td>\n",
              "      <td>178929</td>\n",
              "      <td>http://www.camara.gov.br/internet/deputado/ban...</td>\n",
              "      <td>PR</td>\n",
              "      <td>masculino</td>\n",
              "      <td>REPUBLICANOS</td>\n",
              "    </tr>\n",
              "    <tr>\n",
              "      <th>147</th>\n",
              "      <td>Luciano Ducci</td>\n",
              "      <td>178931</td>\n",
              "      <td>http://www.camara.gov.br/internet/deputado/ban...</td>\n",
              "      <td>PR</td>\n",
              "      <td>masculino</td>\n",
              "      <td>PSB</td>\n",
              "    </tr>\n",
              "    <tr>\n",
              "      <th>148</th>\n",
              "      <td>Sergio Souza</td>\n",
              "      <td>178933</td>\n",
              "      <td>http://www.camara.gov.br/internet/deputado/ban...</td>\n",
              "      <td>PR</td>\n",
              "      <td>masculino</td>\n",
              "      <td>MDB</td>\n",
              "    </tr>\n",
              "    <tr>\n",
              "      <th>149</th>\n",
              "      <td>Toninho Wandscheer</td>\n",
              "      <td>178934</td>\n",
              "      <td>http://www.camara.gov.br/internet/deputado/ban...</td>\n",
              "      <td>PR</td>\n",
              "      <td>masculino</td>\n",
              "      <td>PP</td>\n",
              "    </tr>\n",
              "    <tr>\n",
              "      <th>176</th>\n",
              "      <td>Sargento Fahur</td>\n",
              "      <td>204387</td>\n",
              "      <td>http://www.camara.gov.br/internet/deputado/ban...</td>\n",
              "      <td>PR</td>\n",
              "      <td>masculino</td>\n",
              "      <td>PSD</td>\n",
              "    </tr>\n",
              "    <tr>\n",
              "      <th>228</th>\n",
              "      <td>Tadeu Veneri</td>\n",
              "      <td>220682</td>\n",
              "      <td>http://www.camara.gov.br/internet/deputado/ban...</td>\n",
              "      <td>PR</td>\n",
              "      <td>masculino</td>\n",
              "      <td>PT</td>\n",
              "    </tr>\n",
              "    <tr>\n",
              "      <th>229</th>\n",
              "      <td>Pedro Lupion</td>\n",
              "      <td>204395</td>\n",
              "      <td>http://www.camara.gov.br/internet/deputado/ban...</td>\n",
              "      <td>PR</td>\n",
              "      <td>masculino</td>\n",
              "      <td>PP</td>\n",
              "    </tr>\n",
              "    <tr>\n",
              "      <th>230</th>\n",
              "      <td>Beto Richa</td>\n",
              "      <td>220683</td>\n",
              "      <td>http://www.camara.gov.br/internet/deputado/ban...</td>\n",
              "      <td>PR</td>\n",
              "      <td>masculino</td>\n",
              "      <td>PSDB</td>\n",
              "    </tr>\n",
              "    <tr>\n",
              "      <th>231</th>\n",
              "      <td>Vermelho</td>\n",
              "      <td>204396</td>\n",
              "      <td>http://www.camara.gov.br/internet/deputado/ban...</td>\n",
              "      <td>PR</td>\n",
              "      <td>masculino</td>\n",
              "      <td>PL</td>\n",
              "    </tr>\n",
              "    <tr>\n",
              "      <th>232</th>\n",
              "      <td>Tião Medeiros</td>\n",
              "      <td>220684</td>\n",
              "      <td>http://www.camara.gov.br/internet/deputado/ban...</td>\n",
              "      <td>PR</td>\n",
              "      <td>masculino</td>\n",
              "      <td>PP</td>\n",
              "    </tr>\n",
              "    <tr>\n",
              "      <th>233</th>\n",
              "      <td>Felipe Francischini</td>\n",
              "      <td>204398</td>\n",
              "      <td>http://www.camara.gov.br/internet/deputado/ban...</td>\n",
              "      <td>PR</td>\n",
              "      <td>masculino</td>\n",
              "      <td>UNIÃO</td>\n",
              "    </tr>\n",
              "    <tr>\n",
              "      <th>234</th>\n",
              "      <td>Paulo Litro</td>\n",
              "      <td>220685</td>\n",
              "      <td>http://www.camara.gov.br/internet/deputado/ban...</td>\n",
              "      <td>PR</td>\n",
              "      <td>masculino</td>\n",
              "      <td>PSD</td>\n",
              "    </tr>\n",
              "    <tr>\n",
              "      <th>235</th>\n",
              "      <td>Gleisi Hoffmann</td>\n",
              "      <td>107283</td>\n",
              "      <td>http://www.camara.gov.br/internet/deputado/ban...</td>\n",
              "      <td>PR</td>\n",
              "      <td>feminino</td>\n",
              "      <td>PT</td>\n",
              "    </tr>\n",
              "    <tr>\n",
              "      <th>291</th>\n",
              "      <td>Luisa Canziani</td>\n",
              "      <td>204410</td>\n",
              "      <td>http://www.camara.gov.br/internet/deputado/ban...</td>\n",
              "      <td>PR</td>\n",
              "      <td>feminino</td>\n",
              "      <td>PSD</td>\n",
              "    </tr>\n",
              "    <tr>\n",
              "      <th>292</th>\n",
              "      <td>Filipe Barros</td>\n",
              "      <td>204411</td>\n",
              "      <td>http://www.camara.gov.br/internet/deputado/ban...</td>\n",
              "      <td>PR</td>\n",
              "      <td>masculino</td>\n",
              "      <td>PL</td>\n",
              "    </tr>\n",
              "    <tr>\n",
              "      <th>407</th>\n",
              "      <td>Beto Preto</td>\n",
              "      <td>220698</td>\n",
              "      <td>http://www.camara.gov.br/internet/deputado/ban...</td>\n",
              "      <td>PR</td>\n",
              "      <td>masculino</td>\n",
              "      <td>PSD</td>\n",
              "    </tr>\n",
              "    <tr>\n",
              "      <th>438</th>\n",
              "      <td>Delegado Matheus Laiola</td>\n",
              "      <td>220701</td>\n",
              "      <td>http://www.camara.gov.br/internet/deputado/ban...</td>\n",
              "      <td>PR</td>\n",
              "      <td>masculino</td>\n",
              "      <td>UNIÃO</td>\n",
              "    </tr>\n",
              "    <tr>\n",
              "      <th>467</th>\n",
              "      <td>Geraldo Mendes</td>\n",
              "      <td>220702</td>\n",
              "      <td>http://www.camara.gov.br/internet/deputado/ban...</td>\n",
              "      <td>PR</td>\n",
              "      <td>masculino</td>\n",
              "      <td>UNIÃO</td>\n",
              "    </tr>\n",
              "    <tr>\n",
              "      <th>471</th>\n",
              "      <td>Carol Dartora</td>\n",
              "      <td>220704</td>\n",
              "      <td>http://www.camara.gov.br/internet/deputado/ban...</td>\n",
              "      <td>PR</td>\n",
              "      <td>feminino</td>\n",
              "      <td>PT</td>\n",
              "    </tr>\n",
              "    <tr>\n",
              "      <th>475</th>\n",
              "      <td>Deltan Dallagnol</td>\n",
              "      <td>220705</td>\n",
              "      <td>http://www.camara.gov.br/internet/deputado/ban...</td>\n",
              "      <td>PR</td>\n",
              "      <td>masculino</td>\n",
              "      <td>PODE</td>\n",
              "    </tr>\n",
              "    <tr>\n",
              "      <th>481</th>\n",
              "      <td>Padovani</td>\n",
              "      <td>220706</td>\n",
              "      <td>http://www.camara.gov.br/internet/deputado/ban...</td>\n",
              "      <td>PR</td>\n",
              "      <td>masculino</td>\n",
              "      <td>UNIÃO</td>\n",
              "    </tr>\n",
              "    <tr>\n",
              "      <th>502</th>\n",
              "      <td>Marco Brasil</td>\n",
              "      <td>219585</td>\n",
              "      <td>http://www.camara.gov.br/internet/deputado/ban...</td>\n",
              "      <td>PR</td>\n",
              "      <td>masculino</td>\n",
              "      <td>PP</td>\n",
              "    </tr>\n",
              "    <tr>\n",
              "      <th>507</th>\n",
              "      <td>Rodrigo Estacho</td>\n",
              "      <td>223128</td>\n",
              "      <td>http://www.camara.gov.br/internet/deputado/ban...</td>\n",
              "      <td>PR</td>\n",
              "      <td>masculino</td>\n",
              "      <td>PSD</td>\n",
              "    </tr>\n",
              "    <tr>\n",
              "      <th>511</th>\n",
              "      <td>Welter</td>\n",
              "      <td>224333</td>\n",
              "      <td>http://www.camara.gov.br/internet/deputado/ban...</td>\n",
              "      <td>PR</td>\n",
              "      <td>masculino</td>\n",
              "      <td>PT</td>\n",
              "    </tr>\n",
              "    <tr>\n",
              "      <th>512</th>\n",
              "      <td>Reinhold Stephanes</td>\n",
              "      <td>205865</td>\n",
              "      <td>http://www.camara.gov.br/internet/deputado/ban...</td>\n",
              "      <td>PR</td>\n",
              "      <td>masculino</td>\n",
              "      <td>PSD</td>\n",
              "    </tr>\n",
              "  </tbody>\n",
              "</table>\n",
              "</div>\n",
              "      <button class=\"colab-df-convert\" onclick=\"convertToInteractive('df-287872fe-7b1a-44da-a1db-ce9eb41dfd68')\"\n",
              "              title=\"Convert this dataframe to an interactive table.\"\n",
              "              style=\"display:none;\">\n",
              "        \n",
              "  <svg xmlns=\"http://www.w3.org/2000/svg\" height=\"24px\"viewBox=\"0 0 24 24\"\n",
              "       width=\"24px\">\n",
              "    <path d=\"M0 0h24v24H0V0z\" fill=\"none\"/>\n",
              "    <path d=\"M18.56 5.44l.94 2.06.94-2.06 2.06-.94-2.06-.94-.94-2.06-.94 2.06-2.06.94zm-11 1L8.5 8.5l.94-2.06 2.06-.94-2.06-.94L8.5 2.5l-.94 2.06-2.06.94zm10 10l.94 2.06.94-2.06 2.06-.94-2.06-.94-.94-2.06-.94 2.06-2.06.94z\"/><path d=\"M17.41 7.96l-1.37-1.37c-.4-.4-.92-.59-1.43-.59-.52 0-1.04.2-1.43.59L10.3 9.45l-7.72 7.72c-.78.78-.78 2.05 0 2.83L4 21.41c.39.39.9.59 1.41.59.51 0 1.02-.2 1.41-.59l7.78-7.78 2.81-2.81c.8-.78.8-2.07 0-2.86zM5.41 20L4 18.59l7.72-7.72 1.47 1.35L5.41 20z\"/>\n",
              "  </svg>\n",
              "      </button>\n",
              "      \n",
              "  <style>\n",
              "    .colab-df-container {\n",
              "      display:flex;\n",
              "      flex-wrap:wrap;\n",
              "      gap: 12px;\n",
              "    }\n",
              "\n",
              "    .colab-df-convert {\n",
              "      background-color: #E8F0FE;\n",
              "      border: none;\n",
              "      border-radius: 50%;\n",
              "      cursor: pointer;\n",
              "      display: none;\n",
              "      fill: #1967D2;\n",
              "      height: 32px;\n",
              "      padding: 0 0 0 0;\n",
              "      width: 32px;\n",
              "    }\n",
              "\n",
              "    .colab-df-convert:hover {\n",
              "      background-color: #E2EBFA;\n",
              "      box-shadow: 0px 1px 2px rgba(60, 64, 67, 0.3), 0px 1px 3px 1px rgba(60, 64, 67, 0.15);\n",
              "      fill: #174EA6;\n",
              "    }\n",
              "\n",
              "    [theme=dark] .colab-df-convert {\n",
              "      background-color: #3B4455;\n",
              "      fill: #D2E3FC;\n",
              "    }\n",
              "\n",
              "    [theme=dark] .colab-df-convert:hover {\n",
              "      background-color: #434B5C;\n",
              "      box-shadow: 0px 1px 3px 1px rgba(0, 0, 0, 0.15);\n",
              "      filter: drop-shadow(0px 1px 2px rgba(0, 0, 0, 0.3));\n",
              "      fill: #FFFFFF;\n",
              "    }\n",
              "  </style>\n",
              "\n",
              "      <script>\n",
              "        const buttonEl =\n",
              "          document.querySelector('#df-287872fe-7b1a-44da-a1db-ce9eb41dfd68 button.colab-df-convert');\n",
              "        buttonEl.style.display =\n",
              "          google.colab.kernel.accessAllowed ? 'block' : 'none';\n",
              "\n",
              "        async function convertToInteractive(key) {\n",
              "          const element = document.querySelector('#df-287872fe-7b1a-44da-a1db-ce9eb41dfd68');\n",
              "          const dataTable =\n",
              "            await google.colab.kernel.invokeFunction('convertToInteractive',\n",
              "                                                     [key], {});\n",
              "          if (!dataTable) return;\n",
              "\n",
              "          const docLinkHtml = 'Like what you see? Visit the ' +\n",
              "            '<a target=\"_blank\" href=https://colab.research.google.com/notebooks/data_table.ipynb>data table notebook</a>'\n",
              "            + ' to learn more about interactive tables.';\n",
              "          element.innerHTML = '';\n",
              "          dataTable['output_type'] = 'display_data';\n",
              "          await google.colab.output.renderOutput(dataTable, element);\n",
              "          const docLink = document.createElement('div');\n",
              "          docLink.innerHTML = docLinkHtml;\n",
              "          element.appendChild(docLink);\n",
              "        }\n",
              "      </script>\n",
              "    </div>\n",
              "  </div>\n",
              "  "
            ]
          },
          "metadata": {},
          "execution_count": 9
        }
      ]
    },
    {
      "cell_type": "markdown",
      "source": [
        "We could want to verify if we have any missing data by asking for info()."
      ],
      "metadata": {
        "id": "_lVUBabIxeSg"
      }
    },
    {
      "cell_type": "code",
      "source": [
        "Deputados.info()"
      ],
      "metadata": {
        "colab": {
          "base_uri": "https://localhost:8080/"
        },
        "id": "NJzLVWW1t0Wi",
        "outputId": "756ccd2c-d455-498c-bd66-f5ec450c2b63"
      },
      "execution_count": 10,
      "outputs": [
        {
          "output_type": "stream",
          "name": "stdout",
          "text": [
            "<class 'pandas.core.frame.DataFrame'>\n",
            "RangeIndex: 513 entries, 0 to 512\n",
            "Data columns (total 6 columns):\n",
            " #   Column  Non-Null Count  Dtype \n",
            "---  ------  --------------  ----- \n",
            " 0   Name    513 non-null    object\n",
            " 1   ID      513 non-null    object\n",
            " 2   Foto    513 non-null    object\n",
            " 3   UF      513 non-null    object\n",
            " 4   Gender  513 non-null    object\n",
            " 5   Party   513 non-null    object\n",
            "dtypes: object(6)\n",
            "memory usage: 24.2+ KB\n"
          ]
        }
      ]
    },
    {
      "cell_type": "markdown",
      "source": [
        "\n",
        "Do you see how each column has the same number of elements: 513?\n",
        "Knowing that there should be 513 Congresspersons, it seems that there is no missing information.\n",
        "\n"
      ],
      "metadata": {
        "id": "VrLmAjWlxlxP"
      }
    },
    {
      "cell_type": "markdown",
      "source": [
        "We could also request to describe the UF's, although the result should not bring any new information:\n",
        "<br> \n",
        "*   There should be 513 Congresspersons.\n",
        "*   Brazil has 26 UF's + the Federal District, so it should be 27 unique UF's.\n",
        "*   Sao Paulo is the state with more congresspersons.\n",
        "<br>\n",
        "*What about those that are temporarily replacing a congressperson, would they be added to this list?*"
      ],
      "metadata": {
        "id": "lSddJYiny0jO"
      }
    },
    {
      "cell_type": "code",
      "source": [
        "Deputados['UF'].describe()"
      ],
      "metadata": {
        "colab": {
          "base_uri": "https://localhost:8080/"
        },
        "id": "XXL-POERyOcW",
        "outputId": "5d99daf2-49c2-4635-b00c-ae6fba18494f"
      },
      "execution_count": 11,
      "outputs": [
        {
          "output_type": "execute_result",
          "data": {
            "text/plain": [
              "count     513\n",
              "unique     27\n",
              "top        SP\n",
              "freq       70\n",
              "Name: UF, dtype: object"
            ]
          },
          "metadata": {},
          "execution_count": 11
        }
      ]
    },
    {
      "cell_type": "markdown",
      "source": [
        "But we can also want to see how they are gender classified:"
      ],
      "metadata": {
        "id": "3utY1sSFx-fY"
      }
    },
    {
      "cell_type": "code",
      "source": [
        "Deputados['Gender'].value_counts()"
      ],
      "metadata": {
        "colab": {
          "base_uri": "https://localhost:8080/"
        },
        "id": "03wfh0Z9uLma",
        "outputId": "59f3591f-bd58-49c4-e542-10dec3b4bc89"
      },
      "execution_count": 12,
      "outputs": [
        {
          "output_type": "execute_result",
          "data": {
            "text/plain": [
              "masculino    426\n",
              "feminino      87\n",
              "Name: Gender, dtype: int64"
            ]
          },
          "metadata": {},
          "execution_count": 12
        }
      ]
    },
    {
      "cell_type": "markdown",
      "source": [
        "And make a pie chart of it:"
      ],
      "metadata": {
        "id": "HYKLvLCSyIlt"
      }
    },
    {
      "cell_type": "code",
      "source": [
        "Deputados['Gender'].value_counts().plot(kind=\"pie\")"
      ],
      "metadata": {
        "colab": {
          "base_uri": "https://localhost:8080/",
          "height": 423
        },
        "id": "EiM61mOzuYRX",
        "outputId": "4be9a10e-eac4-44ca-9ef0-5870dd732774"
      },
      "execution_count": 13,
      "outputs": [
        {
          "output_type": "execute_result",
          "data": {
            "text/plain": [
              "<Axes: ylabel='Gender'>"
            ]
          },
          "metadata": {},
          "execution_count": 13
        },
        {
          "output_type": "display_data",
          "data": {
            "text/plain": [
              "<Figure size 640x480 with 1 Axes>"
            ],
            "image/png": "[encoded data removed]"
          },
          "metadata": {}
        }
      ]
    },
    {
      "cell_type": "markdown",
      "source": [
        "This can get interesting when verifying the correlation between political party and gender, or UF and gender."
      ],
      "metadata": {
        "id": "LtqzJSfd5wAP"
      }
    },
    {
      "cell_type": "markdown",
      "source": [
        "## Adding other sources of data"
      ],
      "metadata": {
        "id": "vnp0-OgQ3Wd2"
      }
    },
    {
      "cell_type": "markdown",
      "source": [
        "Let's use another endpoint to retrieve information such as the birth date and the level of studies of each congressperson. So we start by creating a list for each element.\n",
        "<br><br>\n",
        "The API endpoint where this information comes from has a static portion and a dynamic portion, let's have the Static portion declared:"
      ],
      "metadata": {
        "id": "wcpQ_gRfNOgF"
      }
    },
    {
      "cell_type": "code",
      "source": [
        "bdate = []\n",
        "studies = []\n",
        "\n",
        "Static_URL = \"https://dadosabertos.camara.leg.br/api/v2/deputados/\""
      ],
      "metadata": {
        "id": "w7NVvxe6Kfwc"
      },
      "execution_count": 14,
      "outputs": []
    },
    {
      "cell_type": "markdown",
      "source": [
        "\n",
        "\n",
        "*   The dynamic portion of the URL is the ID of each congressperson.\n",
        "*   So, for every element in ID - that we will call i - we will get a specific URL (i_URL).\n",
        "*   Run a requests.get on this i_URL and get the text/xml data.\n",
        "*   Using ET we will get the content of the xml.\n",
        "*   Now we just extract the data we want and append it to the correspondent list."
      ],
      "metadata": {
        "id": "5FtoGjDiKkUC"
      }
    },
    {
      "cell_type": "code",
      "source": [
        "for i in Deputados['ID']:\n",
        "    i_URL = Static_URL + str(i)\n",
        "    response = requests.get(url=i_URL, headers={'Accept': 'text/xml'})\n",
        "    root2 = ET.fromstring(response.content)\n",
        "    for data in root2.iter('dataNascimento'):\n",
        "      bdate.append(data.text)\n",
        "    for info in root2.iter('escolaridade'):\n",
        "      studies.append(info.text)"
      ],
      "metadata": {
        "id": "5mEZNweMI5dz"
      },
      "execution_count": 15,
      "outputs": []
    },
    {
      "cell_type": "markdown",
      "source": [
        "Just like with our previous data frame, create a dictionary that contains the values extracted. <br><br> Add the ID column so it is used as reference to join the Deputados dictionary with the new_df correctly."
      ],
      "metadata": {
        "id": "-J1NqFW1GJun"
      }
    },
    {
      "cell_type": "code",
      "source": [
        "new_df = pd.DataFrame({'ID': dep_id, 'Birthdate': bdate, 'Scolarity': studies})"
      ],
      "metadata": {
        "id": "-FWqpEe08VRM"
      },
      "execution_count": 16,
      "outputs": []
    },
    {
      "cell_type": "code",
      "source": [
        "Deputados = Deputados.join(new_df, lsuffix=\"_left\", rsuffix=\"_right\", how='left')"
      ],
      "metadata": {
        "id": "UVcG4ROp-Sks"
      },
      "execution_count": 17,
      "outputs": []
    },
    {
      "cell_type": "markdown",
      "source": [
        "Now our Deputados dataframe is bigger!"
      ],
      "metadata": {
        "id": "GIoiseYGL4v2"
      }
    },
    {
      "cell_type": "code",
      "source": [
        "Deputados.head(513)"
      ],
      "metadata": {
        "id": "uq9AjfZWEid2"
      },
      "execution_count": null,
      "outputs": []
    },
    {
      "cell_type": "markdown",
      "source": [
        "We do not want duplicated columns, so let's drop the ID_right column:"
      ],
      "metadata": {
        "id": "DD-bfggJJaRJ"
      }
    },
    {
      "cell_type": "code",
      "source": [
        "Deputados.drop('ID_right', inplace=True, axis=1)"
      ],
      "metadata": {
        "id": "c9vNeEPGDx3k"
      },
      "execution_count": 19,
      "outputs": []
    },
    {
      "cell_type": "markdown",
      "source": [
        "Let's rename the ID_left column name to ID:"
      ],
      "metadata": {
        "id": "H1qs5it5KKna"
      }
    },
    {
      "cell_type": "code",
      "source": [
        "Deputados.rename(columns={\"ID_left\": \"ID\"})"
      ],
      "metadata": {
        "colab": {
          "base_uri": "https://localhost:8080/",
          "height": 655
        },
        "id": "kQWlk7iwKGsU",
        "outputId": "b3159edc-32ee-4f86-b88a-799f19272fbe"
      },
      "execution_count": 20,
      "outputs": [
        {
          "output_type": "execute_result",
          "data": {
            "text/plain": [
              "                   Name      ID  \\\n",
              "0     Benedita da Silva   73701   \n",
              "1            Átila Lins   74090   \n",
              "2     Renildo Calheiros   73801   \n",
              "3       Jandira Feghali   74848   \n",
              "4        Lídice da Mata  139285   \n",
              "..                  ...     ...   \n",
              "508   Leônidas Cristino   74299   \n",
              "509     Luciano Azevedo  103758   \n",
              "510        Gabriel Mota  224117   \n",
              "511              Welter  224333   \n",
              "512  Reinhold Stephanes  205865   \n",
              "\n",
              "                                                  Foto  UF     Gender  \\\n",
              "0    http://www.camara.gov.br/internet/deputado/ban...  RJ   feminino   \n",
              "1    http://www.camara.gov.br/internet/deputado/ban...  AM  masculino   \n",
              "2    http://www.camara.gov.br/internet/deputado/ban...  PE  masculino   \n",
              "3    http://www.camara.gov.br/internet/deputado/ban...  RJ   feminino   \n",
              "4    http://www.camara.gov.br/internet/deputado/ban...  BA   feminino   \n",
              "..                                                 ...  ..        ...   \n",
              "508  http://www.camara.gov.br/internet/deputado/ban...  CE  masculino   \n",
              "509  http://www.camara.gov.br/internet/deputado/ban...  RS  masculino   \n",
              "510  http://www.camara.gov.br/internet/deputado/ban...  RR  masculino   \n",
              "511  http://www.camara.gov.br/internet/deputado/ban...  PR  masculino   \n",
              "512  http://www.camara.gov.br/internet/deputado/ban...  PR  masculino   \n",
              "\n",
              "            Party   Birthdate      Scolarity  \n",
              "0              PT  1942-04-26       Superior  \n",
              "1             PSD  1950-11-22       Superior  \n",
              "2           PCdoB  1959-04-20       Superior  \n",
              "3           PCdoB  1957-05-17  Pós-Graduação  \n",
              "4             PSB  1956-03-12       Superior  \n",
              "..            ...         ...            ...  \n",
              "508           PDT  1957-06-03       Superior  \n",
              "509           PSD  1969-05-24       Superior  \n",
              "510  REPUBLICANOS  1982-12-24           None  \n",
              "511            PT  1968-11-23       Superior  \n",
              "512           PSD  1965-07-26       Superior  \n",
              "\n",
              "[513 rows x 8 columns]"
            ],
            "text/html": [
              "\n",
              "  <div id=\"df-24f01be2-1071-4659-9da5-90e58245edd1\">\n",
              "    <div class=\"colab-df-container\">\n",
              "      <div>\n",
              "<style scoped>\n",
              "    .dataframe tbody tr th:only-of-type {\n",
              "        vertical-align: middle;\n",
              "    }\n",
              "\n",
              "    .dataframe tbody tr th {\n",
              "        vertical-align: top;\n",
              "    }\n",
              "\n",
              "    .dataframe thead th {\n",
              "        text-align: right;\n",
              "    }\n",
              "</style>\n",
              "<table border=\"1\" class=\"dataframe\">\n",
              "  <thead>\n",
              "    <tr style=\"text-align: right;\">\n",
              "      <th></th>\n",
              "      <th>Name</th>\n",
              "      <th>ID</th>\n",
              "      <th>Foto</th>\n",
              "      <th>UF</th>\n",
              "      <th>Gender</th>\n",
              "      <th>Party</th>\n",
              "      <th>Birthdate</th>\n",
              "      <th>Scolarity</th>\n",
              "    </tr>\n",
              "  </thead>\n",
              "  <tbody>\n",
              "    <tr>\n",
              "      <th>0</th>\n",
              "      <td>Benedita da Silva</td>\n",
              "      <td>73701</td>\n",
              "      <td>http://www.camara.gov.br/internet/deputado/ban...</td>\n",
              "      <td>RJ</td>\n",
              "      <td>feminino</td>\n",
              "      <td>PT</td>\n",
              "      <td>1942-04-26</td>\n",
              "      <td>Superior</td>\n",
              "    </tr>\n",
              "    <tr>\n",
              "      <th>1</th>\n",
              "      <td>Átila Lins</td>\n",
              "      <td>74090</td>\n",
              "      <td>http://www.camara.gov.br/internet/deputado/ban...</td>\n",
              "      <td>AM</td>\n",
              "      <td>masculino</td>\n",
              "      <td>PSD</td>\n",
              "      <td>1950-11-22</td>\n",
              "      <td>Superior</td>\n",
              "    </tr>\n",
              "    <tr>\n",
              "      <th>2</th>\n",
              "      <td>Renildo Calheiros</td>\n",
              "      <td>73801</td>\n",
              "      <td>http://www.camara.gov.br/internet/deputado/ban...</td>\n",
              "      <td>PE</td>\n",
              "      <td>masculino</td>\n",
              "      <td>PCdoB</td>\n",
              "      <td>1959-04-20</td>\n",
              "      <td>Superior</td>\n",
              "    </tr>\n",
              "    <tr>\n",
              "      <th>3</th>\n",
              "      <td>Jandira Feghali</td>\n",
              "      <td>74848</td>\n",
              "      <td>http://www.camara.gov.br/internet/deputado/ban...</td>\n",
              "      <td>RJ</td>\n",
              "      <td>feminino</td>\n",
              "      <td>PCdoB</td>\n",
              "      <td>1957-05-17</td>\n",
              "      <td>Pós-Graduação</td>\n",
              "    </tr>\n",
              "    <tr>\n",
              "      <th>4</th>\n",
              "      <td>Lídice da Mata</td>\n",
              "      <td>139285</td>\n",
              "      <td>http://www.camara.gov.br/internet/deputado/ban...</td>\n",
              "      <td>BA</td>\n",
              "      <td>feminino</td>\n",
              "      <td>PSB</td>\n",
              "      <td>1956-03-12</td>\n",
              "      <td>Superior</td>\n",
              "    </tr>\n",
              "    <tr>\n",
              "      <th>...</th>\n",
              "      <td>...</td>\n",
              "      <td>...</td>\n",
              "      <td>...</td>\n",
              "      <td>...</td>\n",
              "      <td>...</td>\n",
              "      <td>...</td>\n",
              "      <td>...</td>\n",
              "      <td>...</td>\n",
              "    </tr>\n",
              "    <tr>\n",
              "      <th>508</th>\n",
              "      <td>Leônidas Cristino</td>\n",
              "      <td>74299</td>\n",
              "      <td>http://www.camara.gov.br/internet/deputado/ban...</td>\n",
              "      <td>CE</td>\n",
              "      <td>masculino</td>\n",
              "      <td>PDT</td>\n",
              "      <td>1957-06-03</td>\n",
              "      <td>Superior</td>\n",
              "    </tr>\n",
              "    <tr>\n",
              "      <th>509</th>\n",
              "      <td>Luciano Azevedo</td>\n",
              "      <td>103758</td>\n",
              "      <td>http://www.camara.gov.br/internet/deputado/ban...</td>\n",
              "      <td>RS</td>\n",
              "      <td>masculino</td>\n",
              "      <td>PSD</td>\n",
              "      <td>1969-05-24</td>\n",
              "      <td>Superior</td>\n",
              "    </tr>\n",
              "    <tr>\n",
              "      <th>510</th>\n",
              "      <td>Gabriel Mota</td>\n",
              "      <td>224117</td>\n",
              "      <td>http://www.camara.gov.br/internet/deputado/ban...</td>\n",
              "      <td>RR</td>\n",
              "      <td>masculino</td>\n",
              "      <td>REPUBLICANOS</td>\n",
              "      <td>1982-12-24</td>\n",
              "      <td>None</td>\n",
              "    </tr>\n",
              "    <tr>\n",
              "      <th>511</th>\n",
              "      <td>Welter</td>\n",
              "      <td>224333</td>\n",
              "      <td>http://www.camara.gov.br/internet/deputado/ban...</td>\n",
              "      <td>PR</td>\n",
              "      <td>masculino</td>\n",
              "      <td>PT</td>\n",
              "      <td>1968-11-23</td>\n",
              "      <td>Superior</td>\n",
              "    </tr>\n",
              "    <tr>\n",
              "      <th>512</th>\n",
              "      <td>Reinhold Stephanes</td>\n",
              "      <td>205865</td>\n",
              "      <td>http://www.camara.gov.br/internet/deputado/ban...</td>\n",
              "      <td>PR</td>\n",
              "      <td>masculino</td>\n",
              "      <td>PSD</td>\n",
              "      <td>1965-07-26</td>\n",
              "      <td>Superior</td>\n",
              "    </tr>\n",
              "  </tbody>\n",
              "</table>\n",
              "<p>513 rows × 8 columns</p>\n",
              "</div>\n",
              "      <button class=\"colab-df-convert\" onclick=\"convertToInteractive('df-24f01be2-1071-4659-9da5-90e58245edd1')\"\n",
              "              title=\"Convert this dataframe to an interactive table.\"\n",
              "              style=\"display:none;\">\n",
              "        \n",
              "  <svg xmlns=\"http://www.w3.org/2000/svg\" height=\"24px\"viewBox=\"0 0 24 24\"\n",
              "       width=\"24px\">\n",
              "    <path d=\"M0 0h24v24H0V0z\" fill=\"none\"/>\n",
              "    <path d=\"M18.56 5.44l.94 2.06.94-2.06 2.06-.94-2.06-.94-.94-2.06-.94 2.06-2.06.94zm-11 1L8.5 8.5l.94-2.06 2.06-.94-2.06-.94L8.5 2.5l-.94 2.06-2.06.94zm10 10l.94 2.06.94-2.06 2.06-.94-2.06-.94-.94-2.06-.94 2.06-2.06.94z\"/><path d=\"M17.41 7.96l-1.37-1.37c-.4-.4-.92-.59-1.43-.59-.52 0-1.04.2-1.43.59L10.3 9.45l-7.72 7.72c-.78.78-.78 2.05 0 2.83L4 21.41c.39.39.9.59 1.41.59.51 0 1.02-.2 1.41-.59l7.78-7.78 2.81-2.81c.8-.78.8-2.07 0-2.86zM5.41 20L4 18.59l7.72-7.72 1.47 1.35L5.41 20z\"/>\n",
              "  </svg>\n",
              "      </button>\n",
              "      \n",
              "  <style>\n",
              "    .colab-df-container {\n",
              "      display:flex;\n",
              "      flex-wrap:wrap;\n",
              "      gap: 12px;\n",
              "    }\n",
              "\n",
              "    .colab-df-convert {\n",
              "      background-color: #E8F0FE;\n",
              "      border: none;\n",
              "      border-radius: 50%;\n",
              "      cursor: pointer;\n",
              "      display: none;\n",
              "      fill: #1967D2;\n",
              "      height: 32px;\n",
              "      padding: 0 0 0 0;\n",
              "      width: 32px;\n",
              "    }\n",
              "\n",
              "    .colab-df-convert:hover {\n",
              "      background-color: #E2EBFA;\n",
              "      box-shadow: 0px 1px 2px rgba(60, 64, 67, 0.3), 0px 1px 3px 1px rgba(60, 64, 67, 0.15);\n",
              "      fill: #174EA6;\n",
              "    }\n",
              "\n",
              "    [theme=dark] .colab-df-convert {\n",
              "      background-color: #3B4455;\n",
              "      fill: #D2E3FC;\n",
              "    }\n",
              "\n",
              "    [theme=dark] .colab-df-convert:hover {\n",
              "      background-color: #434B5C;\n",
              "      box-shadow: 0px 1px 3px 1px rgba(0, 0, 0, 0.15);\n",
              "      filter: drop-shadow(0px 1px 2px rgba(0, 0, 0, 0.3));\n",
              "      fill: #FFFFFF;\n",
              "    }\n",
              "  </style>\n",
              "\n",
              "      <script>\n",
              "        const buttonEl =\n",
              "          document.querySelector('#df-24f01be2-1071-4659-9da5-90e58245edd1 button.colab-df-convert');\n",
              "        buttonEl.style.display =\n",
              "          google.colab.kernel.accessAllowed ? 'block' : 'none';\n",
              "\n",
              "        async function convertToInteractive(key) {\n",
              "          const element = document.querySelector('#df-24f01be2-1071-4659-9da5-90e58245edd1');\n",
              "          const dataTable =\n",
              "            await google.colab.kernel.invokeFunction('convertToInteractive',\n",
              "                                                     [key], {});\n",
              "          if (!dataTable) return;\n",
              "\n",
              "          const docLinkHtml = 'Like what you see? Visit the ' +\n",
              "            '<a target=\"_blank\" href=https://colab.research.google.com/notebooks/data_table.ipynb>data table notebook</a>'\n",
              "            + ' to learn more about interactive tables.';\n",
              "          element.innerHTML = '';\n",
              "          dataTable['output_type'] = 'display_data';\n",
              "          await google.colab.output.renderOutput(dataTable, element);\n",
              "          const docLink = document.createElement('div');\n",
              "          docLink.innerHTML = docLinkHtml;\n",
              "          element.appendChild(docLink);\n",
              "        }\n",
              "      </script>\n",
              "    </div>\n",
              "  </div>\n",
              "  "
            ]
          },
          "metadata": {},
          "execution_count": 20
        }
      ]
    },
    {
      "cell_type": "markdown",
      "source": [
        "Looking way better! Let's just adjust that Birthdate column is a datetime type, not object - This will be important for the future."
      ],
      "metadata": {
        "id": "zE_VO7NdL_J9"
      }
    },
    {
      "cell_type": "code",
      "source": [
        "Deputados['Birthdate'] = pd.to_datetime(Deputados['Birthdate'])"
      ],
      "metadata": {
        "id": "qKhBkWN0Ibdk"
      },
      "execution_count": 21,
      "outputs": []
    },
    {
      "cell_type": "markdown",
      "source": [
        "And with birth date adjusted, we can calculate the age of each congressperson."
      ],
      "metadata": {
        "id": "t-A1LPNUM0U-"
      }
    },
    {
      "cell_type": "code",
      "source": [
        "age = []\n",
        "\n",
        "from datetime import date, timedelta\n",
        "\n",
        "for date in Deputados['Birthdate']:\n",
        "  result = (date.today() - date) // timedelta(days=365.2425)\n",
        "  age.append(result)"
      ],
      "metadata": {
        "id": "16KQUqtNPXk3"
      },
      "execution_count": 22,
      "outputs": []
    },
    {
      "cell_type": "code",
      "source": [
        "join_age = pd.DataFrame({'ID': dep_id, 'Age': age})"
      ],
      "metadata": {
        "id": "02gSE_xVQJs4"
      },
      "execution_count": 23,
      "outputs": []
    },
    {
      "cell_type": "code",
      "source": [
        "Deputados = Deputados.join(join_age, lsuffix=\"_left\", rsuffix=\"_right\", how='left')\n",
        "Deputados.drop('ID_left', inplace=True, axis=1)"
      ],
      "metadata": {
        "id": "JXFr3tuxP4rE"
      },
      "execution_count": 24,
      "outputs": []
    },
    {
      "cell_type": "code",
      "source": [
        "Deputados.info()"
      ],
      "metadata": {
        "colab": {
          "base_uri": "https://localhost:8080/"
        },
        "id": "4VJQqxQQQlTL",
        "outputId": "aebde0d4-2dbb-4c4e-ed0f-941b087b4c74"
      },
      "execution_count": 25,
      "outputs": [
        {
          "output_type": "stream",
          "name": "stdout",
          "text": [
            "<class 'pandas.core.frame.DataFrame'>\n",
            "RangeIndex: 513 entries, 0 to 512\n",
            "Data columns (total 9 columns):\n",
            " #   Column     Non-Null Count  Dtype         \n",
            "---  ------     --------------  -----         \n",
            " 0   Name       513 non-null    object        \n",
            " 1   Foto       513 non-null    object        \n",
            " 2   UF         513 non-null    object        \n",
            " 3   Gender     513 non-null    object        \n",
            " 4   Party      513 non-null    object        \n",
            " 5   Birthdate  513 non-null    datetime64[ns]\n",
            " 6   Scolarity  446 non-null    object        \n",
            " 7   ID         513 non-null    object        \n",
            " 8   Age        513 non-null    int64         \n",
            "dtypes: datetime64[ns](1), int64(1), object(7)\n",
            "memory usage: 36.2+ KB\n"
          ]
        }
      ]
    },
    {
      "cell_type": "markdown",
      "source": [
        "Now we can see the average age of a congressperson, the oldest and the youngest as well."
      ],
      "metadata": {
        "id": "q744B1cnVRX0"
      }
    },
    {
      "cell_type": "code",
      "source": [
        "print(\"The average congressperson age is:\", Deputados[\"Age\"].mean(), \"years old.\")\n",
        "print(\"The oldest congressperson age is:\", Deputados[\"Age\"].min(), \"years old.\")\n",
        "print(\"The youngest congressperson age is:\", Deputados[\"Age\"].max(), \"years old.\")"
      ],
      "metadata": {
        "colab": {
          "base_uri": "https://localhost:8080/"
        },
        "id": "BT9BrSpgQ7Fg",
        "outputId": "d2d63bb3-ba34-4d1f-8d48-5412e27323e3"
      },
      "execution_count": 26,
      "outputs": [
        {
          "output_type": "stream",
          "name": "stdout",
          "text": [
            "The average congressperson age is: 50.395711500974656 years old.\n",
            "The oldest congressperson age is: 22 years old.\n",
            "The youngest congressperson age is: 88 years old.\n"
          ]
        }
      ]
    },
    {
      "cell_type": "code",
      "source": [
        "print(\"This is the average age of congresspersons per political party:\")\n",
        "Deputados.groupby(['Party'])['Age'].mean()"
      ],
      "metadata": {
        "colab": {
          "base_uri": "https://localhost:8080/"
        },
        "id": "-r5l6bAMUG9D",
        "outputId": "97480fe0-887c-4c19-8741-5ced7eb2ab7d"
      },
      "execution_count": 27,
      "outputs": [
        {
          "output_type": "stream",
          "name": "stdout",
          "text": [
            "This is the average age of congresspersons per political party:\n"
          ]
        },
        {
          "output_type": "execute_result",
          "data": {
            "text/plain": [
              "Party\n",
              "AVANTE           47.000000\n",
              "CIDADANIA        42.750000\n",
              "MDB              49.119048\n",
              "NOVO             44.333333\n",
              "PATRIOTA         37.750000\n",
              "PCdoB            58.142857\n",
              "PDT              55.294118\n",
              "PL               49.767677\n",
              "PODE             43.000000\n",
              "PP               50.183673\n",
              "PSB              51.571429\n",
              "PSC              56.000000\n",
              "PSD              50.404762\n",
              "PSDB             54.071429\n",
              "PSOL             47.461538\n",
              "PT               56.102941\n",
              "PV               44.500000\n",
              "REDE             35.000000\n",
              "REPUBLICANOS     50.261905\n",
              "S.PART.          40.000000\n",
              "SOLIDARIEDADE    47.200000\n",
              "UNIÃO            47.728814\n",
              "Name: Age, dtype: float64"
            ]
          },
          "metadata": {},
          "execution_count": 27
        }
      ]
    },
    {
      "cell_type": "code",
      "source": [
        "print(\"This is the average age of congresspersons per State:\")\n",
        "Deputados.groupby(['UF'])['Age'].mean()"
      ],
      "metadata": {
        "colab": {
          "base_uri": "https://localhost:8080/"
        },
        "id": "qckkGK7MUFCg",
        "outputId": "638d2639-7690-4b75-9a84-9e3084f50262"
      },
      "execution_count": 28,
      "outputs": [
        {
          "output_type": "stream",
          "name": "stdout",
          "text": [
            "This is the average age of congresspersons per State:\n"
          ]
        },
        {
          "output_type": "execute_result",
          "data": {
            "text/plain": [
              "UF\n",
              "AC    50.750000\n",
              "AL    46.222222\n",
              "AM    43.625000\n",
              "AP    47.125000\n",
              "BA    54.974359\n",
              "CE    49.590909\n",
              "DF    53.125000\n",
              "ES    48.500000\n",
              "GO    54.470588\n",
              "MA    45.111111\n",
              "MG    48.905660\n",
              "MS    53.875000\n",
              "MT    45.125000\n",
              "PA    52.000000\n",
              "PB    53.833333\n",
              "PE    46.560000\n",
              "PI    51.800000\n",
              "PR    49.200000\n",
              "RJ    52.326087\n",
              "RN    56.625000\n",
              "RO    48.875000\n",
              "RR    44.875000\n",
              "RS    52.774194\n",
              "SC    46.187500\n",
              "SE    39.250000\n",
              "SP    51.857143\n",
              "TO    52.625000\n",
              "Name: Age, dtype: float64"
            ]
          },
          "metadata": {},
          "execution_count": 28
        }
      ]
    },
    {
      "cell_type": "code",
      "source": [
        "print(\"This is the average age of congresspersons per gender:\")\n",
        "ge_ag = Deputados.groupby(['Gender'])['Age'].mean()\n",
        "print(ge_ag)"
      ],
      "metadata": {
        "colab": {
          "base_uri": "https://localhost:8080/"
        },
        "id": "9hTlncisS9Zh",
        "outputId": "abd8eec3-f3c7-457f-b155-7a1bf01c621f"
      },
      "execution_count": 41,
      "outputs": [
        {
          "output_type": "stream",
          "name": "stdout",
          "text": [
            "This is the average age of congresspersons per gender:\n",
            "Gender\n",
            "feminino     47.137931\n",
            "masculino    51.061033\n",
            "Name: Age, dtype: float64\n"
          ]
        }
      ]
    },
    {
      "cell_type": "code",
      "source": [
        "ge_ag.plot.barh(x='Gender', y='Age')"
      ],
      "metadata": {
        "colab": {
          "base_uri": "https://localhost:8080/",
          "height": 447
        },
        "id": "uHTapO02a0mc",
        "outputId": "97f12b71-0b1c-4199-e2fb-fa197a17130e"
      },
      "execution_count": 42,
      "outputs": [
        {
          "output_type": "execute_result",
          "data": {
            "text/plain": [
              "<Axes: ylabel='Gender'>"
            ]
          },
          "metadata": {},
          "execution_count": 42
        },
        {
          "output_type": "display_data",
          "data": {
            "text/plain": [
              "<Figure size 640x480 with 1 Axes>"
            ],
            "image/png": "[encoded data removed]"
          },
          "metadata": {}
        }
      ]
    },
    {
      "cell_type": "markdown",
      "source": [
        "# Dealing with missing values"
      ],
      "metadata": {
        "id": "o4cfXG40XT-m"
      }
    },
    {
      "cell_type": "markdown",
      "source": [
        "We can see how we have some missing data in the Scolarity column, all other columns has a non-null count of 513, but scolarity has 446."
      ],
      "metadata": {
        "id": "eJrPEE12P2fZ"
      }
    }
  ]
}