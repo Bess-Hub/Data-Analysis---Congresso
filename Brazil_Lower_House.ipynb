{
  "nbformat": 4,
  "nbformat_minor": 0,
  "metadata": {
    "colab": {
      "provenance": [],
      "include_colab_link": true
    },
    "kernelspec": {
      "name": "python3",
      "display_name": "Python 3"
    },
    "language_info": {
      "name": "python"
    }
  },
  "cells": [
    {
      "cell_type": "markdown",
      "metadata": {
        "id": "view-in-github",
        "colab_type": "text"
      },
      "source": [
        "<a href=\"https://colab.research.google.com/github/Bess-Hub/Project-Citizen-Explorer/blob/main/Brazil_Lower_House.ipynb\" target=\"_parent\"><img src=\"https://colab.research.google.com/assets/colab-badge.svg\" alt=\"Open In Colab\"/></a>"
      ]
    },
    {
      "cell_type": "markdown",
      "source": [
        "# Data Analysis with Google Colab\n",
        "\n",
        "\n",
        "\n"
      ],
      "metadata": {
        "id": "rpodWDwHcZ9x"
      }
    },
    {
      "cell_type": "markdown",
      "source": [
        "---\n",
        "\n",
        "*In this exercise we will explore the data provided by the Brazilian Lower House API using Google Colab.*\n",
        "\n",
        "\n"
      ],
      "metadata": {
        "id": "oKWK-L3xfU8w"
      }
    },
    {
      "cell_type": "markdown",
      "source": [
        "# Phase 1: Data Extraction"
      ],
      "metadata": {
        "id": "jfbdTrkkfrp0"
      }
    },
    {
      "cell_type": "markdown",
      "source": [
        "\n",
        "*As any Data Analysis project we will start with Data Extraction.*\n"
      ],
      "metadata": {
        "id": "nZQNNHtlgLDa"
      }
    },
    {
      "cell_type": "markdown",
      "source": [
        "Import modules:"
      ],
      "metadata": {
        "id": "ZsP43mW1hDmB"
      }
    },
    {
      "cell_type": "code",
      "execution_count": null,
      "metadata": {
        "id": "SwtwlBGjcOPj"
      },
      "outputs": [],
      "source": [
        "import requests # To get the API URL\n",
        "import pandas as pd # To test what I am learning on my course\n",
        "import xml.etree.ElementTree as ET # Because so far it is my way of reading into XML files returned by an API\n",
        "import matplotlib.pyplot as plt\n",
        "import seaborn as sns"
      ]
    },
    {
      "cell_type": "markdown",
      "source": [
        "Define the API URL:"
      ],
      "metadata": {
        "id": "9UUHc00lcpxE"
      }
    },
    {
      "cell_type": "code",
      "source": [
        "Base_URL = requests.get(url=\"https://www.camara.gov.br/SitCamaraWS/Deputados.asmx/ObterDeputados\")"
      ],
      "metadata": {
        "id": "Uy9nPtFNcnpR"
      },
      "execution_count": null,
      "outputs": []
    },
    {
      "cell_type": "markdown",
      "source": [
        "Check the connection:"
      ],
      "metadata": {
        "id": "WoZshKvPdoqD"
      }
    },
    {
      "cell_type": "code",
      "source": [
        "print(Base_URL)"
      ],
      "metadata": {
        "colab": {
          "base_uri": "https://localhost:8080/"
        },
        "id": "sS5YVz2Zc2j4",
        "outputId": "94a1b245-4cad-4e50-d2f7-eb7b951f6236"
      },
      "execution_count": null,
      "outputs": [
        {
          "output_type": "stream",
          "name": "stdout",
          "text": [
            "<Response [200]>\n"
          ]
        }
      ]
    },
    {
      "cell_type": "markdown",
      "source": [
        "# Phase 2: Data Familiarization"
      ],
      "metadata": {
        "id": "o4msuvgZpge8"
      }
    },
    {
      "cell_type": "markdown",
      "source": [
        "Let's check what is the data we will be working with:"
      ],
      "metadata": {
        "id": "UOOjDBtvdxIG"
      }
    },
    {
      "cell_type": "code",
      "source": [
        "print(Base_URL.headers.get('content-type'))"
      ],
      "metadata": {
        "colab": {
          "base_uri": "https://localhost:8080/"
        },
        "id": "d2tY3RTjc7cg",
        "outputId": "e3cc0f27-1be7-43a6-9c0a-346f410252d7"
      },
      "execution_count": null,
      "outputs": [
        {
          "output_type": "stream",
          "name": "stdout",
          "text": [
            "text/xml; charset=utf-8\n"
          ]
        }
      ]
    },
    {
      "cell_type": "markdown",
      "source": [
        "Since the data is in XML we will use ElementTree to create a local DataFrame from the API."
      ],
      "metadata": {
        "id": "OBHREYEpwLk2"
      }
    },
    {
      "cell_type": "code",
      "source": [
        "root = ET.fromstring(Base_URL.content) # Define the root channel to the content we want to append to our lists\n",
        "# Create the lists\n",
        "dep_name = []\n",
        "dep_id = []\n",
        "dep_foto = []\n",
        "dep_uf = []\n",
        "dep_gender = []\n",
        "dep_part = []\n",
        "# Add elements to the correspondent lists\n",
        "for name in root.iter('nomeParlamentar'):\n",
        "    dep_name.append(name.text)\n",
        "for id in root.iter('ideCadastro'):\n",
        "    dep_id.append(id.text)\n",
        "for urlFoto in root.iter('urlFoto'):\n",
        "    dep_foto.append(urlFoto.text)\n",
        "for uf in root.iter('uf'):\n",
        "    dep_uf.append(uf.text)\n",
        "for sexo in root.iter('sexo'):\n",
        "    dep_gender.append(sexo.text)\n",
        "for part in root.iter('partido'):\n",
        "    dep_part.append(part.text)"
      ],
      "metadata": {
        "id": "ZwgMhfppppzR"
      },
      "execution_count": null,
      "outputs": []
    },
    {
      "cell_type": "markdown",
      "source": [
        "Now we create one dataframe using Pandas."
      ],
      "metadata": {
        "id": "rjVbXtEDwjOq"
      }
    },
    {
      "cell_type": "code",
      "source": [
        "Deputados = pd.DataFrame({'Name': dep_name, 'ID': dep_id, 'Foto': dep_foto, 'UF': dep_uf, 'Gender': dep_gender, 'Party': dep_part})"
      ],
      "metadata": {
        "id": "6VCjqxOfsNzH"
      },
      "execution_count": null,
      "outputs": []
    },
    {
      "cell_type": "code",
      "source": [
        "# Rows and columns\n",
        "print(f\"There are\", len(Deputados), \"rows and there are\", len(Deputados.columns), \"columns\")"
      ],
      "metadata": {
        "colab": {
          "base_uri": "https://localhost:8080/"
        },
        "id": "M-jGIHPrhBud",
        "outputId": "c89bce5b-7399-4670-96fb-99a04dbd009b"
      },
      "execution_count": null,
      "outputs": [
        {
          "output_type": "stream",
          "name": "stdout",
          "text": [
            "There are 513 rows and there are 6 columns\n"
          ]
        }
      ]
    },
    {
      "cell_type": "markdown",
      "source": [
        "# Phase 3: Visualizing the Data"
      ],
      "metadata": {
        "id": "0-ENfoBdpx-x"
      }
    },
    {
      "cell_type": "markdown",
      "source": [
        "If we give the folowing command we can see line by line each congressperson information in our DataFrame. These are the first 5 entries:"
      ],
      "metadata": {
        "id": "Xl3_RGTywws-"
      }
    },
    {
      "cell_type": "code",
      "source": [
        "Deputados.head()"
      ],
      "metadata": {
        "colab": {
          "base_uri": "https://localhost:8080/",
          "height": 206
        },
        "id": "Zg0gYgrdtFvY",
        "outputId": "aa13517e-1205-4eee-dd59-f18ddf2e7dd8"
      },
      "execution_count": null,
      "outputs": [
        {
          "output_type": "execute_result",
          "data": {
            "text/plain": [
              "                Name      ID  \\\n",
              "0  Benedita da Silva   73701   \n",
              "1         Átila Lins   74090   \n",
              "2  Renildo Calheiros   73801   \n",
              "3    Jandira Feghali   74848   \n",
              "4     Lídice da Mata  139285   \n",
              "\n",
              "                                                Foto  UF     Gender  Party  \n",
              "0  http://www.camara.gov.br/internet/deputado/ban...  RJ   feminino     PT  \n",
              "1  http://www.camara.gov.br/internet/deputado/ban...  AM  masculino    PSD  \n",
              "2  http://www.camara.gov.br/internet/deputado/ban...  PE  masculino  PCdoB  \n",
              "3  http://www.camara.gov.br/internet/deputado/ban...  RJ   feminino  PCdoB  \n",
              "4  http://www.camara.gov.br/internet/deputado/ban...  BA   feminino    PSB  "
            ],
            "text/html": [
              "\n",
              "  <div id=\"df-a590a2c7-6ca2-46c0-bc23-8ba9cd088dcc\">\n",
              "    <div class=\"colab-df-container\">\n",
              "      <div>\n",
              "<style scoped>\n",
              "    .dataframe tbody tr th:only-of-type {\n",
              "        vertical-align: middle;\n",
              "    }\n",
              "\n",
              "    .dataframe tbody tr th {\n",
              "        vertical-align: top;\n",
              "    }\n",
              "\n",
              "    .dataframe thead th {\n",
              "        text-align: right;\n",
              "    }\n",
              "</style>\n",
              "<table border=\"1\" class=\"dataframe\">\n",
              "  <thead>\n",
              "    <tr style=\"text-align: right;\">\n",
              "      <th></th>\n",
              "      <th>Name</th>\n",
              "      <th>ID</th>\n",
              "      <th>Foto</th>\n",
              "      <th>UF</th>\n",
              "      <th>Gender</th>\n",
              "      <th>Party</th>\n",
              "    </tr>\n",
              "  </thead>\n",
              "  <tbody>\n",
              "    <tr>\n",
              "      <th>0</th>\n",
              "      <td>Benedita da Silva</td>\n",
              "      <td>73701</td>\n",
              "      <td>http://www.camara.gov.br/internet/deputado/ban...</td>\n",
              "      <td>RJ</td>\n",
              "      <td>feminino</td>\n",
              "      <td>PT</td>\n",
              "    </tr>\n",
              "    <tr>\n",
              "      <th>1</th>\n",
              "      <td>Átila Lins</td>\n",
              "      <td>74090</td>\n",
              "      <td>http://www.camara.gov.br/internet/deputado/ban...</td>\n",
              "      <td>AM</td>\n",
              "      <td>masculino</td>\n",
              "      <td>PSD</td>\n",
              "    </tr>\n",
              "    <tr>\n",
              "      <th>2</th>\n",
              "      <td>Renildo Calheiros</td>\n",
              "      <td>73801</td>\n",
              "      <td>http://www.camara.gov.br/internet/deputado/ban...</td>\n",
              "      <td>PE</td>\n",
              "      <td>masculino</td>\n",
              "      <td>PCdoB</td>\n",
              "    </tr>\n",
              "    <tr>\n",
              "      <th>3</th>\n",
              "      <td>Jandira Feghali</td>\n",
              "      <td>74848</td>\n",
              "      <td>http://www.camara.gov.br/internet/deputado/ban...</td>\n",
              "      <td>RJ</td>\n",
              "      <td>feminino</td>\n",
              "      <td>PCdoB</td>\n",
              "    </tr>\n",
              "    <tr>\n",
              "      <th>4</th>\n",
              "      <td>Lídice da Mata</td>\n",
              "      <td>139285</td>\n",
              "      <td>http://www.camara.gov.br/internet/deputado/ban...</td>\n",
              "      <td>BA</td>\n",
              "      <td>feminino</td>\n",
              "      <td>PSB</td>\n",
              "    </tr>\n",
              "  </tbody>\n",
              "</table>\n",
              "</div>\n",
              "      <button class=\"colab-df-convert\" onclick=\"convertToInteractive('df-a590a2c7-6ca2-46c0-bc23-8ba9cd088dcc')\"\n",
              "              title=\"Convert this dataframe to an interactive table.\"\n",
              "              style=\"display:none;\">\n",
              "        \n",
              "  <svg xmlns=\"http://www.w3.org/2000/svg\" height=\"24px\"viewBox=\"0 0 24 24\"\n",
              "       width=\"24px\">\n",
              "    <path d=\"M0 0h24v24H0V0z\" fill=\"none\"/>\n",
              "    <path d=\"M18.56 5.44l.94 2.06.94-2.06 2.06-.94-2.06-.94-.94-2.06-.94 2.06-2.06.94zm-11 1L8.5 8.5l.94-2.06 2.06-.94-2.06-.94L8.5 2.5l-.94 2.06-2.06.94zm10 10l.94 2.06.94-2.06 2.06-.94-2.06-.94-.94-2.06-.94 2.06-2.06.94z\"/><path d=\"M17.41 7.96l-1.37-1.37c-.4-.4-.92-.59-1.43-.59-.52 0-1.04.2-1.43.59L10.3 9.45l-7.72 7.72c-.78.78-.78 2.05 0 2.83L4 21.41c.39.39.9.59 1.41.59.51 0 1.02-.2 1.41-.59l7.78-7.78 2.81-2.81c.8-.78.8-2.07 0-2.86zM5.41 20L4 18.59l7.72-7.72 1.47 1.35L5.41 20z\"/>\n",
              "  </svg>\n",
              "      </button>\n",
              "      \n",
              "  <style>\n",
              "    .colab-df-container {\n",
              "      display:flex;\n",
              "      flex-wrap:wrap;\n",
              "      gap: 12px;\n",
              "    }\n",
              "\n",
              "    .colab-df-convert {\n",
              "      background-color: #E8F0FE;\n",
              "      border: none;\n",
              "      border-radius: 50%;\n",
              "      cursor: pointer;\n",
              "      display: none;\n",
              "      fill: #1967D2;\n",
              "      height: 32px;\n",
              "      padding: 0 0 0 0;\n",
              "      width: 32px;\n",
              "    }\n",
              "\n",
              "    .colab-df-convert:hover {\n",
              "      background-color: #E2EBFA;\n",
              "      box-shadow: 0px 1px 2px rgba(60, 64, 67, 0.3), 0px 1px 3px 1px rgba(60, 64, 67, 0.15);\n",
              "      fill: #174EA6;\n",
              "    }\n",
              "\n",
              "    [theme=dark] .colab-df-convert {\n",
              "      background-color: #3B4455;\n",
              "      fill: #D2E3FC;\n",
              "    }\n",
              "\n",
              "    [theme=dark] .colab-df-convert:hover {\n",
              "      background-color: #434B5C;\n",
              "      box-shadow: 0px 1px 3px 1px rgba(0, 0, 0, 0.15);\n",
              "      filter: drop-shadow(0px 1px 2px rgba(0, 0, 0, 0.3));\n",
              "      fill: #FFFFFF;\n",
              "    }\n",
              "  </style>\n",
              "\n",
              "      <script>\n",
              "        const buttonEl =\n",
              "          document.querySelector('#df-a590a2c7-6ca2-46c0-bc23-8ba9cd088dcc button.colab-df-convert');\n",
              "        buttonEl.style.display =\n",
              "          google.colab.kernel.accessAllowed ? 'block' : 'none';\n",
              "\n",
              "        async function convertToInteractive(key) {\n",
              "          const element = document.querySelector('#df-a590a2c7-6ca2-46c0-bc23-8ba9cd088dcc');\n",
              "          const dataTable =\n",
              "            await google.colab.kernel.invokeFunction('convertToInteractive',\n",
              "                                                     [key], {});\n",
              "          if (!dataTable) return;\n",
              "\n",
              "          const docLinkHtml = 'Like what you see? Visit the ' +\n",
              "            '<a target=\"_blank\" href=https://colab.research.google.com/notebooks/data_table.ipynb>data table notebook</a>'\n",
              "            + ' to learn more about interactive tables.';\n",
              "          element.innerHTML = '';\n",
              "          dataTable['output_type'] = 'display_data';\n",
              "          await google.colab.output.renderOutput(dataTable, element);\n",
              "          const docLink = document.createElement('div');\n",
              "          docLink.innerHTML = docLinkHtml;\n",
              "          element.appendChild(docLink);\n",
              "        }\n",
              "      </script>\n",
              "    </div>\n",
              "  </div>\n",
              "  "
            ]
          },
          "metadata": {},
          "execution_count": 8
        }
      ]
    },
    {
      "cell_type": "markdown",
      "source": [
        "We could wish to select only the first 10, for example:"
      ],
      "metadata": {
        "id": "jt1FY0oAw8gq"
      }
    },
    {
      "cell_type": "code",
      "source": [
        "Deputados.head(10)"
      ],
      "metadata": {
        "colab": {
          "base_uri": "https://localhost:8080/",
          "height": 363
        },
        "id": "1jhqi0S3xAni",
        "outputId": "256cd01e-25fa-40ca-9ee7-2937ce24d00d"
      },
      "execution_count": null,
      "outputs": [
        {
          "output_type": "execute_result",
          "data": {
            "text/plain": [
              "                Name      ID  \\\n",
              "0  Benedita da Silva   73701   \n",
              "1         Átila Lins   74090   \n",
              "2  Renildo Calheiros   73801   \n",
              "3    Jandira Feghali   74848   \n",
              "4     Lídice da Mata  139285   \n",
              "5        Júlio Cesar   74317   \n",
              "6     Claudio Cajado   74537   \n",
              "7   Elcione Barbalho   74075   \n",
              "8  Arlindo Chinaglia   73433   \n",
              "9     Mendonça Filho   74428   \n",
              "\n",
              "                                                Foto  UF     Gender  Party  \n",
              "0  http://www.camara.gov.br/internet/deputado/ban...  RJ   feminino     PT  \n",
              "1  http://www.camara.gov.br/internet/deputado/ban...  AM  masculino    PSD  \n",
              "2  http://www.camara.gov.br/internet/deputado/ban...  PE  masculino  PCdoB  \n",
              "3  http://www.camara.gov.br/internet/deputado/ban...  RJ   feminino  PCdoB  \n",
              "4  http://www.camara.gov.br/internet/deputado/ban...  BA   feminino    PSB  \n",
              "5  http://www.camara.gov.br/internet/deputado/ban...  PI  masculino    PSD  \n",
              "6  http://www.camara.gov.br/internet/deputado/ban...  BA  masculino     PP  \n",
              "7  http://www.camara.gov.br/internet/deputado/ban...  PA   feminino    MDB  \n",
              "8  http://www.camara.gov.br/internet/deputado/ban...  SP  masculino     PT  \n",
              "9  http://www.camara.gov.br/internet/deputado/ban...  PE  masculino  UNIÃO  "
            ],
            "text/html": [
              "\n",
              "  <div id=\"df-70b453c3-372f-41a5-888c-dd2dd8823076\">\n",
              "    <div class=\"colab-df-container\">\n",
              "      <div>\n",
              "<style scoped>\n",
              "    .dataframe tbody tr th:only-of-type {\n",
              "        vertical-align: middle;\n",
              "    }\n",
              "\n",
              "    .dataframe tbody tr th {\n",
              "        vertical-align: top;\n",
              "    }\n",
              "\n",
              "    .dataframe thead th {\n",
              "        text-align: right;\n",
              "    }\n",
              "</style>\n",
              "<table border=\"1\" class=\"dataframe\">\n",
              "  <thead>\n",
              "    <tr style=\"text-align: right;\">\n",
              "      <th></th>\n",
              "      <th>Name</th>\n",
              "      <th>ID</th>\n",
              "      <th>Foto</th>\n",
              "      <th>UF</th>\n",
              "      <th>Gender</th>\n",
              "      <th>Party</th>\n",
              "    </tr>\n",
              "  </thead>\n",
              "  <tbody>\n",
              "    <tr>\n",
              "      <th>0</th>\n",
              "      <td>Benedita da Silva</td>\n",
              "      <td>73701</td>\n",
              "      <td>http://www.camara.gov.br/internet/deputado/ban...</td>\n",
              "      <td>RJ</td>\n",
              "      <td>feminino</td>\n",
              "      <td>PT</td>\n",
              "    </tr>\n",
              "    <tr>\n",
              "      <th>1</th>\n",
              "      <td>Átila Lins</td>\n",
              "      <td>74090</td>\n",
              "      <td>http://www.camara.gov.br/internet/deputado/ban...</td>\n",
              "      <td>AM</td>\n",
              "      <td>masculino</td>\n",
              "      <td>PSD</td>\n",
              "    </tr>\n",
              "    <tr>\n",
              "      <th>2</th>\n",
              "      <td>Renildo Calheiros</td>\n",
              "      <td>73801</td>\n",
              "      <td>http://www.camara.gov.br/internet/deputado/ban...</td>\n",
              "      <td>PE</td>\n",
              "      <td>masculino</td>\n",
              "      <td>PCdoB</td>\n",
              "    </tr>\n",
              "    <tr>\n",
              "      <th>3</th>\n",
              "      <td>Jandira Feghali</td>\n",
              "      <td>74848</td>\n",
              "      <td>http://www.camara.gov.br/internet/deputado/ban...</td>\n",
              "      <td>RJ</td>\n",
              "      <td>feminino</td>\n",
              "      <td>PCdoB</td>\n",
              "    </tr>\n",
              "    <tr>\n",
              "      <th>4</th>\n",
              "      <td>Lídice da Mata</td>\n",
              "      <td>139285</td>\n",
              "      <td>http://www.camara.gov.br/internet/deputado/ban...</td>\n",
              "      <td>BA</td>\n",
              "      <td>feminino</td>\n",
              "      <td>PSB</td>\n",
              "    </tr>\n",
              "    <tr>\n",
              "      <th>5</th>\n",
              "      <td>Júlio Cesar</td>\n",
              "      <td>74317</td>\n",
              "      <td>http://www.camara.gov.br/internet/deputado/ban...</td>\n",
              "      <td>PI</td>\n",
              "      <td>masculino</td>\n",
              "      <td>PSD</td>\n",
              "    </tr>\n",
              "    <tr>\n",
              "      <th>6</th>\n",
              "      <td>Claudio Cajado</td>\n",
              "      <td>74537</td>\n",
              "      <td>http://www.camara.gov.br/internet/deputado/ban...</td>\n",
              "      <td>BA</td>\n",
              "      <td>masculino</td>\n",
              "      <td>PP</td>\n",
              "    </tr>\n",
              "    <tr>\n",
              "      <th>7</th>\n",
              "      <td>Elcione Barbalho</td>\n",
              "      <td>74075</td>\n",
              "      <td>http://www.camara.gov.br/internet/deputado/ban...</td>\n",
              "      <td>PA</td>\n",
              "      <td>feminino</td>\n",
              "      <td>MDB</td>\n",
              "    </tr>\n",
              "    <tr>\n",
              "      <th>8</th>\n",
              "      <td>Arlindo Chinaglia</td>\n",
              "      <td>73433</td>\n",
              "      <td>http://www.camara.gov.br/internet/deputado/ban...</td>\n",
              "      <td>SP</td>\n",
              "      <td>masculino</td>\n",
              "      <td>PT</td>\n",
              "    </tr>\n",
              "    <tr>\n",
              "      <th>9</th>\n",
              "      <td>Mendonça Filho</td>\n",
              "      <td>74428</td>\n",
              "      <td>http://www.camara.gov.br/internet/deputado/ban...</td>\n",
              "      <td>PE</td>\n",
              "      <td>masculino</td>\n",
              "      <td>UNIÃO</td>\n",
              "    </tr>\n",
              "  </tbody>\n",
              "</table>\n",
              "</div>\n",
              "      <button class=\"colab-df-convert\" onclick=\"convertToInteractive('df-70b453c3-372f-41a5-888c-dd2dd8823076')\"\n",
              "              title=\"Convert this dataframe to an interactive table.\"\n",
              "              style=\"display:none;\">\n",
              "        \n",
              "  <svg xmlns=\"http://www.w3.org/2000/svg\" height=\"24px\"viewBox=\"0 0 24 24\"\n",
              "       width=\"24px\">\n",
              "    <path d=\"M0 0h24v24H0V0z\" fill=\"none\"/>\n",
              "    <path d=\"M18.56 5.44l.94 2.06.94-2.06 2.06-.94-2.06-.94-.94-2.06-.94 2.06-2.06.94zm-11 1L8.5 8.5l.94-2.06 2.06-.94-2.06-.94L8.5 2.5l-.94 2.06-2.06.94zm10 10l.94 2.06.94-2.06 2.06-.94-2.06-.94-.94-2.06-.94 2.06-2.06.94z\"/><path d=\"M17.41 7.96l-1.37-1.37c-.4-.4-.92-.59-1.43-.59-.52 0-1.04.2-1.43.59L10.3 9.45l-7.72 7.72c-.78.78-.78 2.05 0 2.83L4 21.41c.39.39.9.59 1.41.59.51 0 1.02-.2 1.41-.59l7.78-7.78 2.81-2.81c.8-.78.8-2.07 0-2.86zM5.41 20L4 18.59l7.72-7.72 1.47 1.35L5.41 20z\"/>\n",
              "  </svg>\n",
              "      </button>\n",
              "      \n",
              "  <style>\n",
              "    .colab-df-container {\n",
              "      display:flex;\n",
              "      flex-wrap:wrap;\n",
              "      gap: 12px;\n",
              "    }\n",
              "\n",
              "    .colab-df-convert {\n",
              "      background-color: #E8F0FE;\n",
              "      border: none;\n",
              "      border-radius: 50%;\n",
              "      cursor: pointer;\n",
              "      display: none;\n",
              "      fill: #1967D2;\n",
              "      height: 32px;\n",
              "      padding: 0 0 0 0;\n",
              "      width: 32px;\n",
              "    }\n",
              "\n",
              "    .colab-df-convert:hover {\n",
              "      background-color: #E2EBFA;\n",
              "      box-shadow: 0px 1px 2px rgba(60, 64, 67, 0.3), 0px 1px 3px 1px rgba(60, 64, 67, 0.15);\n",
              "      fill: #174EA6;\n",
              "    }\n",
              "\n",
              "    [theme=dark] .colab-df-convert {\n",
              "      background-color: #3B4455;\n",
              "      fill: #D2E3FC;\n",
              "    }\n",
              "\n",
              "    [theme=dark] .colab-df-convert:hover {\n",
              "      background-color: #434B5C;\n",
              "      box-shadow: 0px 1px 3px 1px rgba(0, 0, 0, 0.15);\n",
              "      filter: drop-shadow(0px 1px 2px rgba(0, 0, 0, 0.3));\n",
              "      fill: #FFFFFF;\n",
              "    }\n",
              "  </style>\n",
              "\n",
              "      <script>\n",
              "        const buttonEl =\n",
              "          document.querySelector('#df-70b453c3-372f-41a5-888c-dd2dd8823076 button.colab-df-convert');\n",
              "        buttonEl.style.display =\n",
              "          google.colab.kernel.accessAllowed ? 'block' : 'none';\n",
              "\n",
              "        async function convertToInteractive(key) {\n",
              "          const element = document.querySelector('#df-70b453c3-372f-41a5-888c-dd2dd8823076');\n",
              "          const dataTable =\n",
              "            await google.colab.kernel.invokeFunction('convertToInteractive',\n",
              "                                                     [key], {});\n",
              "          if (!dataTable) return;\n",
              "\n",
              "          const docLinkHtml = 'Like what you see? Visit the ' +\n",
              "            '<a target=\"_blank\" href=https://colab.research.google.com/notebooks/data_table.ipynb>data table notebook</a>'\n",
              "            + ' to learn more about interactive tables.';\n",
              "          element.innerHTML = '';\n",
              "          dataTable['output_type'] = 'display_data';\n",
              "          await google.colab.output.renderOutput(dataTable, element);\n",
              "          const docLink = document.createElement('div');\n",
              "          docLink.innerHTML = docLinkHtml;\n",
              "          element.appendChild(docLink);\n",
              "        }\n",
              "      </script>\n",
              "    </div>\n",
              "  </div>\n",
              "  "
            ]
          },
          "metadata": {},
          "execution_count": 9
        }
      ]
    },
    {
      "cell_type": "markdown",
      "source": [
        "Or we could wish to select only the ones from a specific UF (acronym for State in Portuguese), for example Paraná is represented by PR"
      ],
      "metadata": {
        "id": "uYjj-Qye0E_X"
      }
    },
    {
      "cell_type": "code",
      "source": [
        "Deputados.loc[Deputados['UF'] == 'PR']"
      ],
      "metadata": {
        "colab": {
          "base_uri": "https://localhost:8080/",
          "height": 990
        },
        "id": "1T8Xy2az0KbR",
        "outputId": "5ed2fc6e-5ec8-4d37-e899-68075f30d35a"
      },
      "execution_count": null,
      "outputs": [
        {
          "output_type": "execute_result",
          "data": {
            "text/plain": [
              "                        Name      ID  \\\n",
              "10          Dilceu Sperafico   73768   \n",
              "29                   Giacobo   74383   \n",
              "97               Zeca Dirceu  160592   \n",
              "110           Luiz Nishimori  162332   \n",
              "144            Aliel Machado  178927   \n",
              "145             Diego Garcia  178929   \n",
              "146            Luciano Ducci  178931   \n",
              "147             Sergio Souza  178933   \n",
              "148       Toninho Wandscheer  178934   \n",
              "175           Sargento Fahur  204387   \n",
              "227             Tadeu Veneri  220682   \n",
              "228             Pedro Lupion  204395   \n",
              "229               Beto Richa  220683   \n",
              "230                 Vermelho  204396   \n",
              "231            Tião Medeiros  220684   \n",
              "232      Felipe Francischini  204398   \n",
              "233              Paulo Litro  220685   \n",
              "234          Gleisi Hoffmann  107283   \n",
              "290           Luisa Canziani  204410   \n",
              "291            Filipe Barros  204411   \n",
              "432  Delegado Matheus Laiola  220701   \n",
              "461           Geraldo Mendes  220702   \n",
              "465            Carol Dartora  220704   \n",
              "469         Deltan Dallagnol  220705   \n",
              "475                 Padovani  220706   \n",
              "496             Marco Brasil  219585   \n",
              "501          Rodrigo Estacho  223128   \n",
              "506                   Welter  224333   \n",
              "507       Reinhold Stephanes  205865   \n",
              "508            Luciano Alves  138286   \n",
              "\n",
              "                                                  Foto  UF     Gender  \\\n",
              "10   http://www.camara.gov.br/internet/deputado/ban...  PR  masculino   \n",
              "29   http://www.camara.gov.br/internet/deputado/ban...  PR  masculino   \n",
              "97   http://www.camara.gov.br/internet/deputado/ban...  PR  masculino   \n",
              "110  http://www.camara.gov.br/internet/deputado/ban...  PR  masculino   \n",
              "144  http://www.camara.gov.br/internet/deputado/ban...  PR  masculino   \n",
              "145  http://www.camara.gov.br/internet/deputado/ban...  PR  masculino   \n",
              "146  http://www.camara.gov.br/internet/deputado/ban...  PR  masculino   \n",
              "147  http://www.camara.gov.br/internet/deputado/ban...  PR  masculino   \n",
              "148  http://www.camara.gov.br/internet/deputado/ban...  PR  masculino   \n",
              "175  http://www.camara.gov.br/internet/deputado/ban...  PR  masculino   \n",
              "227  http://www.camara.gov.br/internet/deputado/ban...  PR  masculino   \n",
              "228  http://www.camara.gov.br/internet/deputado/ban...  PR  masculino   \n",
              "229  http://www.camara.gov.br/internet/deputado/ban...  PR  masculino   \n",
              "230  http://www.camara.gov.br/internet/deputado/ban...  PR  masculino   \n",
              "231  http://www.camara.gov.br/internet/deputado/ban...  PR  masculino   \n",
              "232  http://www.camara.gov.br/internet/deputado/ban...  PR  masculino   \n",
              "233  http://www.camara.gov.br/internet/deputado/ban...  PR  masculino   \n",
              "234  http://www.camara.gov.br/internet/deputado/ban...  PR   feminino   \n",
              "290  http://www.camara.gov.br/internet/deputado/ban...  PR   feminino   \n",
              "291  http://www.camara.gov.br/internet/deputado/ban...  PR  masculino   \n",
              "432  http://www.camara.gov.br/internet/deputado/ban...  PR  masculino   \n",
              "461  http://www.camara.gov.br/internet/deputado/ban...  PR  masculino   \n",
              "465  http://www.camara.gov.br/internet/deputado/ban...  PR   feminino   \n",
              "469  http://www.camara.gov.br/internet/deputado/ban...  PR  masculino   \n",
              "475  http://www.camara.gov.br/internet/deputado/ban...  PR  masculino   \n",
              "496  http://www.camara.gov.br/internet/deputado/ban...  PR  masculino   \n",
              "501  http://www.camara.gov.br/internet/deputado/ban...  PR  masculino   \n",
              "506  http://www.camara.gov.br/internet/deputado/ban...  PR  masculino   \n",
              "507  http://www.camara.gov.br/internet/deputado/ban...  PR  masculino   \n",
              "508  http://www.camara.gov.br/internet/deputado/ban...  PR  masculino   \n",
              "\n",
              "            Party  \n",
              "10             PP  \n",
              "29             PL  \n",
              "97             PT  \n",
              "110           PSD  \n",
              "144            PV  \n",
              "145  REPUBLICANOS  \n",
              "146           PSB  \n",
              "147           MDB  \n",
              "148            PP  \n",
              "175           PSD  \n",
              "227            PT  \n",
              "228            PP  \n",
              "229          PSDB  \n",
              "230            PL  \n",
              "231            PP  \n",
              "232         UNIÃO  \n",
              "233           PSD  \n",
              "234            PT  \n",
              "290           PSD  \n",
              "291            PL  \n",
              "432         UNIÃO  \n",
              "461         UNIÃO  \n",
              "465            PT  \n",
              "469          PODE  \n",
              "475         UNIÃO  \n",
              "496            PP  \n",
              "501           PSD  \n",
              "506            PT  \n",
              "507           PSD  \n",
              "508           PSD  "
            ],
            "text/html": [
              "\n",
              "  <div id=\"df-1caba5b4-2d93-49b5-bacd-7880c50c4146\">\n",
              "    <div class=\"colab-df-container\">\n",
              "      <div>\n",
              "<style scoped>\n",
              "    .dataframe tbody tr th:only-of-type {\n",
              "        vertical-align: middle;\n",
              "    }\n",
              "\n",
              "    .dataframe tbody tr th {\n",
              "        vertical-align: top;\n",
              "    }\n",
              "\n",
              "    .dataframe thead th {\n",
              "        text-align: right;\n",
              "    }\n",
              "</style>\n",
              "<table border=\"1\" class=\"dataframe\">\n",
              "  <thead>\n",
              "    <tr style=\"text-align: right;\">\n",
              "      <th></th>\n",
              "      <th>Name</th>\n",
              "      <th>ID</th>\n",
              "      <th>Foto</th>\n",
              "      <th>UF</th>\n",
              "      <th>Gender</th>\n",
              "      <th>Party</th>\n",
              "    </tr>\n",
              "  </thead>\n",
              "  <tbody>\n",
              "    <tr>\n",
              "      <th>10</th>\n",
              "      <td>Dilceu Sperafico</td>\n",
              "      <td>73768</td>\n",
              "      <td>http://www.camara.gov.br/internet/deputado/ban...</td>\n",
              "      <td>PR</td>\n",
              "      <td>masculino</td>\n",
              "      <td>PP</td>\n",
              "    </tr>\n",
              "    <tr>\n",
              "      <th>29</th>\n",
              "      <td>Giacobo</td>\n",
              "      <td>74383</td>\n",
              "      <td>http://www.camara.gov.br/internet/deputado/ban...</td>\n",
              "      <td>PR</td>\n",
              "      <td>masculino</td>\n",
              "      <td>PL</td>\n",
              "    </tr>\n",
              "    <tr>\n",
              "      <th>97</th>\n",
              "      <td>Zeca Dirceu</td>\n",
              "      <td>160592</td>\n",
              "      <td>http://www.camara.gov.br/internet/deputado/ban...</td>\n",
              "      <td>PR</td>\n",
              "      <td>masculino</td>\n",
              "      <td>PT</td>\n",
              "    </tr>\n",
              "    <tr>\n",
              "      <th>110</th>\n",
              "      <td>Luiz Nishimori</td>\n",
              "      <td>162332</td>\n",
              "      <td>http://www.camara.gov.br/internet/deputado/ban...</td>\n",
              "      <td>PR</td>\n",
              "      <td>masculino</td>\n",
              "      <td>PSD</td>\n",
              "    </tr>\n",
              "    <tr>\n",
              "      <th>144</th>\n",
              "      <td>Aliel Machado</td>\n",
              "      <td>178927</td>\n",
              "      <td>http://www.camara.gov.br/internet/deputado/ban...</td>\n",
              "      <td>PR</td>\n",
              "      <td>masculino</td>\n",
              "      <td>PV</td>\n",
              "    </tr>\n",
              "    <tr>\n",
              "      <th>145</th>\n",
              "      <td>Diego Garcia</td>\n",
              "      <td>178929</td>\n",
              "      <td>http://www.camara.gov.br/internet/deputado/ban...</td>\n",
              "      <td>PR</td>\n",
              "      <td>masculino</td>\n",
              "      <td>REPUBLICANOS</td>\n",
              "    </tr>\n",
              "    <tr>\n",
              "      <th>146</th>\n",
              "      <td>Luciano Ducci</td>\n",
              "      <td>178931</td>\n",
              "      <td>http://www.camara.gov.br/internet/deputado/ban...</td>\n",
              "      <td>PR</td>\n",
              "      <td>masculino</td>\n",
              "      <td>PSB</td>\n",
              "    </tr>\n",
              "    <tr>\n",
              "      <th>147</th>\n",
              "      <td>Sergio Souza</td>\n",
              "      <td>178933</td>\n",
              "      <td>http://www.camara.gov.br/internet/deputado/ban...</td>\n",
              "      <td>PR</td>\n",
              "      <td>masculino</td>\n",
              "      <td>MDB</td>\n",
              "    </tr>\n",
              "    <tr>\n",
              "      <th>148</th>\n",
              "      <td>Toninho Wandscheer</td>\n",
              "      <td>178934</td>\n",
              "      <td>http://www.camara.gov.br/internet/deputado/ban...</td>\n",
              "      <td>PR</td>\n",
              "      <td>masculino</td>\n",
              "      <td>PP</td>\n",
              "    </tr>\n",
              "    <tr>\n",
              "      <th>175</th>\n",
              "      <td>Sargento Fahur</td>\n",
              "      <td>204387</td>\n",
              "      <td>http://www.camara.gov.br/internet/deputado/ban...</td>\n",
              "      <td>PR</td>\n",
              "      <td>masculino</td>\n",
              "      <td>PSD</td>\n",
              "    </tr>\n",
              "    <tr>\n",
              "      <th>227</th>\n",
              "      <td>Tadeu Veneri</td>\n",
              "      <td>220682</td>\n",
              "      <td>http://www.camara.gov.br/internet/deputado/ban...</td>\n",
              "      <td>PR</td>\n",
              "      <td>masculino</td>\n",
              "      <td>PT</td>\n",
              "    </tr>\n",
              "    <tr>\n",
              "      <th>228</th>\n",
              "      <td>Pedro Lupion</td>\n",
              "      <td>204395</td>\n",
              "      <td>http://www.camara.gov.br/internet/deputado/ban...</td>\n",
              "      <td>PR</td>\n",
              "      <td>masculino</td>\n",
              "      <td>PP</td>\n",
              "    </tr>\n",
              "    <tr>\n",
              "      <th>229</th>\n",
              "      <td>Beto Richa</td>\n",
              "      <td>220683</td>\n",
              "      <td>http://www.camara.gov.br/internet/deputado/ban...</td>\n",
              "      <td>PR</td>\n",
              "      <td>masculino</td>\n",
              "      <td>PSDB</td>\n",
              "    </tr>\n",
              "    <tr>\n",
              "      <th>230</th>\n",
              "      <td>Vermelho</td>\n",
              "      <td>204396</td>\n",
              "      <td>http://www.camara.gov.br/internet/deputado/ban...</td>\n",
              "      <td>PR</td>\n",
              "      <td>masculino</td>\n",
              "      <td>PL</td>\n",
              "    </tr>\n",
              "    <tr>\n",
              "      <th>231</th>\n",
              "      <td>Tião Medeiros</td>\n",
              "      <td>220684</td>\n",
              "      <td>http://www.camara.gov.br/internet/deputado/ban...</td>\n",
              "      <td>PR</td>\n",
              "      <td>masculino</td>\n",
              "      <td>PP</td>\n",
              "    </tr>\n",
              "    <tr>\n",
              "      <th>232</th>\n",
              "      <td>Felipe Francischini</td>\n",
              "      <td>204398</td>\n",
              "      <td>http://www.camara.gov.br/internet/deputado/ban...</td>\n",
              "      <td>PR</td>\n",
              "      <td>masculino</td>\n",
              "      <td>UNIÃO</td>\n",
              "    </tr>\n",
              "    <tr>\n",
              "      <th>233</th>\n",
              "      <td>Paulo Litro</td>\n",
              "      <td>220685</td>\n",
              "      <td>http://www.camara.gov.br/internet/deputado/ban...</td>\n",
              "      <td>PR</td>\n",
              "      <td>masculino</td>\n",
              "      <td>PSD</td>\n",
              "    </tr>\n",
              "    <tr>\n",
              "      <th>234</th>\n",
              "      <td>Gleisi Hoffmann</td>\n",
              "      <td>107283</td>\n",
              "      <td>http://www.camara.gov.br/internet/deputado/ban...</td>\n",
              "      <td>PR</td>\n",
              "      <td>feminino</td>\n",
              "      <td>PT</td>\n",
              "    </tr>\n",
              "    <tr>\n",
              "      <th>290</th>\n",
              "      <td>Luisa Canziani</td>\n",
              "      <td>204410</td>\n",
              "      <td>http://www.camara.gov.br/internet/deputado/ban...</td>\n",
              "      <td>PR</td>\n",
              "      <td>feminino</td>\n",
              "      <td>PSD</td>\n",
              "    </tr>\n",
              "    <tr>\n",
              "      <th>291</th>\n",
              "      <td>Filipe Barros</td>\n",
              "      <td>204411</td>\n",
              "      <td>http://www.camara.gov.br/internet/deputado/ban...</td>\n",
              "      <td>PR</td>\n",
              "      <td>masculino</td>\n",
              "      <td>PL</td>\n",
              "    </tr>\n",
              "    <tr>\n",
              "      <th>432</th>\n",
              "      <td>Delegado Matheus Laiola</td>\n",
              "      <td>220701</td>\n",
              "      <td>http://www.camara.gov.br/internet/deputado/ban...</td>\n",
              "      <td>PR</td>\n",
              "      <td>masculino</td>\n",
              "      <td>UNIÃO</td>\n",
              "    </tr>\n",
              "    <tr>\n",
              "      <th>461</th>\n",
              "      <td>Geraldo Mendes</td>\n",
              "      <td>220702</td>\n",
              "      <td>http://www.camara.gov.br/internet/deputado/ban...</td>\n",
              "      <td>PR</td>\n",
              "      <td>masculino</td>\n",
              "      <td>UNIÃO</td>\n",
              "    </tr>\n",
              "    <tr>\n",
              "      <th>465</th>\n",
              "      <td>Carol Dartora</td>\n",
              "      <td>220704</td>\n",
              "      <td>http://www.camara.gov.br/internet/deputado/ban...</td>\n",
              "      <td>PR</td>\n",
              "      <td>feminino</td>\n",
              "      <td>PT</td>\n",
              "    </tr>\n",
              "    <tr>\n",
              "      <th>469</th>\n",
              "      <td>Deltan Dallagnol</td>\n",
              "      <td>220705</td>\n",
              "      <td>http://www.camara.gov.br/internet/deputado/ban...</td>\n",
              "      <td>PR</td>\n",
              "      <td>masculino</td>\n",
              "      <td>PODE</td>\n",
              "    </tr>\n",
              "    <tr>\n",
              "      <th>475</th>\n",
              "      <td>Padovani</td>\n",
              "      <td>220706</td>\n",
              "      <td>http://www.camara.gov.br/internet/deputado/ban...</td>\n",
              "      <td>PR</td>\n",
              "      <td>masculino</td>\n",
              "      <td>UNIÃO</td>\n",
              "    </tr>\n",
              "    <tr>\n",
              "      <th>496</th>\n",
              "      <td>Marco Brasil</td>\n",
              "      <td>219585</td>\n",
              "      <td>http://www.camara.gov.br/internet/deputado/ban...</td>\n",
              "      <td>PR</td>\n",
              "      <td>masculino</td>\n",
              "      <td>PP</td>\n",
              "    </tr>\n",
              "    <tr>\n",
              "      <th>501</th>\n",
              "      <td>Rodrigo Estacho</td>\n",
              "      <td>223128</td>\n",
              "      <td>http://www.camara.gov.br/internet/deputado/ban...</td>\n",
              "      <td>PR</td>\n",
              "      <td>masculino</td>\n",
              "      <td>PSD</td>\n",
              "    </tr>\n",
              "    <tr>\n",
              "      <th>506</th>\n",
              "      <td>Welter</td>\n",
              "      <td>224333</td>\n",
              "      <td>http://www.camara.gov.br/internet/deputado/ban...</td>\n",
              "      <td>PR</td>\n",
              "      <td>masculino</td>\n",
              "      <td>PT</td>\n",
              "    </tr>\n",
              "    <tr>\n",
              "      <th>507</th>\n",
              "      <td>Reinhold Stephanes</td>\n",
              "      <td>205865</td>\n",
              "      <td>http://www.camara.gov.br/internet/deputado/ban...</td>\n",
              "      <td>PR</td>\n",
              "      <td>masculino</td>\n",
              "      <td>PSD</td>\n",
              "    </tr>\n",
              "    <tr>\n",
              "      <th>508</th>\n",
              "      <td>Luciano Alves</td>\n",
              "      <td>138286</td>\n",
              "      <td>http://www.camara.gov.br/internet/deputado/ban...</td>\n",
              "      <td>PR</td>\n",
              "      <td>masculino</td>\n",
              "      <td>PSD</td>\n",
              "    </tr>\n",
              "  </tbody>\n",
              "</table>\n",
              "</div>\n",
              "      <button class=\"colab-df-convert\" onclick=\"convertToInteractive('df-1caba5b4-2d93-49b5-bacd-7880c50c4146')\"\n",
              "              title=\"Convert this dataframe to an interactive table.\"\n",
              "              style=\"display:none;\">\n",
              "        \n",
              "  <svg xmlns=\"http://www.w3.org/2000/svg\" height=\"24px\"viewBox=\"0 0 24 24\"\n",
              "       width=\"24px\">\n",
              "    <path d=\"M0 0h24v24H0V0z\" fill=\"none\"/>\n",
              "    <path d=\"M18.56 5.44l.94 2.06.94-2.06 2.06-.94-2.06-.94-.94-2.06-.94 2.06-2.06.94zm-11 1L8.5 8.5l.94-2.06 2.06-.94-2.06-.94L8.5 2.5l-.94 2.06-2.06.94zm10 10l.94 2.06.94-2.06 2.06-.94-2.06-.94-.94-2.06-.94 2.06-2.06.94z\"/><path d=\"M17.41 7.96l-1.37-1.37c-.4-.4-.92-.59-1.43-.59-.52 0-1.04.2-1.43.59L10.3 9.45l-7.72 7.72c-.78.78-.78 2.05 0 2.83L4 21.41c.39.39.9.59 1.41.59.51 0 1.02-.2 1.41-.59l7.78-7.78 2.81-2.81c.8-.78.8-2.07 0-2.86zM5.41 20L4 18.59l7.72-7.72 1.47 1.35L5.41 20z\"/>\n",
              "  </svg>\n",
              "      </button>\n",
              "      \n",
              "  <style>\n",
              "    .colab-df-container {\n",
              "      display:flex;\n",
              "      flex-wrap:wrap;\n",
              "      gap: 12px;\n",
              "    }\n",
              "\n",
              "    .colab-df-convert {\n",
              "      background-color: #E8F0FE;\n",
              "      border: none;\n",
              "      border-radius: 50%;\n",
              "      cursor: pointer;\n",
              "      display: none;\n",
              "      fill: #1967D2;\n",
              "      height: 32px;\n",
              "      padding: 0 0 0 0;\n",
              "      width: 32px;\n",
              "    }\n",
              "\n",
              "    .colab-df-convert:hover {\n",
              "      background-color: #E2EBFA;\n",
              "      box-shadow: 0px 1px 2px rgba(60, 64, 67, 0.3), 0px 1px 3px 1px rgba(60, 64, 67, 0.15);\n",
              "      fill: #174EA6;\n",
              "    }\n",
              "\n",
              "    [theme=dark] .colab-df-convert {\n",
              "      background-color: #3B4455;\n",
              "      fill: #D2E3FC;\n",
              "    }\n",
              "\n",
              "    [theme=dark] .colab-df-convert:hover {\n",
              "      background-color: #434B5C;\n",
              "      box-shadow: 0px 1px 3px 1px rgba(0, 0, 0, 0.15);\n",
              "      filter: drop-shadow(0px 1px 2px rgba(0, 0, 0, 0.3));\n",
              "      fill: #FFFFFF;\n",
              "    }\n",
              "  </style>\n",
              "\n",
              "      <script>\n",
              "        const buttonEl =\n",
              "          document.querySelector('#df-1caba5b4-2d93-49b5-bacd-7880c50c4146 button.colab-df-convert');\n",
              "        buttonEl.style.display =\n",
              "          google.colab.kernel.accessAllowed ? 'block' : 'none';\n",
              "\n",
              "        async function convertToInteractive(key) {\n",
              "          const element = document.querySelector('#df-1caba5b4-2d93-49b5-bacd-7880c50c4146');\n",
              "          const dataTable =\n",
              "            await google.colab.kernel.invokeFunction('convertToInteractive',\n",
              "                                                     [key], {});\n",
              "          if (!dataTable) return;\n",
              "\n",
              "          const docLinkHtml = 'Like what you see? Visit the ' +\n",
              "            '<a target=\"_blank\" href=https://colab.research.google.com/notebooks/data_table.ipynb>data table notebook</a>'\n",
              "            + ' to learn more about interactive tables.';\n",
              "          element.innerHTML = '';\n",
              "          dataTable['output_type'] = 'display_data';\n",
              "          await google.colab.output.renderOutput(dataTable, element);\n",
              "          const docLink = document.createElement('div');\n",
              "          docLink.innerHTML = docLinkHtml;\n",
              "          element.appendChild(docLink);\n",
              "        }\n",
              "      </script>\n",
              "    </div>\n",
              "  </div>\n",
              "  "
            ]
          },
          "metadata": {},
          "execution_count": 10
        }
      ]
    },
    {
      "cell_type": "markdown",
      "source": [
        "# Phase 4: Checking for Missing Data"
      ],
      "metadata": {
        "id": "od1s8vRGKIzP"
      }
    },
    {
      "cell_type": "markdown",
      "source": [
        "To verify if we have any missing data by asking for ```info().```"
      ],
      "metadata": {
        "id": "_lVUBabIxeSg"
      }
    },
    {
      "cell_type": "code",
      "source": [
        "Deputados.info()"
      ],
      "metadata": {
        "colab": {
          "base_uri": "https://localhost:8080/"
        },
        "id": "NJzLVWW1t0Wi",
        "outputId": "02c92a40-9a93-42b0-d18f-80f8915590c0"
      },
      "execution_count": null,
      "outputs": [
        {
          "output_type": "stream",
          "name": "stdout",
          "text": [
            "<class 'pandas.core.frame.DataFrame'>\n",
            "RangeIndex: 513 entries, 0 to 512\n",
            "Data columns (total 6 columns):\n",
            " #   Column  Non-Null Count  Dtype \n",
            "---  ------  --------------  ----- \n",
            " 0   Name    513 non-null    object\n",
            " 1   ID      513 non-null    object\n",
            " 2   Foto    513 non-null    object\n",
            " 3   UF      513 non-null    object\n",
            " 4   Gender  513 non-null    object\n",
            " 5   Party   513 non-null    object\n",
            "dtypes: object(6)\n",
            "memory usage: 24.2+ KB\n"
          ]
        }
      ]
    },
    {
      "cell_type": "markdown",
      "source": [
        "\n",
        "Do you see how each column has the same number of elements: 513?\n",
        "\n",
        "<br>Knowing that there should be 513 Congresspersons, it seems that there is no missing information.\n",
        "\n"
      ],
      "metadata": {
        "id": "VrLmAjWlxlxP"
      }
    },
    {
      "cell_type": "markdown",
      "source": [
        "We could also request to describe the UF's, although the result should not bring any new information:\n",
        "<br> \n",
        "*   There should be 513 Congresspersons.\n",
        "*   Brazil has 26 UF's + the Federal District, so it should be 27 unique UF's.\n",
        "*   Sao Paulo is the state with more congresspersons.\n",
        "<br>\n",
        "*What about those that are temporarily replacing a congressperson, would they be added to this list?*"
      ],
      "metadata": {
        "id": "lSddJYiny0jO"
      }
    },
    {
      "cell_type": "code",
      "source": [
        "Deputados['UF'].describe()"
      ],
      "metadata": {
        "colab": {
          "base_uri": "https://localhost:8080/"
        },
        "id": "XXL-POERyOcW",
        "outputId": "925bc783-d847-488a-c3ad-f1d2679f71f8"
      },
      "execution_count": null,
      "outputs": [
        {
          "output_type": "execute_result",
          "data": {
            "text/plain": [
              "count     513\n",
              "unique     27\n",
              "top        SP\n",
              "freq       70\n",
              "Name: UF, dtype: object"
            ]
          },
          "metadata": {},
          "execution_count": 12
        }
      ]
    },
    {
      "cell_type": "markdown",
      "source": [
        "But we can also want to see how they are gender distributed:"
      ],
      "metadata": {
        "id": "3utY1sSFx-fY"
      }
    },
    {
      "cell_type": "code",
      "source": [
        "Deputados['Gender'].value_counts()"
      ],
      "metadata": {
        "colab": {
          "base_uri": "https://localhost:8080/"
        },
        "id": "03wfh0Z9uLma",
        "outputId": "d4eac76c-98d3-411c-d287-3ca58ec1552e"
      },
      "execution_count": null,
      "outputs": [
        {
          "output_type": "execute_result",
          "data": {
            "text/plain": [
              "masculino    424\n",
              "feminino      89\n",
              "Name: Gender, dtype: int64"
            ]
          },
          "metadata": {},
          "execution_count": 13
        }
      ]
    },
    {
      "cell_type": "markdown",
      "source": [
        "And make a pie chart of it:"
      ],
      "metadata": {
        "id": "HYKLvLCSyIlt"
      }
    },
    {
      "cell_type": "code",
      "source": [
        "Deputados['Gender'].value_counts().plot(kind=\"pie\")"
      ],
      "metadata": {
        "colab": {
          "base_uri": "https://localhost:8080/",
          "height": 423
        },
        "id": "EiM61mOzuYRX",
        "outputId": "82fbbf48-dec6-42fb-bb70-7c8b44168b35"
      },
      "execution_count": null,
      "outputs": [
        {
          "output_type": "execute_result",
          "data": {
            "text/plain": [
              "<Axes: ylabel='Gender'>"
            ]
          },
          "metadata": {},
          "execution_count": 14
        },
        {
          "output_type": "display_data",
          "data": {
            "text/plain": [
              "<Figure size 640x480 with 1 Axes>"
            ],
            "image/png": "[encoded data removed]"
          },
          "metadata": {}
        }
      ]
    },
    {
      "cell_type": "markdown",
      "source": [
        "Yes, women are in orange and are that little represented when the percentage of female population in 2021 was 50.89% compared to 49.11% male population."
      ],
      "metadata": {
        "id": "X1a8xx9Ac6j8"
      }
    },
    {
      "cell_type": "markdown",
      "source": [
        "# Phase 5: Adding More Data and Cleaning"
      ],
      "metadata": {
        "id": "vnp0-OgQ3Wd2"
      }
    },
    {
      "cell_type": "markdown",
      "source": [
        "Let's use another endpoint to retrieve information such as the birth date and the level of studies of each congressperson. <br> So we start by creating a list for each element.\n",
        "<br><br>\n",
        "The API endpoint where this information comes from has a static portion and a dynamic portion, let's have the Static portion declared:"
      ],
      "metadata": {
        "id": "wcpQ_gRfNOgF"
      }
    },
    {
      "cell_type": "code",
      "source": [
        "bdate = []\n",
        "studies = []\n",
        "\n",
        "Static_URL = \"https://dadosabertos.camara.leg.br/api/v2/deputados/\""
      ],
      "metadata": {
        "id": "w7NVvxe6Kfwc"
      },
      "execution_count": null,
      "outputs": []
    },
    {
      "cell_type": "markdown",
      "source": [
        "\n",
        "\n",
        "*   The dynamic portion of the URL is the ID of each congressperson.\n",
        "*   So, for every element in ID - that we will call i - we will get a specific URL (i_URL).\n",
        "*   Run a requests.get on this i_URL and get the text/xml data.\n",
        "*   Using ET we will get the content of the xml.\n",
        "*   Now we just extract the data we want and append it to the correspondent list."
      ],
      "metadata": {
        "id": "5FtoGjDiKkUC"
      }
    },
    {
      "cell_type": "code",
      "source": [
        "for i in Deputados['ID']:\n",
        "    i_URL = Static_URL + str(i)\n",
        "    response = requests.get(url=i_URL, headers={'Accept': 'text/xml'})\n",
        "    root2 = ET.fromstring(response.content)\n",
        "    for data in root2.iter('dataNascimento'):\n",
        "      bdate.append(data.text)\n",
        "    for info in root2.iter('escolaridade'):\n",
        "      studies.append(info.text)"
      ],
      "metadata": {
        "id": "5mEZNweMI5dz"
      },
      "execution_count": null,
      "outputs": []
    },
    {
      "cell_type": "markdown",
      "source": [
        "Just like with our previous data frame, create a dictionary that contains the values extracted. <br><br> Add the ID column so it is used as reference to join the Deputados dictionary with the new_df correctly."
      ],
      "metadata": {
        "id": "-J1NqFW1GJun"
      }
    },
    {
      "cell_type": "code",
      "source": [
        "new_df = pd.DataFrame({'ID': dep_id, 'Birthdate': bdate, 'Scolarity': studies})"
      ],
      "metadata": {
        "id": "-FWqpEe08VRM"
      },
      "execution_count": null,
      "outputs": []
    },
    {
      "cell_type": "code",
      "source": [
        "Deputados = Deputados.join(new_df, lsuffix=\"_left\", rsuffix=\"_right\", how='left')"
      ],
      "metadata": {
        "id": "UVcG4ROp-Sks"
      },
      "execution_count": null,
      "outputs": []
    },
    {
      "cell_type": "markdown",
      "source": [
        "Now our Deputados dataframe is bigger!"
      ],
      "metadata": {
        "id": "GIoiseYGL4v2"
      }
    },
    {
      "cell_type": "code",
      "source": [
        "Deputados.head()"
      ],
      "metadata": {
        "id": "uq9AjfZWEid2",
        "colab": {
          "base_uri": "https://localhost:8080/",
          "height": 206
        },
        "outputId": "e26e844a-e5fe-4721-b041-ae9057a9bcb8"
      },
      "execution_count": null,
      "outputs": [
        {
          "output_type": "execute_result",
          "data": {
            "text/plain": [
              "                Name ID_left  \\\n",
              "0  Benedita da Silva   73701   \n",
              "1         Átila Lins   74090   \n",
              "2  Renildo Calheiros   73801   \n",
              "3    Jandira Feghali   74848   \n",
              "4     Lídice da Mata  139285   \n",
              "\n",
              "                                                Foto  UF     Gender  Party  \\\n",
              "0  http://www.camara.gov.br/internet/deputado/ban...  RJ   feminino     PT   \n",
              "1  http://www.camara.gov.br/internet/deputado/ban...  AM  masculino    PSD   \n",
              "2  http://www.camara.gov.br/internet/deputado/ban...  PE  masculino  PCdoB   \n",
              "3  http://www.camara.gov.br/internet/deputado/ban...  RJ   feminino  PCdoB   \n",
              "4  http://www.camara.gov.br/internet/deputado/ban...  BA   feminino    PSB   \n",
              "\n",
              "  ID_right   Birthdate      Scolarity  \n",
              "0    73701  1942-04-26       Superior  \n",
              "1    74090  1950-11-22       Superior  \n",
              "2    73801  1959-04-20       Superior  \n",
              "3    74848  1957-05-17  Pós-Graduação  \n",
              "4   139285  1956-03-12       Superior  "
            ],
            "text/html": [
              "\n",
              "  <div id=\"df-16c7891a-4fe4-4cd2-b959-390c5e7fcda1\">\n",
              "    <div class=\"colab-df-container\">\n",
              "      <div>\n",
              "<style scoped>\n",
              "    .dataframe tbody tr th:only-of-type {\n",
              "        vertical-align: middle;\n",
              "    }\n",
              "\n",
              "    .dataframe tbody tr th {\n",
              "        vertical-align: top;\n",
              "    }\n",
              "\n",
              "    .dataframe thead th {\n",
              "        text-align: right;\n",
              "    }\n",
              "</style>\n",
              "<table border=\"1\" class=\"dataframe\">\n",
              "  <thead>\n",
              "    <tr style=\"text-align: right;\">\n",
              "      <th></th>\n",
              "      <th>Name</th>\n",
              "      <th>ID_left</th>\n",
              "      <th>Foto</th>\n",
              "      <th>UF</th>\n",
              "      <th>Gender</th>\n",
              "      <th>Party</th>\n",
              "      <th>ID_right</th>\n",
              "      <th>Birthdate</th>\n",
              "      <th>Scolarity</th>\n",
              "    </tr>\n",
              "  </thead>\n",
              "  <tbody>\n",
              "    <tr>\n",
              "      <th>0</th>\n",
              "      <td>Benedita da Silva</td>\n",
              "      <td>73701</td>\n",
              "      <td>http://www.camara.gov.br/internet/deputado/ban...</td>\n",
              "      <td>RJ</td>\n",
              "      <td>feminino</td>\n",
              "      <td>PT</td>\n",
              "      <td>73701</td>\n",
              "      <td>1942-04-26</td>\n",
              "      <td>Superior</td>\n",
              "    </tr>\n",
              "    <tr>\n",
              "      <th>1</th>\n",
              "      <td>Átila Lins</td>\n",
              "      <td>74090</td>\n",
              "      <td>http://www.camara.gov.br/internet/deputado/ban...</td>\n",
              "      <td>AM</td>\n",
              "      <td>masculino</td>\n",
              "      <td>PSD</td>\n",
              "      <td>74090</td>\n",
              "      <td>1950-11-22</td>\n",
              "      <td>Superior</td>\n",
              "    </tr>\n",
              "    <tr>\n",
              "      <th>2</th>\n",
              "      <td>Renildo Calheiros</td>\n",
              "      <td>73801</td>\n",
              "      <td>http://www.camara.gov.br/internet/deputado/ban...</td>\n",
              "      <td>PE</td>\n",
              "      <td>masculino</td>\n",
              "      <td>PCdoB</td>\n",
              "      <td>73801</td>\n",
              "      <td>1959-04-20</td>\n",
              "      <td>Superior</td>\n",
              "    </tr>\n",
              "    <tr>\n",
              "      <th>3</th>\n",
              "      <td>Jandira Feghali</td>\n",
              "      <td>74848</td>\n",
              "      <td>http://www.camara.gov.br/internet/deputado/ban...</td>\n",
              "      <td>RJ</td>\n",
              "      <td>feminino</td>\n",
              "      <td>PCdoB</td>\n",
              "      <td>74848</td>\n",
              "      <td>1957-05-17</td>\n",
              "      <td>Pós-Graduação</td>\n",
              "    </tr>\n",
              "    <tr>\n",
              "      <th>4</th>\n",
              "      <td>Lídice da Mata</td>\n",
              "      <td>139285</td>\n",
              "      <td>http://www.camara.gov.br/internet/deputado/ban...</td>\n",
              "      <td>BA</td>\n",
              "      <td>feminino</td>\n",
              "      <td>PSB</td>\n",
              "      <td>139285</td>\n",
              "      <td>1956-03-12</td>\n",
              "      <td>Superior</td>\n",
              "    </tr>\n",
              "  </tbody>\n",
              "</table>\n",
              "</div>\n",
              "      <button class=\"colab-df-convert\" onclick=\"convertToInteractive('df-16c7891a-4fe4-4cd2-b959-390c5e7fcda1')\"\n",
              "              title=\"Convert this dataframe to an interactive table.\"\n",
              "              style=\"display:none;\">\n",
              "        \n",
              "  <svg xmlns=\"http://www.w3.org/2000/svg\" height=\"24px\"viewBox=\"0 0 24 24\"\n",
              "       width=\"24px\">\n",
              "    <path d=\"M0 0h24v24H0V0z\" fill=\"none\"/>\n",
              "    <path d=\"M18.56 5.44l.94 2.06.94-2.06 2.06-.94-2.06-.94-.94-2.06-.94 2.06-2.06.94zm-11 1L8.5 8.5l.94-2.06 2.06-.94-2.06-.94L8.5 2.5l-.94 2.06-2.06.94zm10 10l.94 2.06.94-2.06 2.06-.94-2.06-.94-.94-2.06-.94 2.06-2.06.94z\"/><path d=\"M17.41 7.96l-1.37-1.37c-.4-.4-.92-.59-1.43-.59-.52 0-1.04.2-1.43.59L10.3 9.45l-7.72 7.72c-.78.78-.78 2.05 0 2.83L4 21.41c.39.39.9.59 1.41.59.51 0 1.02-.2 1.41-.59l7.78-7.78 2.81-2.81c.8-.78.8-2.07 0-2.86zM5.41 20L4 18.59l7.72-7.72 1.47 1.35L5.41 20z\"/>\n",
              "  </svg>\n",
              "      </button>\n",
              "      \n",
              "  <style>\n",
              "    .colab-df-container {\n",
              "      display:flex;\n",
              "      flex-wrap:wrap;\n",
              "      gap: 12px;\n",
              "    }\n",
              "\n",
              "    .colab-df-convert {\n",
              "      background-color: #E8F0FE;\n",
              "      border: none;\n",
              "      border-radius: 50%;\n",
              "      cursor: pointer;\n",
              "      display: none;\n",
              "      fill: #1967D2;\n",
              "      height: 32px;\n",
              "      padding: 0 0 0 0;\n",
              "      width: 32px;\n",
              "    }\n",
              "\n",
              "    .colab-df-convert:hover {\n",
              "      background-color: #E2EBFA;\n",
              "      box-shadow: 0px 1px 2px rgba(60, 64, 67, 0.3), 0px 1px 3px 1px rgba(60, 64, 67, 0.15);\n",
              "      fill: #174EA6;\n",
              "    }\n",
              "\n",
              "    [theme=dark] .colab-df-convert {\n",
              "      background-color: #3B4455;\n",
              "      fill: #D2E3FC;\n",
              "    }\n",
              "\n",
              "    [theme=dark] .colab-df-convert:hover {\n",
              "      background-color: #434B5C;\n",
              "      box-shadow: 0px 1px 3px 1px rgba(0, 0, 0, 0.15);\n",
              "      filter: drop-shadow(0px 1px 2px rgba(0, 0, 0, 0.3));\n",
              "      fill: #FFFFFF;\n",
              "    }\n",
              "  </style>\n",
              "\n",
              "      <script>\n",
              "        const buttonEl =\n",
              "          document.querySelector('#df-16c7891a-4fe4-4cd2-b959-390c5e7fcda1 button.colab-df-convert');\n",
              "        buttonEl.style.display =\n",
              "          google.colab.kernel.accessAllowed ? 'block' : 'none';\n",
              "\n",
              "        async function convertToInteractive(key) {\n",
              "          const element = document.querySelector('#df-16c7891a-4fe4-4cd2-b959-390c5e7fcda1');\n",
              "          const dataTable =\n",
              "            await google.colab.kernel.invokeFunction('convertToInteractive',\n",
              "                                                     [key], {});\n",
              "          if (!dataTable) return;\n",
              "\n",
              "          const docLinkHtml = 'Like what you see? Visit the ' +\n",
              "            '<a target=\"_blank\" href=https://colab.research.google.com/notebooks/data_table.ipynb>data table notebook</a>'\n",
              "            + ' to learn more about interactive tables.';\n",
              "          element.innerHTML = '';\n",
              "          dataTable['output_type'] = 'display_data';\n",
              "          await google.colab.output.renderOutput(dataTable, element);\n",
              "          const docLink = document.createElement('div');\n",
              "          docLink.innerHTML = docLinkHtml;\n",
              "          element.appendChild(docLink);\n",
              "        }\n",
              "      </script>\n",
              "    </div>\n",
              "  </div>\n",
              "  "
            ]
          },
          "metadata": {},
          "execution_count": 19
        }
      ]
    },
    {
      "cell_type": "markdown",
      "source": [
        "But there ar some missing values..."
      ],
      "metadata": {
        "id": "nvIFGRiZMwlu"
      }
    },
    {
      "cell_type": "code",
      "source": [
        "print(Deputados.isnull().sum())"
      ],
      "metadata": {
        "colab": {
          "base_uri": "https://localhost:8080/"
        },
        "id": "Zsbvbjb7Mv-t",
        "outputId": "a59f0064-8103-417f-9978-81503b6be8b7"
      },
      "execution_count": null,
      "outputs": [
        {
          "output_type": "stream",
          "name": "stdout",
          "text": [
            "Name          0\n",
            "ID_left       0\n",
            "Foto          0\n",
            "UF            0\n",
            "Gender        0\n",
            "Party         0\n",
            "ID_right      0\n",
            "Birthdate     0\n",
            "Scolarity    57\n",
            "dtype: int64\n"
          ]
        }
      ]
    },
    {
      "cell_type": "markdown",
      "source": [
        "If we can call the entries without data we can run\n",
        "\n",
        "```\n",
        "Deputados[Deputados.isnull().any(axis=1)]\n",
        "```"
      ],
      "metadata": {
        "id": "TPRkOYkLM73z"
      }
    },
    {
      "cell_type": "markdown",
      "source": [
        "Let's assign a code system for the genders by creating a column Gender_Code / Scolarity_Code / Party_Code.\n",
        "\n",
        "By assigning a code to Scolarity we will deal with the missing values."
      ],
      "metadata": {
        "id": "4_C5La01LNWu"
      }
    },
    {
      "cell_type": "code",
      "source": [
        "Deputados['Gender_Code'] = 0\n",
        "\n",
        "Deputados.loc[Deputados['Gender'] == 'feminino', 'Gender_Code'] = 1"
      ],
      "metadata": {
        "id": "-RWDPbHUK8z9"
      },
      "execution_count": null,
      "outputs": []
    },
    {
      "cell_type": "code",
      "source": [
        "Deputados['Scolarity_Code'] = 0\n",
        "\n",
        "Deputados.loc[Deputados['Scolarity'] == 'Doutorado', 'Scolarity_Code'] = 13\n",
        "Deputados.loc[Deputados['Scolarity'] == 'Doutorado Incompleto', 'Scolarity_Code'] = 12\n",
        "Deputados.loc[Deputados['Scolarity'] == 'Mestrado', 'Scolarity_Code'] = 11\n",
        "Deputados.loc[Deputados['Scolarity'] == 'Mestrado Incompleto', 'Scolarity_Code'] = 10\n",
        "Deputados.loc[Deputados['Scolarity'] == 'Superior', 'Scolarity_Code'] = 9\n",
        "Deputados.loc[Deputados['Scolarity'] == 'Superior Incompleto', 'Scolarity_Code'] = 8\n",
        "Deputados.loc[Deputados['Scolarity'] == 'Ensino Médio', 'Scolarity_Code'] = 7\n",
        "Deputados.loc[Deputados['Scolarity'] == 'Secundário', 'Scolarity_Code'] = 6\n",
        "Deputados.loc[Deputados['Scolarity'] == 'Ensino Médio Incompleto', 'Scolarity_Code'] = 5\n",
        "Deputados.loc[Deputados['Scolarity'] == 'Ensino Fundamental', 'Scolarity_Code'] = 4\n",
        "Deputados.loc[Deputados['Scolarity'] == 'Primário', 'Scolarity_Code'] = 3\n",
        "Deputados.loc[Deputados['Scolarity'] == 'Ensino Fundamental Incompleto', 'Scolarity_Code'] = 2\n",
        "Deputados.loc[Deputados['Scolarity'] == 'Primário Incompleto', 'Scolarity_Code'] = 1"
      ],
      "metadata": {
        "id": "bgg8gL-0LGkR"
      },
      "execution_count": null,
      "outputs": []
    },
    {
      "cell_type": "code",
      "source": [
        "Deputados['Party_Code'] = 0\n",
        "\n",
        "Deputados.loc[Deputados['Party_Code'] == 'PL', 'Party_Code'] = 22\n",
        "Deputados.loc[Deputados['Party_Code'] == 'PT', 'Party_Code'] = 13\n",
        "Deputados.loc[Deputados['Party_Code'] == 'UNIÃO', 'Party_Code'] = 44\n",
        "Deputados.loc[Deputados['Party_Code'] == 'PP', 'Party_Code'] = 11\n",
        "Deputados.loc[Deputados['Party_Code'] == 'PSD', 'Party_Code'] = 55\n",
        "Deputados.loc[Deputados['Party_Code'] == 'MDB', 'Party_Code'] = 15\n",
        "Deputados.loc[Deputados['Party_Code'] == 'REPUBLICANOS', 'Party_Code'] = 10\n",
        "Deputados.loc[Deputados['Party_Code'] == 'PDT', 'Party_Code'] = 12\n",
        "Deputados.loc[Deputados['Party_Code'] == 'PSB', 'Party_Code'] = 40\n",
        "Deputados.loc[Deputados['Party_Code'] == 'PSDB', 'Party_Code'] = 45\n",
        "Deputados.loc[Deputados['Party_Code'] == 'PSOL', 'Party_Code'] = 50\n",
        "Deputados.loc[Deputados['Party_Code'] == 'PODE', 'Party_Code'] = 19\n",
        "Deputados.loc[Deputados['Party_Code'] == 'PCdoB', 'Party_Code'] = 65\n",
        "Deputados.loc[Deputados['Party_Code'] == 'AVANTE', 'Party_Code'] = 70\n",
        "Deputados.loc[Deputados['Party_Code'] == 'PV', 'Party_Code'] = 43\n",
        "Deputados.loc[Deputados['Party_Code'] == 'CIDADANIA', 'Party_Code'] = 23\n",
        "Deputados.loc[Deputados['Party_Code'] == 'SOLIDARIEDADE', 'Party_Code'] = 77\n",
        "Deputados.loc[Deputados['Party_Code'] == 'PATRIOTA', 'Party_Code'] = 51\n",
        "Deputados.loc[Deputados['Party_Code'] == 'PSC', 'Party_Code'] = 20\n",
        "Deputados.loc[Deputados['Party_Code'] == 'NOVO', 'Party_Code'] = 30\n",
        "Deputados.loc[Deputados['Party_Code'] == 'REDE', 'Party_Code'] = 18\n"
      ],
      "metadata": {
        "id": "MEMz59BTLMKu"
      },
      "execution_count": null,
      "outputs": []
    },
    {
      "cell_type": "markdown",
      "source": [
        "We do not want duplicated columns, so let's drop the ID_right column:"
      ],
      "metadata": {
        "id": "DD-bfggJJaRJ"
      }
    },
    {
      "cell_type": "code",
      "source": [
        "Deputados.drop('ID_right', inplace=True, axis=1)"
      ],
      "metadata": {
        "id": "c9vNeEPGDx3k"
      },
      "execution_count": null,
      "outputs": []
    },
    {
      "cell_type": "markdown",
      "source": [
        "Let's rename the ID_left column name to ID:"
      ],
      "metadata": {
        "id": "H1qs5it5KKna"
      }
    },
    {
      "cell_type": "code",
      "source": [
        "Deputados.rename(columns={\"ID_left\": \"ID\"})"
      ],
      "metadata": {
        "colab": {
          "base_uri": "https://localhost:8080/",
          "height": 468
        },
        "id": "kQWlk7iwKGsU",
        "outputId": "b01d97de-dac8-4037-9435-b830be081dc9"
      },
      "execution_count": null,
      "outputs": [
        {
          "output_type": "execute_result",
          "data": {
            "text/plain": [
              "                     Name      ID  \\\n",
              "0       Benedita da Silva   73701   \n",
              "1              Átila Lins   74090   \n",
              "2       Renildo Calheiros   73801   \n",
              "3         Jandira Feghali   74848   \n",
              "4          Lídice da Mata  139285   \n",
              "..                    ...     ...   \n",
              "508         Luciano Alves  138286   \n",
              "509           Caio Vianna  143942   \n",
              "510           Jones Moura  217480   \n",
              "511              Flavinha  225727   \n",
              "512  Enfermeira Ana Paula  225730   \n",
              "\n",
              "                                                  Foto  UF     Gender  Party  \\\n",
              "0    http://www.camara.gov.br/internet/deputado/ban...  RJ   feminino     PT   \n",
              "1    http://www.camara.gov.br/internet/deputado/ban...  AM  masculino    PSD   \n",
              "2    http://www.camara.gov.br/internet/deputado/ban...  PE  masculino  PCdoB   \n",
              "3    http://www.camara.gov.br/internet/deputado/ban...  RJ   feminino  PCdoB   \n",
              "4    http://www.camara.gov.br/internet/deputado/ban...  BA   feminino    PSB   \n",
              "..                                                 ...  ..        ...    ...   \n",
              "508  http://www.camara.gov.br/internet/deputado/ban...  PR  masculino    PSD   \n",
              "509  http://www.camara.gov.br/internet/deputado/ban...  RJ  masculino    PSD   \n",
              "510  http://www.camara.gov.br/internet/deputado/ban...  RJ  masculino    PSD   \n",
              "511  http://www.camara.gov.br/internet/deputado/ban...  MT   feminino    MDB   \n",
              "512  http://www.camara.gov.br/internet/deputado/ban...  CE   feminino    PDT   \n",
              "\n",
              "      Birthdate      Scolarity  Gender_Code  Scolarity_Code  Party_Code  \n",
              "0    1942-04-26       Superior            1               9           0  \n",
              "1    1950-11-22       Superior            0               9           0  \n",
              "2    1959-04-20       Superior            0               9           0  \n",
              "3    1957-05-17  Pós-Graduação            1               0           0  \n",
              "4    1956-03-12       Superior            1               9           0  \n",
              "..          ...            ...          ...             ...         ...  \n",
              "508  1973-01-08           None            0               0           0  \n",
              "509  1988-12-08           None            0               0           0  \n",
              "510  1974-06-16       Superior            0               9           0  \n",
              "511  1990-11-08           None            1               0           0  \n",
              "512  1983-11-17       Superior            1               9           0  \n",
              "\n",
              "[513 rows x 11 columns]"
            ],
            "text/html": [
              "\n",
              "  <div id=\"df-d0571e81-0934-4486-8159-2989fb570dfd\">\n",
              "    <div class=\"colab-df-container\">\n",
              "      <div>\n",
              "<style scoped>\n",
              "    .dataframe tbody tr th:only-of-type {\n",
              "        vertical-align: middle;\n",
              "    }\n",
              "\n",
              "    .dataframe tbody tr th {\n",
              "        vertical-align: top;\n",
              "    }\n",
              "\n",
              "    .dataframe thead th {\n",
              "        text-align: right;\n",
              "    }\n",
              "</style>\n",
              "<table border=\"1\" class=\"dataframe\">\n",
              "  <thead>\n",
              "    <tr style=\"text-align: right;\">\n",
              "      <th></th>\n",
              "      <th>Name</th>\n",
              "      <th>ID</th>\n",
              "      <th>Foto</th>\n",
              "      <th>UF</th>\n",
              "      <th>Gender</th>\n",
              "      <th>Party</th>\n",
              "      <th>Birthdate</th>\n",
              "      <th>Scolarity</th>\n",
              "      <th>Gender_Code</th>\n",
              "      <th>Scolarity_Code</th>\n",
              "      <th>Party_Code</th>\n",
              "    </tr>\n",
              "  </thead>\n",
              "  <tbody>\n",
              "    <tr>\n",
              "      <th>0</th>\n",
              "      <td>Benedita da Silva</td>\n",
              "      <td>73701</td>\n",
              "      <td>http://www.camara.gov.br/internet/deputado/ban...</td>\n",
              "      <td>RJ</td>\n",
              "      <td>feminino</td>\n",
              "      <td>PT</td>\n",
              "      <td>1942-04-26</td>\n",
              "      <td>Superior</td>\n",
              "      <td>1</td>\n",
              "      <td>9</td>\n",
              "      <td>0</td>\n",
              "    </tr>\n",
              "    <tr>\n",
              "      <th>1</th>\n",
              "      <td>Átila Lins</td>\n",
              "      <td>74090</td>\n",
              "      <td>http://www.camara.gov.br/internet/deputado/ban...</td>\n",
              "      <td>AM</td>\n",
              "      <td>masculino</td>\n",
              "      <td>PSD</td>\n",
              "      <td>1950-11-22</td>\n",
              "      <td>Superior</td>\n",
              "      <td>0</td>\n",
              "      <td>9</td>\n",
              "      <td>0</td>\n",
              "    </tr>\n",
              "    <tr>\n",
              "      <th>2</th>\n",
              "      <td>Renildo Calheiros</td>\n",
              "      <td>73801</td>\n",
              "      <td>http://www.camara.gov.br/internet/deputado/ban...</td>\n",
              "      <td>PE</td>\n",
              "      <td>masculino</td>\n",
              "      <td>PCdoB</td>\n",
              "      <td>1959-04-20</td>\n",
              "      <td>Superior</td>\n",
              "      <td>0</td>\n",
              "      <td>9</td>\n",
              "      <td>0</td>\n",
              "    </tr>\n",
              "    <tr>\n",
              "      <th>3</th>\n",
              "      <td>Jandira Feghali</td>\n",
              "      <td>74848</td>\n",
              "      <td>http://www.camara.gov.br/internet/deputado/ban...</td>\n",
              "      <td>RJ</td>\n",
              "      <td>feminino</td>\n",
              "      <td>PCdoB</td>\n",
              "      <td>1957-05-17</td>\n",
              "      <td>Pós-Graduação</td>\n",
              "      <td>1</td>\n",
              "      <td>0</td>\n",
              "      <td>0</td>\n",
              "    </tr>\n",
              "    <tr>\n",
              "      <th>4</th>\n",
              "      <td>Lídice da Mata</td>\n",
              "      <td>139285</td>\n",
              "      <td>http://www.camara.gov.br/internet/deputado/ban...</td>\n",
              "      <td>BA</td>\n",
              "      <td>feminino</td>\n",
              "      <td>PSB</td>\n",
              "      <td>1956-03-12</td>\n",
              "      <td>Superior</td>\n",
              "      <td>1</td>\n",
              "      <td>9</td>\n",
              "      <td>0</td>\n",
              "    </tr>\n",
              "    <tr>\n",
              "      <th>...</th>\n",
              "      <td>...</td>\n",
              "      <td>...</td>\n",
              "      <td>...</td>\n",
              "      <td>...</td>\n",
              "      <td>...</td>\n",
              "      <td>...</td>\n",
              "      <td>...</td>\n",
              "      <td>...</td>\n",
              "      <td>...</td>\n",
              "      <td>...</td>\n",
              "      <td>...</td>\n",
              "    </tr>\n",
              "    <tr>\n",
              "      <th>508</th>\n",
              "      <td>Luciano Alves</td>\n",
              "      <td>138286</td>\n",
              "      <td>http://www.camara.gov.br/internet/deputado/ban...</td>\n",
              "      <td>PR</td>\n",
              "      <td>masculino</td>\n",
              "      <td>PSD</td>\n",
              "      <td>1973-01-08</td>\n",
              "      <td>None</td>\n",
              "      <td>0</td>\n",
              "      <td>0</td>\n",
              "      <td>0</td>\n",
              "    </tr>\n",
              "    <tr>\n",
              "      <th>509</th>\n",
              "      <td>Caio Vianna</td>\n",
              "      <td>143942</td>\n",
              "      <td>http://www.camara.gov.br/internet/deputado/ban...</td>\n",
              "      <td>RJ</td>\n",
              "      <td>masculino</td>\n",
              "      <td>PSD</td>\n",
              "      <td>1988-12-08</td>\n",
              "      <td>None</td>\n",
              "      <td>0</td>\n",
              "      <td>0</td>\n",
              "      <td>0</td>\n",
              "    </tr>\n",
              "    <tr>\n",
              "      <th>510</th>\n",
              "      <td>Jones Moura</td>\n",
              "      <td>217480</td>\n",
              "      <td>http://www.camara.gov.br/internet/deputado/ban...</td>\n",
              "      <td>RJ</td>\n",
              "      <td>masculino</td>\n",
              "      <td>PSD</td>\n",
              "      <td>1974-06-16</td>\n",
              "      <td>Superior</td>\n",
              "      <td>0</td>\n",
              "      <td>9</td>\n",
              "      <td>0</td>\n",
              "    </tr>\n",
              "    <tr>\n",
              "      <th>511</th>\n",
              "      <td>Flavinha</td>\n",
              "      <td>225727</td>\n",
              "      <td>http://www.camara.gov.br/internet/deputado/ban...</td>\n",
              "      <td>MT</td>\n",
              "      <td>feminino</td>\n",
              "      <td>MDB</td>\n",
              "      <td>1990-11-08</td>\n",
              "      <td>None</td>\n",
              "      <td>1</td>\n",
              "      <td>0</td>\n",
              "      <td>0</td>\n",
              "    </tr>\n",
              "    <tr>\n",
              "      <th>512</th>\n",
              "      <td>Enfermeira Ana Paula</td>\n",
              "      <td>225730</td>\n",
              "      <td>http://www.camara.gov.br/internet/deputado/ban...</td>\n",
              "      <td>CE</td>\n",
              "      <td>feminino</td>\n",
              "      <td>PDT</td>\n",
              "      <td>1983-11-17</td>\n",
              "      <td>Superior</td>\n",
              "      <td>1</td>\n",
              "      <td>9</td>\n",
              "      <td>0</td>\n",
              "    </tr>\n",
              "  </tbody>\n",
              "</table>\n",
              "<p>513 rows × 11 columns</p>\n",
              "</div>\n",
              "      <button class=\"colab-df-convert\" onclick=\"convertToInteractive('df-d0571e81-0934-4486-8159-2989fb570dfd')\"\n",
              "              title=\"Convert this dataframe to an interactive table.\"\n",
              "              style=\"display:none;\">\n",
              "        \n",
              "  <svg xmlns=\"http://www.w3.org/2000/svg\" height=\"24px\"viewBox=\"0 0 24 24\"\n",
              "       width=\"24px\">\n",
              "    <path d=\"M0 0h24v24H0V0z\" fill=\"none\"/>\n",
              "    <path d=\"M18.56 5.44l.94 2.06.94-2.06 2.06-.94-2.06-.94-.94-2.06-.94 2.06-2.06.94zm-11 1L8.5 8.5l.94-2.06 2.06-.94-2.06-.94L8.5 2.5l-.94 2.06-2.06.94zm10 10l.94 2.06.94-2.06 2.06-.94-2.06-.94-.94-2.06-.94 2.06-2.06.94z\"/><path d=\"M17.41 7.96l-1.37-1.37c-.4-.4-.92-.59-1.43-.59-.52 0-1.04.2-1.43.59L10.3 9.45l-7.72 7.72c-.78.78-.78 2.05 0 2.83L4 21.41c.39.39.9.59 1.41.59.51 0 1.02-.2 1.41-.59l7.78-7.78 2.81-2.81c.8-.78.8-2.07 0-2.86zM5.41 20L4 18.59l7.72-7.72 1.47 1.35L5.41 20z\"/>\n",
              "  </svg>\n",
              "      </button>\n",
              "      \n",
              "  <style>\n",
              "    .colab-df-container {\n",
              "      display:flex;\n",
              "      flex-wrap:wrap;\n",
              "      gap: 12px;\n",
              "    }\n",
              "\n",
              "    .colab-df-convert {\n",
              "      background-color: #E8F0FE;\n",
              "      border: none;\n",
              "      border-radius: 50%;\n",
              "      cursor: pointer;\n",
              "      display: none;\n",
              "      fill: #1967D2;\n",
              "      height: 32px;\n",
              "      padding: 0 0 0 0;\n",
              "      width: 32px;\n",
              "    }\n",
              "\n",
              "    .colab-df-convert:hover {\n",
              "      background-color: #E2EBFA;\n",
              "      box-shadow: 0px 1px 2px rgba(60, 64, 67, 0.3), 0px 1px 3px 1px rgba(60, 64, 67, 0.15);\n",
              "      fill: #174EA6;\n",
              "    }\n",
              "\n",
              "    [theme=dark] .colab-df-convert {\n",
              "      background-color: #3B4455;\n",
              "      fill: #D2E3FC;\n",
              "    }\n",
              "\n",
              "    [theme=dark] .colab-df-convert:hover {\n",
              "      background-color: #434B5C;\n",
              "      box-shadow: 0px 1px 3px 1px rgba(0, 0, 0, 0.15);\n",
              "      filter: drop-shadow(0px 1px 2px rgba(0, 0, 0, 0.3));\n",
              "      fill: #FFFFFF;\n",
              "    }\n",
              "  </style>\n",
              "\n",
              "      <script>\n",
              "        const buttonEl =\n",
              "          document.querySelector('#df-d0571e81-0934-4486-8159-2989fb570dfd button.colab-df-convert');\n",
              "        buttonEl.style.display =\n",
              "          google.colab.kernel.accessAllowed ? 'block' : 'none';\n",
              "\n",
              "        async function convertToInteractive(key) {\n",
              "          const element = document.querySelector('#df-d0571e81-0934-4486-8159-2989fb570dfd');\n",
              "          const dataTable =\n",
              "            await google.colab.kernel.invokeFunction('convertToInteractive',\n",
              "                                                     [key], {});\n",
              "          if (!dataTable) return;\n",
              "\n",
              "          const docLinkHtml = 'Like what you see? Visit the ' +\n",
              "            '<a target=\"_blank\" href=https://colab.research.google.com/notebooks/data_table.ipynb>data table notebook</a>'\n",
              "            + ' to learn more about interactive tables.';\n",
              "          element.innerHTML = '';\n",
              "          dataTable['output_type'] = 'display_data';\n",
              "          await google.colab.output.renderOutput(dataTable, element);\n",
              "          const docLink = document.createElement('div');\n",
              "          docLink.innerHTML = docLinkHtml;\n",
              "          element.appendChild(docLink);\n",
              "        }\n",
              "      </script>\n",
              "    </div>\n",
              "  </div>\n",
              "  "
            ]
          },
          "metadata": {},
          "execution_count": 25
        }
      ]
    },
    {
      "cell_type": "markdown",
      "source": [
        "Looking way better! Let's just adjust that Birthdate column is a datetime type, not object - This will be important for the future."
      ],
      "metadata": {
        "id": "zE_VO7NdL_J9"
      }
    },
    {
      "cell_type": "code",
      "source": [
        "Deputados['Birthdate'] = pd.to_datetime(Deputados['Birthdate'])"
      ],
      "metadata": {
        "id": "qKhBkWN0Ibdk"
      },
      "execution_count": null,
      "outputs": []
    },
    {
      "cell_type": "markdown",
      "source": [
        "And with birth date adjusted, we can calculate the age of each congressperson."
      ],
      "metadata": {
        "id": "t-A1LPNUM0U-"
      }
    },
    {
      "cell_type": "code",
      "source": [
        "age = []\n",
        "\n",
        "from datetime import date, timedelta\n",
        "\n",
        "for date in Deputados['Birthdate']:\n",
        "  result = (date.today() - date) // timedelta(days=365.2425)\n",
        "  age.append(result)"
      ],
      "metadata": {
        "id": "16KQUqtNPXk3"
      },
      "execution_count": null,
      "outputs": []
    },
    {
      "cell_type": "code",
      "source": [
        "join_age = pd.DataFrame({'ID': dep_id, 'Age': age})"
      ],
      "metadata": {
        "id": "02gSE_xVQJs4"
      },
      "execution_count": null,
      "outputs": []
    },
    {
      "cell_type": "code",
      "source": [
        "Deputados = Deputados.join(join_age, lsuffix=\"_left\", rsuffix=\"_right\", how='left')\n",
        "Deputados.drop('ID_left', inplace=True, axis=1)"
      ],
      "metadata": {
        "id": "JXFr3tuxP4rE"
      },
      "execution_count": null,
      "outputs": []
    },
    {
      "cell_type": "code",
      "source": [
        "Deputados.info()"
      ],
      "metadata": {
        "colab": {
          "base_uri": "https://localhost:8080/"
        },
        "id": "4VJQqxQQQlTL",
        "outputId": "677134ea-2ffc-47a5-9935-350ee81ce562"
      },
      "execution_count": null,
      "outputs": [
        {
          "output_type": "stream",
          "name": "stdout",
          "text": [
            "<class 'pandas.core.frame.DataFrame'>\n",
            "RangeIndex: 513 entries, 0 to 512\n",
            "Data columns (total 12 columns):\n",
            " #   Column          Non-Null Count  Dtype         \n",
            "---  ------          --------------  -----         \n",
            " 0   Name            513 non-null    object        \n",
            " 1   Foto            513 non-null    object        \n",
            " 2   UF              513 non-null    object        \n",
            " 3   Gender          513 non-null    object        \n",
            " 4   Party           513 non-null    object        \n",
            " 5   Birthdate       513 non-null    datetime64[ns]\n",
            " 6   Scolarity       456 non-null    object        \n",
            " 7   Gender_Code     513 non-null    int64         \n",
            " 8   Scolarity_Code  513 non-null    int64         \n",
            " 9   Party_Code      513 non-null    int64         \n",
            " 10  ID              513 non-null    object        \n",
            " 11  Age             513 non-null    int64         \n",
            "dtypes: datetime64[ns](1), int64(4), object(7)\n",
            "memory usage: 48.2+ KB\n"
          ]
        }
      ]
    },
    {
      "cell_type": "markdown",
      "source": [
        "# Phase 5: Data Visualization"
      ],
      "metadata": {
        "id": "-Iywff_9Lvey"
      }
    },
    {
      "cell_type": "markdown",
      "source": [
        "Now we can see the average age of a congressperson, the oldest and the youngest as well."
      ],
      "metadata": {
        "id": "q744B1cnVRX0"
      }
    },
    {
      "cell_type": "code",
      "source": [
        "print(\"The average congressperson age is:\", Deputados[\"Age\"].mean(), \"years old.\")\n",
        "print(\"The oldest congressperson age is:\", Deputados[\"Age\"].max(), \"years old.\")\n",
        "print(\"The youngest congressperson age is:\", Deputados[\"Age\"].min(), \"years old.\")"
      ],
      "metadata": {
        "colab": {
          "base_uri": "https://localhost:8080/"
        },
        "id": "BT9BrSpgQ7Fg",
        "outputId": "d2deac30-7dff-4d60-e532-4e39a1e2b57b"
      },
      "execution_count": null,
      "outputs": [
        {
          "output_type": "stream",
          "name": "stdout",
          "text": [
            "The average congressperson age is: 50.42690058479532 years old.\n",
            "The oldest congressperson age is: 88 years old.\n",
            "The youngest congressperson age is: 22 years old.\n"
          ]
        }
      ]
    },
    {
      "cell_type": "code",
      "source": [
        "print(\"This is the average age of congresspersons per political party:\")\n",
        "print()\n",
        "plt.figure(figsize=(10, 5))\n",
        "sns.boxplot(x='Party', y='Age', data=Deputados)\n",
        "plt.title('Average Congressperson Age per Party')\n",
        "plt.xlabel('Party')\n",
        "plt.ylabel('Age')\n",
        "plt.xticks(rotation=45, size=8)\n",
        "plt.show()"
      ],
      "metadata": {
        "colab": {
          "base_uri": "https://localhost:8080/",
          "height": 579
        },
        "id": "-r5l6bAMUG9D",
        "outputId": "c4f2bdec-b521-43f1-b0be-73a7c4c16320"
      },
      "execution_count": null,
      "outputs": [
        {
          "output_type": "stream",
          "name": "stdout",
          "text": [
            "This is the average age of congresspersons per political party:\n",
            "\n"
          ]
        },
        {
          "output_type": "display_data",
          "data": {
            "text/plain": [
              "<Figure size 1000x500 with 1 Axes>"
            ],
            "image/png": "[encoded data removed]"
          },
          "metadata": {}
        }
      ]
    },
    {
      "cell_type": "code",
      "source": [
        "print(\"This is the average age of congresspersons per State:\")\n",
        "print()\n",
        "plt.figure(figsize=(10, 5))\n",
        "sns.boxplot(x='UF', y='Age', data=Deputados)\n",
        "plt.title('Average Congressperson Age per State')\n",
        "plt.xlabel('State')\n",
        "plt.ylabel('Age')\n",
        "plt.xticks(rotation=45, size=8)\n",
        "plt.show()"
      ],
      "metadata": {
        "colab": {
          "base_uri": "https://localhost:8080/",
          "height": 528
        },
        "id": "qckkGK7MUFCg",
        "outputId": "fb9af036-f140-4372-e329-c9e2a1df6bf3"
      },
      "execution_count": null,
      "outputs": [
        {
          "output_type": "stream",
          "name": "stdout",
          "text": [
            "This is the average age of congresspersons per State:\n",
            "\n"
          ]
        },
        {
          "output_type": "display_data",
          "data": {
            "text/plain": [
              "<Figure size 1000x500 with 1 Axes>"
            ],
            "image/png": "[encoded data removed]"
          },
          "metadata": {}
        }
      ]
    },
    {
      "cell_type": "code",
      "source": [
        "print(\"This is the average age of congresspersons per gender:\")\n",
        "print()\n",
        "plt.figure(figsize=(10, 5))\n",
        "sns.boxplot(x='Gender', y='Age', data=Deputados)\n",
        "plt.title('Average Congressperson Age per Gender')\n",
        "plt.xlabel('Gender')\n",
        "plt.ylabel('Age')\n",
        "plt.xticks(rotation=45)\n",
        "plt.show()"
      ],
      "metadata": {
        "colab": {
          "base_uri": "https://localhost:8080/",
          "height": 568
        },
        "id": "ML4p4ipR9b6c",
        "outputId": "5eebe8c8-2c68-4930-a977-a1e8dbc5ca3f"
      },
      "execution_count": null,
      "outputs": [
        {
          "output_type": "stream",
          "name": "stdout",
          "text": [
            "This is the average age of congresspersons per gender:\n",
            "\n"
          ]
        },
        {
          "output_type": "display_data",
          "data": {
            "text/plain": [
              "<Figure size 1000x500 with 1 Axes>"
            ],
            "image/png": "[encoded data removed]"
          },
          "metadata": {}
        }
      ]
    },
    {
      "cell_type": "code",
      "source": [
        "print(\"This is another way of visualizing the same information:\")\n",
        "print()\n",
        "fig, ax = plt.subplots(figsize=(10,7))\n",
        "Men = Deputados[Deputados['Gender_Code']==0]['Age']\n",
        "Women = Deputados[Deputados['Gender_Code']==1]['Age']\n",
        "n, bins, patches = plt.hist(x = [Men, Women], \n",
        "                            stacked = True, bins='auto', \n",
        "                            color=['darkblue', 'darkorange'],\n",
        "                            alpha=0.65, rwidth=0.95)\n",
        "plt.grid(axis='y', alpha=0.55)\n",
        "plt.xlabel('Congressperson Age', fontsize = 15)\n",
        "plt.ylabel('Frequency', fontsize = 15)\n",
        "plt.title('Age Distribution of Congresspersons', fontsize = 22)\n",
        "plt.legend(['Men','Women'], fontsize = 15);"
      ],
      "metadata": {
        "colab": {
          "base_uri": "https://localhost:8080/",
          "height": 691
        },
        "id": "NqaTtXaeH2V-",
        "outputId": "1fabdab8-7de3-4d4c-9ad7-298b8c8bd48e"
      },
      "execution_count": null,
      "outputs": [
        {
          "output_type": "stream",
          "name": "stdout",
          "text": [
            "This is another way of visualizing the same information:\n",
            "\n"
          ]
        },
        {
          "output_type": "display_data",
          "data": {
            "text/plain": [
              "<Figure size 1000x700 with 1 Axes>"
            ],
            "image/png": "[encoded data removed]"
          },
          "metadata": {}
        }
      ]
    },
    {
      "cell_type": "markdown",
      "source": [
        "What about checking the scolarity level per gender?"
      ],
      "metadata": {
        "id": "0Zn_lJImdTvS"
      }
    },
    {
      "cell_type": "code",
      "source": [
        "print(\"This is another way of visualizing the same information, the higher the Scolarity in X axis the higher is the Scolarity level:\")\n",
        "print()\n",
        "g = sns.FacetGrid(Deputados, col=\"Gender\", height=3, aspect=1)\n",
        "g = g.map(plt.hist, \"Scolarity_Code\", color = '#F39C12', edgecolor ='w', linewidth=2)"
      ],
      "metadata": {
        "id": "0Wv54pZidZKx",
        "outputId": "8dab5984-3289-4d7e-dd5e-87356f5a1a0d",
        "colab": {
          "base_uri": "https://localhost:8080/",
          "height": 342
        }
      },
      "execution_count": null,
      "outputs": [
        {
          "output_type": "stream",
          "name": "stdout",
          "text": [
            "This is another way of visualizing the same information, the higher the Scolarity in X axis the higher is the Scolarity level:\n",
            "\n"
          ]
        },
        {
          "output_type": "display_data",
          "data": {
            "text/plain": [
              "<Figure size 600x300 with 2 Axes>"
            ],
            "image/png": "[encoded data removed]"
          },
          "metadata": {}
        }
      ]
    },
    {
      "cell_type": "markdown",
      "source": [
        "Keep in mind that the ones in 0 mean that there was no data, so it is not correct to assume that these are congresspersons with no education at all. But please update the Lower House with the information, people!\n",
        "\n",
        "I find this very interesting as to analyze our representatives profile, but there is too much missing information about their scolarity as to ascertain if the majority has a university degree, if congresswomen have a higher or lower scolarity level than congressmen, despite being younger based on average."
      ],
      "metadata": {
        "id": "EmaVX1DPiGo-"
      }
    },
    {
      "cell_type": "code",
      "source": [
        "print(\"This is an attempt of verifying correlation, but no significant correlation was found:\")\n",
        "print()\n",
        "matrix_corr = Deputados.corr()\n",
        "plt.figure(figsize=(8,4))\n",
        "sns.heatmap(matrix_corr, annot=True, cmap='YlGnBu')"
      ],
      "metadata": {
        "colab": {
          "base_uri": "https://localhost:8080/",
          "height": 481
        },
        "id": "-E3kBP0DEI2e",
        "outputId": "3aa0ecd7-b52b-461d-93df-f06f77ceacea"
      },
      "execution_count": null,
      "outputs": [
        {
          "output_type": "stream",
          "name": "stdout",
          "text": [
            "This is an attempt of verifying correlation, but no significant correlatrion was found:\n",
            "\n"
          ]
        },
        {
          "output_type": "stream",
          "name": "stderr",
          "text": [
            "<ipython-input-54-2168f6ce66f6>:3: FutureWarning: The default value of numeric_only in DataFrame.corr is deprecated. In a future version, it will default to False. Select only valid columns or specify the value of numeric_only to silence this warning.\n",
            "  matrix_corr = Deputados.corr()\n"
          ]
        },
        {
          "output_type": "execute_result",
          "data": {
            "text/plain": [
              "<Axes: >"
            ]
          },
          "metadata": {},
          "execution_count": 54
        },
        {
          "output_type": "display_data",
          "data": {
            "text/plain": [
              "<Figure size 800x400 with 2 Axes>"
            ],
            "image/png": "[encoded data removed]"
          },
          "metadata": {}
        }
      ]
    },
    {
      "cell_type": "markdown",
      "source": [
        "If you have any idea of how to improve the analysis it is very welcome, you can contribute with this project in my GitHub."
      ],
      "metadata": {
        "id": "0dFpWgNPir2t"
      }
    }
  ]
}