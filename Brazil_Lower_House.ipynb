{
  "nbformat": 4,
  "nbformat_minor": 0,
  "metadata": {
    "colab": {
      "provenance": [],
      "authorship_tag": "ABX9TyNoF29GRn5D10RMCwkukkdH",
      "include_colab_link": true
    },
    "kernelspec": {
      "name": "python3",
      "display_name": "Python 3"
    },
    "language_info": {
      "name": "python"
    }
  },
  "cells": [
    {
      "cell_type": "markdown",
      "metadata": {
        "id": "view-in-github",
        "colab_type": "text"
      },
      "source": [
        "<a href=\"https://colab.research.google.com/github/Bess-Hub/Project-Citizen-Explorer/blob/main/Brazil_Lower_House.ipynb\" target=\"_parent\"><img src=\"https://colab.research.google.com/assets/colab-badge.svg\" alt=\"Open In Colab\"/></a>"
      ]
    },
    {
      "cell_type": "markdown",
      "source": [
        "# Data Analysis with Google Colab\n"
      ],
      "metadata": {
        "id": "rpodWDwHcZ9x"
      }
    },
    {
      "cell_type": "markdown",
      "source": [
        "---\n",
        "\n",
        "*In this exercise we will explore the data provided by the Brazilian Lower House API using Google Colab, because I had issues with Jupyter.*\n",
        "\n",
        "\n"
      ],
      "metadata": {
        "id": "oKWK-L3xfU8w"
      }
    },
    {
      "cell_type": "markdown",
      "source": [
        "# Phase 1: Data Extraction"
      ],
      "metadata": {
        "id": "jfbdTrkkfrp0"
      }
    },
    {
      "cell_type": "markdown",
      "source": [
        "\n",
        "*As any Data Analysis project we will start with Data Extraction.*\n"
      ],
      "metadata": {
        "id": "nZQNNHtlgLDa"
      }
    },
    {
      "cell_type": "markdown",
      "source": [
        "Import modules:"
      ],
      "metadata": {
        "id": "ZsP43mW1hDmB"
      }
    },
    {
      "cell_type": "code",
      "execution_count": 1,
      "metadata": {
        "id": "SwtwlBGjcOPj"
      },
      "outputs": [],
      "source": [
        "import requests # To get the API URL\n",
        "import pandas as pd # To test what I am learning on my course\n",
        "import xml.etree.ElementTree as ET # Because so far it is my way of reading into XML files returned by an API"
      ]
    },
    {
      "cell_type": "markdown",
      "source": [
        "Define the API URL:"
      ],
      "metadata": {
        "id": "9UUHc00lcpxE"
      }
    },
    {
      "cell_type": "code",
      "source": [
        "Base_URL = requests.get(url=\"https://www.camara.gov.br/SitCamaraWS/Deputados.asmx/ObterDeputados\")"
      ],
      "metadata": {
        "id": "Uy9nPtFNcnpR"
      },
      "execution_count": 2,
      "outputs": []
    },
    {
      "cell_type": "markdown",
      "source": [
        "## Some additional steps:"
      ],
      "metadata": {
        "id": "o4msuvgZpge8"
      }
    },
    {
      "cell_type": "markdown",
      "source": [
        "Check the connection:"
      ],
      "metadata": {
        "id": "WoZshKvPdoqD"
      }
    },
    {
      "cell_type": "code",
      "source": [
        "print(Base_URL)"
      ],
      "metadata": {
        "colab": {
          "base_uri": "https://localhost:8080/"
        },
        "id": "sS5YVz2Zc2j4",
        "outputId": "dbb4e2d8-7ba7-4037-dc7a-8c36d3720a51"
      },
      "execution_count": 3,
      "outputs": [
        {
          "output_type": "stream",
          "name": "stdout",
          "text": [
            "<Response [200]>\n"
          ]
        }
      ]
    },
    {
      "cell_type": "markdown",
      "source": [
        "Let's check what is the data we will be working with:"
      ],
      "metadata": {
        "id": "UOOjDBtvdxIG"
      }
    },
    {
      "cell_type": "code",
      "source": [
        "print(Base_URL.headers.get('content-type'))"
      ],
      "metadata": {
        "colab": {
          "base_uri": "https://localhost:8080/"
        },
        "id": "d2tY3RTjc7cg",
        "outputId": "c342a473-dc5f-4a0f-c7de-6fa122a1e389"
      },
      "execution_count": 4,
      "outputs": [
        {
          "output_type": "stream",
          "name": "stdout",
          "text": [
            "text/xml; charset=utf-8\n"
          ]
        }
      ]
    },
    {
      "cell_type": "markdown",
      "source": [
        "## Visualizing the extracted data"
      ],
      "metadata": {
        "id": "0-ENfoBdpx-x"
      }
    },
    {
      "cell_type": "markdown",
      "source": [
        "Since the data is in XML we will use ElementTree to create a local DataFrame from the API."
      ],
      "metadata": {
        "id": "OBHREYEpwLk2"
      }
    },
    {
      "cell_type": "code",
      "source": [
        "root = ET.fromstring(Base_URL.content) # Define the root channel to the content we want to append to our lists\n",
        "# Create the lists\n",
        "dep_name = []\n",
        "dep_id = []\n",
        "dep_foto = []\n",
        "dep_uf = []\n",
        "dep_gender = []\n",
        "dep_part = []\n",
        "# Add elements to the correspondent lists\n",
        "for name in root.iter('nomeParlamentar'):\n",
        "    dep_name.append(name.text)\n",
        "for id in root.iter('ideCadastro'):\n",
        "    dep_id.append(id.text)\n",
        "for urlFoto in root.iter('urlFoto'):\n",
        "    dep_foto.append(urlFoto.text)\n",
        "for uf in root.iter('uf'):\n",
        "    dep_uf.append(uf.text)\n",
        "for sexo in root.iter('sexo'):\n",
        "    dep_gender.append(sexo.text)\n",
        "for part in root.iter('partido'):\n",
        "    dep_part.append(part.text)"
      ],
      "metadata": {
        "id": "ZwgMhfppppzR"
      },
      "execution_count": 16,
      "outputs": []
    },
    {
      "cell_type": "markdown",
      "source": [
        "Now we create one dataframe using Pandas."
      ],
      "metadata": {
        "id": "rjVbXtEDwjOq"
      }
    },
    {
      "cell_type": "code",
      "source": [
        "Deputados = pd.DataFrame({'Name': dep_name, 'ID': dep_id, 'Foto': dep_foto, 'UF': dep_uf, 'Gender': dep_gender, 'Party': dep_part})"
      ],
      "metadata": {
        "id": "6VCjqxOfsNzH"
      },
      "execution_count": 17,
      "outputs": []
    },
    {
      "cell_type": "markdown",
      "source": [
        "Because everything is in a certain order, if we give the folowing command we can see line by line each congressperson information in our DataFrame."
      ],
      "metadata": {
        "id": "Xl3_RGTywws-"
      }
    },
    {
      "cell_type": "code",
      "source": [
        "Deputados.head(513) # I don't understand why it only shows 5 if I do not declare the total number of entire there, tried with * for all, but did not work."
      ],
      "metadata": {
        "colab": {
          "base_uri": "https://localhost:8080/",
          "height": 655
        },
        "id": "Zg0gYgrdtFvY",
        "outputId": "883615fd-f631-44d6-c2a4-07fb09801c52"
      },
      "execution_count": 18,
      "outputs": [
        {
          "output_type": "execute_result",
          "data": {
            "text/plain": [
              "                     Name      ID  \\\n",
              "0       Benedita da Silva   73701   \n",
              "1              Átila Lins   74090   \n",
              "2       Renildo Calheiros   73801   \n",
              "3         Jandira Feghali   74848   \n",
              "4          Lídice da Mata  139285   \n",
              "..                    ...     ...   \n",
              "508       Luciano Azevedo  103758   \n",
              "509  Prof. Paulo Fernando   89536   \n",
              "510          Gabriel Mota  224117   \n",
              "511                Welter  224333   \n",
              "512    Reinhold Stephanes  205865   \n",
              "\n",
              "                                                  Foto  UF     Gender  \\\n",
              "0    http://www.camara.gov.br/internet/deputado/ban...  RJ   feminino   \n",
              "1    http://www.camara.gov.br/internet/deputado/ban...  AM  masculino   \n",
              "2    http://www.camara.gov.br/internet/deputado/ban...  PE  masculino   \n",
              "3    http://www.camara.gov.br/internet/deputado/ban...  RJ   feminino   \n",
              "4    http://www.camara.gov.br/internet/deputado/ban...  BA   feminino   \n",
              "..                                                 ...  ..        ...   \n",
              "508  http://www.camara.gov.br/internet/deputado/ban...  RS  masculino   \n",
              "509  http://www.camara.gov.br/internet/deputado/ban...  DF  masculino   \n",
              "510  http://www.camara.gov.br/internet/deputado/ban...  RR  masculino   \n",
              "511  http://www.camara.gov.br/internet/deputado/ban...  PR  masculino   \n",
              "512  http://www.camara.gov.br/internet/deputado/ban...  PR  masculino   \n",
              "\n",
              "            Party  \n",
              "0              PT  \n",
              "1             PSD  \n",
              "2           PCdoB  \n",
              "3           PCdoB  \n",
              "4             PSB  \n",
              "..            ...  \n",
              "508           PSD  \n",
              "509  REPUBLICANOS  \n",
              "510  REPUBLICANOS  \n",
              "511            PT  \n",
              "512           PSD  \n",
              "\n",
              "[513 rows x 6 columns]"
            ],
            "text/html": [
              "\n",
              "  <div id=\"df-54d258fa-7ee3-4565-94a8-30ad21293d70\">\n",
              "    <div class=\"colab-df-container\">\n",
              "      <div>\n",
              "<style scoped>\n",
              "    .dataframe tbody tr th:only-of-type {\n",
              "        vertical-align: middle;\n",
              "    }\n",
              "\n",
              "    .dataframe tbody tr th {\n",
              "        vertical-align: top;\n",
              "    }\n",
              "\n",
              "    .dataframe thead th {\n",
              "        text-align: right;\n",
              "    }\n",
              "</style>\n",
              "<table border=\"1\" class=\"dataframe\">\n",
              "  <thead>\n",
              "    <tr style=\"text-align: right;\">\n",
              "      <th></th>\n",
              "      <th>Name</th>\n",
              "      <th>ID</th>\n",
              "      <th>Foto</th>\n",
              "      <th>UF</th>\n",
              "      <th>Gender</th>\n",
              "      <th>Party</th>\n",
              "    </tr>\n",
              "  </thead>\n",
              "  <tbody>\n",
              "    <tr>\n",
              "      <th>0</th>\n",
              "      <td>Benedita da Silva</td>\n",
              "      <td>73701</td>\n",
              "      <td>http://www.camara.gov.br/internet/deputado/ban...</td>\n",
              "      <td>RJ</td>\n",
              "      <td>feminino</td>\n",
              "      <td>PT</td>\n",
              "    </tr>\n",
              "    <tr>\n",
              "      <th>1</th>\n",
              "      <td>Átila Lins</td>\n",
              "      <td>74090</td>\n",
              "      <td>http://www.camara.gov.br/internet/deputado/ban...</td>\n",
              "      <td>AM</td>\n",
              "      <td>masculino</td>\n",
              "      <td>PSD</td>\n",
              "    </tr>\n",
              "    <tr>\n",
              "      <th>2</th>\n",
              "      <td>Renildo Calheiros</td>\n",
              "      <td>73801</td>\n",
              "      <td>http://www.camara.gov.br/internet/deputado/ban...</td>\n",
              "      <td>PE</td>\n",
              "      <td>masculino</td>\n",
              "      <td>PCdoB</td>\n",
              "    </tr>\n",
              "    <tr>\n",
              "      <th>3</th>\n",
              "      <td>Jandira Feghali</td>\n",
              "      <td>74848</td>\n",
              "      <td>http://www.camara.gov.br/internet/deputado/ban...</td>\n",
              "      <td>RJ</td>\n",
              "      <td>feminino</td>\n",
              "      <td>PCdoB</td>\n",
              "    </tr>\n",
              "    <tr>\n",
              "      <th>4</th>\n",
              "      <td>Lídice da Mata</td>\n",
              "      <td>139285</td>\n",
              "      <td>http://www.camara.gov.br/internet/deputado/ban...</td>\n",
              "      <td>BA</td>\n",
              "      <td>feminino</td>\n",
              "      <td>PSB</td>\n",
              "    </tr>\n",
              "    <tr>\n",
              "      <th>...</th>\n",
              "      <td>...</td>\n",
              "      <td>...</td>\n",
              "      <td>...</td>\n",
              "      <td>...</td>\n",
              "      <td>...</td>\n",
              "      <td>...</td>\n",
              "    </tr>\n",
              "    <tr>\n",
              "      <th>508</th>\n",
              "      <td>Luciano Azevedo</td>\n",
              "      <td>103758</td>\n",
              "      <td>http://www.camara.gov.br/internet/deputado/ban...</td>\n",
              "      <td>RS</td>\n",
              "      <td>masculino</td>\n",
              "      <td>PSD</td>\n",
              "    </tr>\n",
              "    <tr>\n",
              "      <th>509</th>\n",
              "      <td>Prof. Paulo Fernando</td>\n",
              "      <td>89536</td>\n",
              "      <td>http://www.camara.gov.br/internet/deputado/ban...</td>\n",
              "      <td>DF</td>\n",
              "      <td>masculino</td>\n",
              "      <td>REPUBLICANOS</td>\n",
              "    </tr>\n",
              "    <tr>\n",
              "      <th>510</th>\n",
              "      <td>Gabriel Mota</td>\n",
              "      <td>224117</td>\n",
              "      <td>http://www.camara.gov.br/internet/deputado/ban...</td>\n",
              "      <td>RR</td>\n",
              "      <td>masculino</td>\n",
              "      <td>REPUBLICANOS</td>\n",
              "    </tr>\n",
              "    <tr>\n",
              "      <th>511</th>\n",
              "      <td>Welter</td>\n",
              "      <td>224333</td>\n",
              "      <td>http://www.camara.gov.br/internet/deputado/ban...</td>\n",
              "      <td>PR</td>\n",
              "      <td>masculino</td>\n",
              "      <td>PT</td>\n",
              "    </tr>\n",
              "    <tr>\n",
              "      <th>512</th>\n",
              "      <td>Reinhold Stephanes</td>\n",
              "      <td>205865</td>\n",
              "      <td>http://www.camara.gov.br/internet/deputado/ban...</td>\n",
              "      <td>PR</td>\n",
              "      <td>masculino</td>\n",
              "      <td>PSD</td>\n",
              "    </tr>\n",
              "  </tbody>\n",
              "</table>\n",
              "<p>513 rows × 6 columns</p>\n",
              "</div>\n",
              "      <button class=\"colab-df-convert\" onclick=\"convertToInteractive('df-54d258fa-7ee3-4565-94a8-30ad21293d70')\"\n",
              "              title=\"Convert this dataframe to an interactive table.\"\n",
              "              style=\"display:none;\">\n",
              "        \n",
              "  <svg xmlns=\"http://www.w3.org/2000/svg\" height=\"24px\"viewBox=\"0 0 24 24\"\n",
              "       width=\"24px\">\n",
              "    <path d=\"M0 0h24v24H0V0z\" fill=\"none\"/>\n",
              "    <path d=\"M18.56 5.44l.94 2.06.94-2.06 2.06-.94-2.06-.94-.94-2.06-.94 2.06-2.06.94zm-11 1L8.5 8.5l.94-2.06 2.06-.94-2.06-.94L8.5 2.5l-.94 2.06-2.06.94zm10 10l.94 2.06.94-2.06 2.06-.94-2.06-.94-.94-2.06-.94 2.06-2.06.94z\"/><path d=\"M17.41 7.96l-1.37-1.37c-.4-.4-.92-.59-1.43-.59-.52 0-1.04.2-1.43.59L10.3 9.45l-7.72 7.72c-.78.78-.78 2.05 0 2.83L4 21.41c.39.39.9.59 1.41.59.51 0 1.02-.2 1.41-.59l7.78-7.78 2.81-2.81c.8-.78.8-2.07 0-2.86zM5.41 20L4 18.59l7.72-7.72 1.47 1.35L5.41 20z\"/>\n",
              "  </svg>\n",
              "      </button>\n",
              "      \n",
              "  <style>\n",
              "    .colab-df-container {\n",
              "      display:flex;\n",
              "      flex-wrap:wrap;\n",
              "      gap: 12px;\n",
              "    }\n",
              "\n",
              "    .colab-df-convert {\n",
              "      background-color: #E8F0FE;\n",
              "      border: none;\n",
              "      border-radius: 50%;\n",
              "      cursor: pointer;\n",
              "      display: none;\n",
              "      fill: #1967D2;\n",
              "      height: 32px;\n",
              "      padding: 0 0 0 0;\n",
              "      width: 32px;\n",
              "    }\n",
              "\n",
              "    .colab-df-convert:hover {\n",
              "      background-color: #E2EBFA;\n",
              "      box-shadow: 0px 1px 2px rgba(60, 64, 67, 0.3), 0px 1px 3px 1px rgba(60, 64, 67, 0.15);\n",
              "      fill: #174EA6;\n",
              "    }\n",
              "\n",
              "    [theme=dark] .colab-df-convert {\n",
              "      background-color: #3B4455;\n",
              "      fill: #D2E3FC;\n",
              "    }\n",
              "\n",
              "    [theme=dark] .colab-df-convert:hover {\n",
              "      background-color: #434B5C;\n",
              "      box-shadow: 0px 1px 3px 1px rgba(0, 0, 0, 0.15);\n",
              "      filter: drop-shadow(0px 1px 2px rgba(0, 0, 0, 0.3));\n",
              "      fill: #FFFFFF;\n",
              "    }\n",
              "  </style>\n",
              "\n",
              "      <script>\n",
              "        const buttonEl =\n",
              "          document.querySelector('#df-54d258fa-7ee3-4565-94a8-30ad21293d70 button.colab-df-convert');\n",
              "        buttonEl.style.display =\n",
              "          google.colab.kernel.accessAllowed ? 'block' : 'none';\n",
              "\n",
              "        async function convertToInteractive(key) {\n",
              "          const element = document.querySelector('#df-54d258fa-7ee3-4565-94a8-30ad21293d70');\n",
              "          const dataTable =\n",
              "            await google.colab.kernel.invokeFunction('convertToInteractive',\n",
              "                                                     [key], {});\n",
              "          if (!dataTable) return;\n",
              "\n",
              "          const docLinkHtml = 'Like what you see? Visit the ' +\n",
              "            '<a target=\"_blank\" href=https://colab.research.google.com/notebooks/data_table.ipynb>data table notebook</a>'\n",
              "            + ' to learn more about interactive tables.';\n",
              "          element.innerHTML = '';\n",
              "          dataTable['output_type'] = 'display_data';\n",
              "          await google.colab.output.renderOutput(dataTable, element);\n",
              "          const docLink = document.createElement('div');\n",
              "          docLink.innerHTML = docLinkHtml;\n",
              "          element.appendChild(docLink);\n",
              "        }\n",
              "      </script>\n",
              "    </div>\n",
              "  </div>\n",
              "  "
            ]
          },
          "metadata": {},
          "execution_count": 18
        }
      ]
    },
    {
      "cell_type": "markdown",
      "source": [
        "We could wish to select only the first 10, for example:"
      ],
      "metadata": {
        "id": "jt1FY0oAw8gq"
      }
    },
    {
      "cell_type": "code",
      "source": [
        "Deputados.head(10)"
      ],
      "metadata": {
        "colab": {
          "base_uri": "https://localhost:8080/",
          "height": 322
        },
        "id": "1jhqi0S3xAni",
        "outputId": "1c145a6f-a37e-4ecb-ce27-27ca5f7a1db8"
      },
      "execution_count": 19,
      "outputs": [
        {
          "output_type": "execute_result",
          "data": {
            "text/plain": [
              "                Name      ID  \\\n",
              "0  Benedita da Silva   73701   \n",
              "1         Átila Lins   74090   \n",
              "2  Renildo Calheiros   73801   \n",
              "3    Jandira Feghali   74848   \n",
              "4     Lídice da Mata  139285   \n",
              "5        Júlio Cesar   74317   \n",
              "6     Claudio Cajado   74537   \n",
              "7   Elcione Barbalho   74075   \n",
              "8  Arlindo Chinaglia   73433   \n",
              "9     Mendonça Filho   74428   \n",
              "\n",
              "                                                Foto  UF     Gender  Party  \n",
              "0  http://www.camara.gov.br/internet/deputado/ban...  RJ   feminino     PT  \n",
              "1  http://www.camara.gov.br/internet/deputado/ban...  AM  masculino    PSD  \n",
              "2  http://www.camara.gov.br/internet/deputado/ban...  PE  masculino  PCdoB  \n",
              "3  http://www.camara.gov.br/internet/deputado/ban...  RJ   feminino  PCdoB  \n",
              "4  http://www.camara.gov.br/internet/deputado/ban...  BA   feminino    PSB  \n",
              "5  http://www.camara.gov.br/internet/deputado/ban...  PI  masculino    PSD  \n",
              "6  http://www.camara.gov.br/internet/deputado/ban...  BA  masculino     PP  \n",
              "7  http://www.camara.gov.br/internet/deputado/ban...  PA   feminino    MDB  \n",
              "8  http://www.camara.gov.br/internet/deputado/ban...  SP  masculino     PT  \n",
              "9  http://www.camara.gov.br/internet/deputado/ban...  PE  masculino  UNIÃO  "
            ],
            "text/html": [
              "\n",
              "  <div id=\"df-be5322b8-6deb-4480-98f2-86e37ccf1a65\">\n",
              "    <div class=\"colab-df-container\">\n",
              "      <div>\n",
              "<style scoped>\n",
              "    .dataframe tbody tr th:only-of-type {\n",
              "        vertical-align: middle;\n",
              "    }\n",
              "\n",
              "    .dataframe tbody tr th {\n",
              "        vertical-align: top;\n",
              "    }\n",
              "\n",
              "    .dataframe thead th {\n",
              "        text-align: right;\n",
              "    }\n",
              "</style>\n",
              "<table border=\"1\" class=\"dataframe\">\n",
              "  <thead>\n",
              "    <tr style=\"text-align: right;\">\n",
              "      <th></th>\n",
              "      <th>Name</th>\n",
              "      <th>ID</th>\n",
              "      <th>Foto</th>\n",
              "      <th>UF</th>\n",
              "      <th>Gender</th>\n",
              "      <th>Party</th>\n",
              "    </tr>\n",
              "  </thead>\n",
              "  <tbody>\n",
              "    <tr>\n",
              "      <th>0</th>\n",
              "      <td>Benedita da Silva</td>\n",
              "      <td>73701</td>\n",
              "      <td>http://www.camara.gov.br/internet/deputado/ban...</td>\n",
              "      <td>RJ</td>\n",
              "      <td>feminino</td>\n",
              "      <td>PT</td>\n",
              "    </tr>\n",
              "    <tr>\n",
              "      <th>1</th>\n",
              "      <td>Átila Lins</td>\n",
              "      <td>74090</td>\n",
              "      <td>http://www.camara.gov.br/internet/deputado/ban...</td>\n",
              "      <td>AM</td>\n",
              "      <td>masculino</td>\n",
              "      <td>PSD</td>\n",
              "    </tr>\n",
              "    <tr>\n",
              "      <th>2</th>\n",
              "      <td>Renildo Calheiros</td>\n",
              "      <td>73801</td>\n",
              "      <td>http://www.camara.gov.br/internet/deputado/ban...</td>\n",
              "      <td>PE</td>\n",
              "      <td>masculino</td>\n",
              "      <td>PCdoB</td>\n",
              "    </tr>\n",
              "    <tr>\n",
              "      <th>3</th>\n",
              "      <td>Jandira Feghali</td>\n",
              "      <td>74848</td>\n",
              "      <td>http://www.camara.gov.br/internet/deputado/ban...</td>\n",
              "      <td>RJ</td>\n",
              "      <td>feminino</td>\n",
              "      <td>PCdoB</td>\n",
              "    </tr>\n",
              "    <tr>\n",
              "      <th>4</th>\n",
              "      <td>Lídice da Mata</td>\n",
              "      <td>139285</td>\n",
              "      <td>http://www.camara.gov.br/internet/deputado/ban...</td>\n",
              "      <td>BA</td>\n",
              "      <td>feminino</td>\n",
              "      <td>PSB</td>\n",
              "    </tr>\n",
              "    <tr>\n",
              "      <th>5</th>\n",
              "      <td>Júlio Cesar</td>\n",
              "      <td>74317</td>\n",
              "      <td>http://www.camara.gov.br/internet/deputado/ban...</td>\n",
              "      <td>PI</td>\n",
              "      <td>masculino</td>\n",
              "      <td>PSD</td>\n",
              "    </tr>\n",
              "    <tr>\n",
              "      <th>6</th>\n",
              "      <td>Claudio Cajado</td>\n",
              "      <td>74537</td>\n",
              "      <td>http://www.camara.gov.br/internet/deputado/ban...</td>\n",
              "      <td>BA</td>\n",
              "      <td>masculino</td>\n",
              "      <td>PP</td>\n",
              "    </tr>\n",
              "    <tr>\n",
              "      <th>7</th>\n",
              "      <td>Elcione Barbalho</td>\n",
              "      <td>74075</td>\n",
              "      <td>http://www.camara.gov.br/internet/deputado/ban...</td>\n",
              "      <td>PA</td>\n",
              "      <td>feminino</td>\n",
              "      <td>MDB</td>\n",
              "    </tr>\n",
              "    <tr>\n",
              "      <th>8</th>\n",
              "      <td>Arlindo Chinaglia</td>\n",
              "      <td>73433</td>\n",
              "      <td>http://www.camara.gov.br/internet/deputado/ban...</td>\n",
              "      <td>SP</td>\n",
              "      <td>masculino</td>\n",
              "      <td>PT</td>\n",
              "    </tr>\n",
              "    <tr>\n",
              "      <th>9</th>\n",
              "      <td>Mendonça Filho</td>\n",
              "      <td>74428</td>\n",
              "      <td>http://www.camara.gov.br/internet/deputado/ban...</td>\n",
              "      <td>PE</td>\n",
              "      <td>masculino</td>\n",
              "      <td>UNIÃO</td>\n",
              "    </tr>\n",
              "  </tbody>\n",
              "</table>\n",
              "</div>\n",
              "      <button class=\"colab-df-convert\" onclick=\"convertToInteractive('df-be5322b8-6deb-4480-98f2-86e37ccf1a65')\"\n",
              "              title=\"Convert this dataframe to an interactive table.\"\n",
              "              style=\"display:none;\">\n",
              "        \n",
              "  <svg xmlns=\"http://www.w3.org/2000/svg\" height=\"24px\"viewBox=\"0 0 24 24\"\n",
              "       width=\"24px\">\n",
              "    <path d=\"M0 0h24v24H0V0z\" fill=\"none\"/>\n",
              "    <path d=\"M18.56 5.44l.94 2.06.94-2.06 2.06-.94-2.06-.94-.94-2.06-.94 2.06-2.06.94zm-11 1L8.5 8.5l.94-2.06 2.06-.94-2.06-.94L8.5 2.5l-.94 2.06-2.06.94zm10 10l.94 2.06.94-2.06 2.06-.94-2.06-.94-.94-2.06-.94 2.06-2.06.94z\"/><path d=\"M17.41 7.96l-1.37-1.37c-.4-.4-.92-.59-1.43-.59-.52 0-1.04.2-1.43.59L10.3 9.45l-7.72 7.72c-.78.78-.78 2.05 0 2.83L4 21.41c.39.39.9.59 1.41.59.51 0 1.02-.2 1.41-.59l7.78-7.78 2.81-2.81c.8-.78.8-2.07 0-2.86zM5.41 20L4 18.59l7.72-7.72 1.47 1.35L5.41 20z\"/>\n",
              "  </svg>\n",
              "      </button>\n",
              "      \n",
              "  <style>\n",
              "    .colab-df-container {\n",
              "      display:flex;\n",
              "      flex-wrap:wrap;\n",
              "      gap: 12px;\n",
              "    }\n",
              "\n",
              "    .colab-df-convert {\n",
              "      background-color: #E8F0FE;\n",
              "      border: none;\n",
              "      border-radius: 50%;\n",
              "      cursor: pointer;\n",
              "      display: none;\n",
              "      fill: #1967D2;\n",
              "      height: 32px;\n",
              "      padding: 0 0 0 0;\n",
              "      width: 32px;\n",
              "    }\n",
              "\n",
              "    .colab-df-convert:hover {\n",
              "      background-color: #E2EBFA;\n",
              "      box-shadow: 0px 1px 2px rgba(60, 64, 67, 0.3), 0px 1px 3px 1px rgba(60, 64, 67, 0.15);\n",
              "      fill: #174EA6;\n",
              "    }\n",
              "\n",
              "    [theme=dark] .colab-df-convert {\n",
              "      background-color: #3B4455;\n",
              "      fill: #D2E3FC;\n",
              "    }\n",
              "\n",
              "    [theme=dark] .colab-df-convert:hover {\n",
              "      background-color: #434B5C;\n",
              "      box-shadow: 0px 1px 3px 1px rgba(0, 0, 0, 0.15);\n",
              "      filter: drop-shadow(0px 1px 2px rgba(0, 0, 0, 0.3));\n",
              "      fill: #FFFFFF;\n",
              "    }\n",
              "  </style>\n",
              "\n",
              "      <script>\n",
              "        const buttonEl =\n",
              "          document.querySelector('#df-be5322b8-6deb-4480-98f2-86e37ccf1a65 button.colab-df-convert');\n",
              "        buttonEl.style.display =\n",
              "          google.colab.kernel.accessAllowed ? 'block' : 'none';\n",
              "\n",
              "        async function convertToInteractive(key) {\n",
              "          const element = document.querySelector('#df-be5322b8-6deb-4480-98f2-86e37ccf1a65');\n",
              "          const dataTable =\n",
              "            await google.colab.kernel.invokeFunction('convertToInteractive',\n",
              "                                                     [key], {});\n",
              "          if (!dataTable) return;\n",
              "\n",
              "          const docLinkHtml = 'Like what you see? Visit the ' +\n",
              "            '<a target=\"_blank\" href=https://colab.research.google.com/notebooks/data_table.ipynb>data table notebook</a>'\n",
              "            + ' to learn more about interactive tables.';\n",
              "          element.innerHTML = '';\n",
              "          dataTable['output_type'] = 'display_data';\n",
              "          await google.colab.output.renderOutput(dataTable, element);\n",
              "          const docLink = document.createElement('div');\n",
              "          docLink.innerHTML = docLinkHtml;\n",
              "          element.appendChild(docLink);\n",
              "        }\n",
              "      </script>\n",
              "    </div>\n",
              "  </div>\n",
              "  "
            ]
          },
          "metadata": {},
          "execution_count": 19
        }
      ]
    },
    {
      "cell_type": "markdown",
      "source": [
        "Or we could wish to select only the ones from a specific UF, for example Paraná - that is represented by its acronym PR"
      ],
      "metadata": {
        "id": "uYjj-Qye0E_X"
      }
    },
    {
      "cell_type": "code",
      "source": [
        "Deputados.loc[Deputados['UF'] == 'PR']"
      ],
      "metadata": {
        "colab": {
          "base_uri": "https://localhost:8080/",
          "height": 655
        },
        "id": "1T8Xy2az0KbR",
        "outputId": "3f0691a7-e938-414a-b994-9d3c8bb6c784"
      },
      "execution_count": 20,
      "outputs": [
        {
          "output_type": "execute_result",
          "data": {
            "text/plain": [
              "                        Name      ID  \\\n",
              "10          Dilceu Sperafico   73768   \n",
              "29                   Giacobo   74383   \n",
              "98               Zeca Dirceu  160592   \n",
              "111           Luiz Nishimori  162332   \n",
              "145            Aliel Machado  178927   \n",
              "146             Diego Garcia  178929   \n",
              "147            Luciano Ducci  178931   \n",
              "148             Sergio Souza  178933   \n",
              "149       Toninho Wandscheer  178934   \n",
              "176           Sargento Fahur  204387   \n",
              "228             Tadeu Veneri  220682   \n",
              "229             Pedro Lupion  204395   \n",
              "230               Beto Richa  220683   \n",
              "231                 Vermelho  204396   \n",
              "232            Tião Medeiros  220684   \n",
              "233      Felipe Francischini  204398   \n",
              "234              Paulo Litro  220685   \n",
              "235          Gleisi Hoffmann  107283   \n",
              "291           Luisa Canziani  204410   \n",
              "292            Filipe Barros  204411   \n",
              "406               Beto Preto  220698   \n",
              "437  Delegado Matheus Laiola  220701   \n",
              "466           Geraldo Mendes  220702   \n",
              "470            Carol Dartora  220704   \n",
              "474         Deltan Dallagnol  220705   \n",
              "480                 Padovani  220706   \n",
              "501             Marco Brasil  219585   \n",
              "506          Rodrigo Estacho  223128   \n",
              "511                   Welter  224333   \n",
              "512       Reinhold Stephanes  205865   \n",
              "\n",
              "                                                  Foto  UF     Gender  \\\n",
              "10   http://www.camara.gov.br/internet/deputado/ban...  PR  masculino   \n",
              "29   http://www.camara.gov.br/internet/deputado/ban...  PR  masculino   \n",
              "98   http://www.camara.gov.br/internet/deputado/ban...  PR  masculino   \n",
              "111  http://www.camara.gov.br/internet/deputado/ban...  PR  masculino   \n",
              "145  http://www.camara.gov.br/internet/deputado/ban...  PR  masculino   \n",
              "146  http://www.camara.gov.br/internet/deputado/ban...  PR  masculino   \n",
              "147  http://www.camara.gov.br/internet/deputado/ban...  PR  masculino   \n",
              "148  http://www.camara.gov.br/internet/deputado/ban...  PR  masculino   \n",
              "149  http://www.camara.gov.br/internet/deputado/ban...  PR  masculino   \n",
              "176  http://www.camara.gov.br/internet/deputado/ban...  PR  masculino   \n",
              "228  http://www.camara.gov.br/internet/deputado/ban...  PR  masculino   \n",
              "229  http://www.camara.gov.br/internet/deputado/ban...  PR  masculino   \n",
              "230  http://www.camara.gov.br/internet/deputado/ban...  PR  masculino   \n",
              "231  http://www.camara.gov.br/internet/deputado/ban...  PR  masculino   \n",
              "232  http://www.camara.gov.br/internet/deputado/ban...  PR  masculino   \n",
              "233  http://www.camara.gov.br/internet/deputado/ban...  PR  masculino   \n",
              "234  http://www.camara.gov.br/internet/deputado/ban...  PR  masculino   \n",
              "235  http://www.camara.gov.br/internet/deputado/ban...  PR   feminino   \n",
              "291  http://www.camara.gov.br/internet/deputado/ban...  PR   feminino   \n",
              "292  http://www.camara.gov.br/internet/deputado/ban...  PR  masculino   \n",
              "406  http://www.camara.gov.br/internet/deputado/ban...  PR  masculino   \n",
              "437  http://www.camara.gov.br/internet/deputado/ban...  PR  masculino   \n",
              "466  http://www.camara.gov.br/internet/deputado/ban...  PR  masculino   \n",
              "470  http://www.camara.gov.br/internet/deputado/ban...  PR   feminino   \n",
              "474  http://www.camara.gov.br/internet/deputado/ban...  PR  masculino   \n",
              "480  http://www.camara.gov.br/internet/deputado/ban...  PR  masculino   \n",
              "501  http://www.camara.gov.br/internet/deputado/ban...  PR  masculino   \n",
              "506  http://www.camara.gov.br/internet/deputado/ban...  PR  masculino   \n",
              "511  http://www.camara.gov.br/internet/deputado/ban...  PR  masculino   \n",
              "512  http://www.camara.gov.br/internet/deputado/ban...  PR  masculino   \n",
              "\n",
              "            Party  \n",
              "10             PP  \n",
              "29             PL  \n",
              "98             PT  \n",
              "111           PSD  \n",
              "145            PV  \n",
              "146  REPUBLICANOS  \n",
              "147           PSB  \n",
              "148           MDB  \n",
              "149            PP  \n",
              "176           PSD  \n",
              "228            PT  \n",
              "229            PP  \n",
              "230          PSDB  \n",
              "231            PL  \n",
              "232            PP  \n",
              "233         UNIÃO  \n",
              "234           PSD  \n",
              "235            PT  \n",
              "291           PSD  \n",
              "292            PL  \n",
              "406           PSD  \n",
              "437         UNIÃO  \n",
              "466         UNIÃO  \n",
              "470            PT  \n",
              "474          PODE  \n",
              "480         UNIÃO  \n",
              "501            PP  \n",
              "506           PSD  \n",
              "511            PT  \n",
              "512           PSD  "
            ],
            "text/html": [
              "\n",
              "  <div id=\"df-6ebee6b9-f52e-4a3c-963a-288ed3c84354\">\n",
              "    <div class=\"colab-df-container\">\n",
              "      <div>\n",
              "<style scoped>\n",
              "    .dataframe tbody tr th:only-of-type {\n",
              "        vertical-align: middle;\n",
              "    }\n",
              "\n",
              "    .dataframe tbody tr th {\n",
              "        vertical-align: top;\n",
              "    }\n",
              "\n",
              "    .dataframe thead th {\n",
              "        text-align: right;\n",
              "    }\n",
              "</style>\n",
              "<table border=\"1\" class=\"dataframe\">\n",
              "  <thead>\n",
              "    <tr style=\"text-align: right;\">\n",
              "      <th></th>\n",
              "      <th>Name</th>\n",
              "      <th>ID</th>\n",
              "      <th>Foto</th>\n",
              "      <th>UF</th>\n",
              "      <th>Gender</th>\n",
              "      <th>Party</th>\n",
              "    </tr>\n",
              "  </thead>\n",
              "  <tbody>\n",
              "    <tr>\n",
              "      <th>10</th>\n",
              "      <td>Dilceu Sperafico</td>\n",
              "      <td>73768</td>\n",
              "      <td>http://www.camara.gov.br/internet/deputado/ban...</td>\n",
              "      <td>PR</td>\n",
              "      <td>masculino</td>\n",
              "      <td>PP</td>\n",
              "    </tr>\n",
              "    <tr>\n",
              "      <th>29</th>\n",
              "      <td>Giacobo</td>\n",
              "      <td>74383</td>\n",
              "      <td>http://www.camara.gov.br/internet/deputado/ban...</td>\n",
              "      <td>PR</td>\n",
              "      <td>masculino</td>\n",
              "      <td>PL</td>\n",
              "    </tr>\n",
              "    <tr>\n",
              "      <th>98</th>\n",
              "      <td>Zeca Dirceu</td>\n",
              "      <td>160592</td>\n",
              "      <td>http://www.camara.gov.br/internet/deputado/ban...</td>\n",
              "      <td>PR</td>\n",
              "      <td>masculino</td>\n",
              "      <td>PT</td>\n",
              "    </tr>\n",
              "    <tr>\n",
              "      <th>111</th>\n",
              "      <td>Luiz Nishimori</td>\n",
              "      <td>162332</td>\n",
              "      <td>http://www.camara.gov.br/internet/deputado/ban...</td>\n",
              "      <td>PR</td>\n",
              "      <td>masculino</td>\n",
              "      <td>PSD</td>\n",
              "    </tr>\n",
              "    <tr>\n",
              "      <th>145</th>\n",
              "      <td>Aliel Machado</td>\n",
              "      <td>178927</td>\n",
              "      <td>http://www.camara.gov.br/internet/deputado/ban...</td>\n",
              "      <td>PR</td>\n",
              "      <td>masculino</td>\n",
              "      <td>PV</td>\n",
              "    </tr>\n",
              "    <tr>\n",
              "      <th>146</th>\n",
              "      <td>Diego Garcia</td>\n",
              "      <td>178929</td>\n",
              "      <td>http://www.camara.gov.br/internet/deputado/ban...</td>\n",
              "      <td>PR</td>\n",
              "      <td>masculino</td>\n",
              "      <td>REPUBLICANOS</td>\n",
              "    </tr>\n",
              "    <tr>\n",
              "      <th>147</th>\n",
              "      <td>Luciano Ducci</td>\n",
              "      <td>178931</td>\n",
              "      <td>http://www.camara.gov.br/internet/deputado/ban...</td>\n",
              "      <td>PR</td>\n",
              "      <td>masculino</td>\n",
              "      <td>PSB</td>\n",
              "    </tr>\n",
              "    <tr>\n",
              "      <th>148</th>\n",
              "      <td>Sergio Souza</td>\n",
              "      <td>178933</td>\n",
              "      <td>http://www.camara.gov.br/internet/deputado/ban...</td>\n",
              "      <td>PR</td>\n",
              "      <td>masculino</td>\n",
              "      <td>MDB</td>\n",
              "    </tr>\n",
              "    <tr>\n",
              "      <th>149</th>\n",
              "      <td>Toninho Wandscheer</td>\n",
              "      <td>178934</td>\n",
              "      <td>http://www.camara.gov.br/internet/deputado/ban...</td>\n",
              "      <td>PR</td>\n",
              "      <td>masculino</td>\n",
              "      <td>PP</td>\n",
              "    </tr>\n",
              "    <tr>\n",
              "      <th>176</th>\n",
              "      <td>Sargento Fahur</td>\n",
              "      <td>204387</td>\n",
              "      <td>http://www.camara.gov.br/internet/deputado/ban...</td>\n",
              "      <td>PR</td>\n",
              "      <td>masculino</td>\n",
              "      <td>PSD</td>\n",
              "    </tr>\n",
              "    <tr>\n",
              "      <th>228</th>\n",
              "      <td>Tadeu Veneri</td>\n",
              "      <td>220682</td>\n",
              "      <td>http://www.camara.gov.br/internet/deputado/ban...</td>\n",
              "      <td>PR</td>\n",
              "      <td>masculino</td>\n",
              "      <td>PT</td>\n",
              "    </tr>\n",
              "    <tr>\n",
              "      <th>229</th>\n",
              "      <td>Pedro Lupion</td>\n",
              "      <td>204395</td>\n",
              "      <td>http://www.camara.gov.br/internet/deputado/ban...</td>\n",
              "      <td>PR</td>\n",
              "      <td>masculino</td>\n",
              "      <td>PP</td>\n",
              "    </tr>\n",
              "    <tr>\n",
              "      <th>230</th>\n",
              "      <td>Beto Richa</td>\n",
              "      <td>220683</td>\n",
              "      <td>http://www.camara.gov.br/internet/deputado/ban...</td>\n",
              "      <td>PR</td>\n",
              "      <td>masculino</td>\n",
              "      <td>PSDB</td>\n",
              "    </tr>\n",
              "    <tr>\n",
              "      <th>231</th>\n",
              "      <td>Vermelho</td>\n",
              "      <td>204396</td>\n",
              "      <td>http://www.camara.gov.br/internet/deputado/ban...</td>\n",
              "      <td>PR</td>\n",
              "      <td>masculino</td>\n",
              "      <td>PL</td>\n",
              "    </tr>\n",
              "    <tr>\n",
              "      <th>232</th>\n",
              "      <td>Tião Medeiros</td>\n",
              "      <td>220684</td>\n",
              "      <td>http://www.camara.gov.br/internet/deputado/ban...</td>\n",
              "      <td>PR</td>\n",
              "      <td>masculino</td>\n",
              "      <td>PP</td>\n",
              "    </tr>\n",
              "    <tr>\n",
              "      <th>233</th>\n",
              "      <td>Felipe Francischini</td>\n",
              "      <td>204398</td>\n",
              "      <td>http://www.camara.gov.br/internet/deputado/ban...</td>\n",
              "      <td>PR</td>\n",
              "      <td>masculino</td>\n",
              "      <td>UNIÃO</td>\n",
              "    </tr>\n",
              "    <tr>\n",
              "      <th>234</th>\n",
              "      <td>Paulo Litro</td>\n",
              "      <td>220685</td>\n",
              "      <td>http://www.camara.gov.br/internet/deputado/ban...</td>\n",
              "      <td>PR</td>\n",
              "      <td>masculino</td>\n",
              "      <td>PSD</td>\n",
              "    </tr>\n",
              "    <tr>\n",
              "      <th>235</th>\n",
              "      <td>Gleisi Hoffmann</td>\n",
              "      <td>107283</td>\n",
              "      <td>http://www.camara.gov.br/internet/deputado/ban...</td>\n",
              "      <td>PR</td>\n",
              "      <td>feminino</td>\n",
              "      <td>PT</td>\n",
              "    </tr>\n",
              "    <tr>\n",
              "      <th>291</th>\n",
              "      <td>Luisa Canziani</td>\n",
              "      <td>204410</td>\n",
              "      <td>http://www.camara.gov.br/internet/deputado/ban...</td>\n",
              "      <td>PR</td>\n",
              "      <td>feminino</td>\n",
              "      <td>PSD</td>\n",
              "    </tr>\n",
              "    <tr>\n",
              "      <th>292</th>\n",
              "      <td>Filipe Barros</td>\n",
              "      <td>204411</td>\n",
              "      <td>http://www.camara.gov.br/internet/deputado/ban...</td>\n",
              "      <td>PR</td>\n",
              "      <td>masculino</td>\n",
              "      <td>PL</td>\n",
              "    </tr>\n",
              "    <tr>\n",
              "      <th>406</th>\n",
              "      <td>Beto Preto</td>\n",
              "      <td>220698</td>\n",
              "      <td>http://www.camara.gov.br/internet/deputado/ban...</td>\n",
              "      <td>PR</td>\n",
              "      <td>masculino</td>\n",
              "      <td>PSD</td>\n",
              "    </tr>\n",
              "    <tr>\n",
              "      <th>437</th>\n",
              "      <td>Delegado Matheus Laiola</td>\n",
              "      <td>220701</td>\n",
              "      <td>http://www.camara.gov.br/internet/deputado/ban...</td>\n",
              "      <td>PR</td>\n",
              "      <td>masculino</td>\n",
              "      <td>UNIÃO</td>\n",
              "    </tr>\n",
              "    <tr>\n",
              "      <th>466</th>\n",
              "      <td>Geraldo Mendes</td>\n",
              "      <td>220702</td>\n",
              "      <td>http://www.camara.gov.br/internet/deputado/ban...</td>\n",
              "      <td>PR</td>\n",
              "      <td>masculino</td>\n",
              "      <td>UNIÃO</td>\n",
              "    </tr>\n",
              "    <tr>\n",
              "      <th>470</th>\n",
              "      <td>Carol Dartora</td>\n",
              "      <td>220704</td>\n",
              "      <td>http://www.camara.gov.br/internet/deputado/ban...</td>\n",
              "      <td>PR</td>\n",
              "      <td>feminino</td>\n",
              "      <td>PT</td>\n",
              "    </tr>\n",
              "    <tr>\n",
              "      <th>474</th>\n",
              "      <td>Deltan Dallagnol</td>\n",
              "      <td>220705</td>\n",
              "      <td>http://www.camara.gov.br/internet/deputado/ban...</td>\n",
              "      <td>PR</td>\n",
              "      <td>masculino</td>\n",
              "      <td>PODE</td>\n",
              "    </tr>\n",
              "    <tr>\n",
              "      <th>480</th>\n",
              "      <td>Padovani</td>\n",
              "      <td>220706</td>\n",
              "      <td>http://www.camara.gov.br/internet/deputado/ban...</td>\n",
              "      <td>PR</td>\n",
              "      <td>masculino</td>\n",
              "      <td>UNIÃO</td>\n",
              "    </tr>\n",
              "    <tr>\n",
              "      <th>501</th>\n",
              "      <td>Marco Brasil</td>\n",
              "      <td>219585</td>\n",
              "      <td>http://www.camara.gov.br/internet/deputado/ban...</td>\n",
              "      <td>PR</td>\n",
              "      <td>masculino</td>\n",
              "      <td>PP</td>\n",
              "    </tr>\n",
              "    <tr>\n",
              "      <th>506</th>\n",
              "      <td>Rodrigo Estacho</td>\n",
              "      <td>223128</td>\n",
              "      <td>http://www.camara.gov.br/internet/deputado/ban...</td>\n",
              "      <td>PR</td>\n",
              "      <td>masculino</td>\n",
              "      <td>PSD</td>\n",
              "    </tr>\n",
              "    <tr>\n",
              "      <th>511</th>\n",
              "      <td>Welter</td>\n",
              "      <td>224333</td>\n",
              "      <td>http://www.camara.gov.br/internet/deputado/ban...</td>\n",
              "      <td>PR</td>\n",
              "      <td>masculino</td>\n",
              "      <td>PT</td>\n",
              "    </tr>\n",
              "    <tr>\n",
              "      <th>512</th>\n",
              "      <td>Reinhold Stephanes</td>\n",
              "      <td>205865</td>\n",
              "      <td>http://www.camara.gov.br/internet/deputado/ban...</td>\n",
              "      <td>PR</td>\n",
              "      <td>masculino</td>\n",
              "      <td>PSD</td>\n",
              "    </tr>\n",
              "  </tbody>\n",
              "</table>\n",
              "</div>\n",
              "      <button class=\"colab-df-convert\" onclick=\"convertToInteractive('df-6ebee6b9-f52e-4a3c-963a-288ed3c84354')\"\n",
              "              title=\"Convert this dataframe to an interactive table.\"\n",
              "              style=\"display:none;\">\n",
              "        \n",
              "  <svg xmlns=\"http://www.w3.org/2000/svg\" height=\"24px\"viewBox=\"0 0 24 24\"\n",
              "       width=\"24px\">\n",
              "    <path d=\"M0 0h24v24H0V0z\" fill=\"none\"/>\n",
              "    <path d=\"M18.56 5.44l.94 2.06.94-2.06 2.06-.94-2.06-.94-.94-2.06-.94 2.06-2.06.94zm-11 1L8.5 8.5l.94-2.06 2.06-.94-2.06-.94L8.5 2.5l-.94 2.06-2.06.94zm10 10l.94 2.06.94-2.06 2.06-.94-2.06-.94-.94-2.06-.94 2.06-2.06.94z\"/><path d=\"M17.41 7.96l-1.37-1.37c-.4-.4-.92-.59-1.43-.59-.52 0-1.04.2-1.43.59L10.3 9.45l-7.72 7.72c-.78.78-.78 2.05 0 2.83L4 21.41c.39.39.9.59 1.41.59.51 0 1.02-.2 1.41-.59l7.78-7.78 2.81-2.81c.8-.78.8-2.07 0-2.86zM5.41 20L4 18.59l7.72-7.72 1.47 1.35L5.41 20z\"/>\n",
              "  </svg>\n",
              "      </button>\n",
              "      \n",
              "  <style>\n",
              "    .colab-df-container {\n",
              "      display:flex;\n",
              "      flex-wrap:wrap;\n",
              "      gap: 12px;\n",
              "    }\n",
              "\n",
              "    .colab-df-convert {\n",
              "      background-color: #E8F0FE;\n",
              "      border: none;\n",
              "      border-radius: 50%;\n",
              "      cursor: pointer;\n",
              "      display: none;\n",
              "      fill: #1967D2;\n",
              "      height: 32px;\n",
              "      padding: 0 0 0 0;\n",
              "      width: 32px;\n",
              "    }\n",
              "\n",
              "    .colab-df-convert:hover {\n",
              "      background-color: #E2EBFA;\n",
              "      box-shadow: 0px 1px 2px rgba(60, 64, 67, 0.3), 0px 1px 3px 1px rgba(60, 64, 67, 0.15);\n",
              "      fill: #174EA6;\n",
              "    }\n",
              "\n",
              "    [theme=dark] .colab-df-convert {\n",
              "      background-color: #3B4455;\n",
              "      fill: #D2E3FC;\n",
              "    }\n",
              "\n",
              "    [theme=dark] .colab-df-convert:hover {\n",
              "      background-color: #434B5C;\n",
              "      box-shadow: 0px 1px 3px 1px rgba(0, 0, 0, 0.15);\n",
              "      filter: drop-shadow(0px 1px 2px rgba(0, 0, 0, 0.3));\n",
              "      fill: #FFFFFF;\n",
              "    }\n",
              "  </style>\n",
              "\n",
              "      <script>\n",
              "        const buttonEl =\n",
              "          document.querySelector('#df-6ebee6b9-f52e-4a3c-963a-288ed3c84354 button.colab-df-convert');\n",
              "        buttonEl.style.display =\n",
              "          google.colab.kernel.accessAllowed ? 'block' : 'none';\n",
              "\n",
              "        async function convertToInteractive(key) {\n",
              "          const element = document.querySelector('#df-6ebee6b9-f52e-4a3c-963a-288ed3c84354');\n",
              "          const dataTable =\n",
              "            await google.colab.kernel.invokeFunction('convertToInteractive',\n",
              "                                                     [key], {});\n",
              "          if (!dataTable) return;\n",
              "\n",
              "          const docLinkHtml = 'Like what you see? Visit the ' +\n",
              "            '<a target=\"_blank\" href=https://colab.research.google.com/notebooks/data_table.ipynb>data table notebook</a>'\n",
              "            + ' to learn more about interactive tables.';\n",
              "          element.innerHTML = '';\n",
              "          dataTable['output_type'] = 'display_data';\n",
              "          await google.colab.output.renderOutput(dataTable, element);\n",
              "          const docLink = document.createElement('div');\n",
              "          docLink.innerHTML = docLinkHtml;\n",
              "          element.appendChild(docLink);\n",
              "        }\n",
              "      </script>\n",
              "    </div>\n",
              "  </div>\n",
              "  "
            ]
          },
          "metadata": {},
          "execution_count": 20
        }
      ]
    },
    {
      "cell_type": "markdown",
      "source": [
        "We could want to verify if we have any missing data by asking for info()."
      ],
      "metadata": {
        "id": "_lVUBabIxeSg"
      }
    },
    {
      "cell_type": "code",
      "source": [
        "Deputados.info()"
      ],
      "metadata": {
        "colab": {
          "base_uri": "https://localhost:8080/"
        },
        "id": "NJzLVWW1t0Wi",
        "outputId": "0b001589-5b67-4a72-f880-052ba26f3d69"
      },
      "execution_count": 21,
      "outputs": [
        {
          "output_type": "stream",
          "name": "stdout",
          "text": [
            "<class 'pandas.core.frame.DataFrame'>\n",
            "RangeIndex: 513 entries, 0 to 512\n",
            "Data columns (total 6 columns):\n",
            " #   Column  Non-Null Count  Dtype \n",
            "---  ------  --------------  ----- \n",
            " 0   Name    513 non-null    object\n",
            " 1   ID      513 non-null    object\n",
            " 2   Foto    513 non-null    object\n",
            " 3   UF      513 non-null    object\n",
            " 4   Gender  513 non-null    object\n",
            " 5   Party   513 non-null    object\n",
            "dtypes: object(6)\n",
            "memory usage: 24.2+ KB\n"
          ]
        }
      ]
    },
    {
      "cell_type": "markdown",
      "source": [
        "\n",
        "Do you see how each column has the same number of elements: 513?\n",
        "Knowing that there should be 513 Congresspersons, it seems that there is no missing information.\n",
        "\n"
      ],
      "metadata": {
        "id": "VrLmAjWlxlxP"
      }
    },
    {
      "cell_type": "markdown",
      "source": [
        "We could also request to describe the UF's, although the result should not bring any new information:\n",
        "<br> \n",
        "*   There should be 513 Congresspersons.\n",
        "*   Brazil has 26 UF's + the Federal District, so it should be 27 unique UF's.\n",
        "*   Sao Paulo is the state with more congresspersons.\n",
        "<br>\n",
        "*What about those that are temporarily replacing a congressperson, would they be added to this list?*"
      ],
      "metadata": {
        "id": "lSddJYiny0jO"
      }
    },
    {
      "cell_type": "code",
      "source": [
        "Deputados['UF'].describe()"
      ],
      "metadata": {
        "colab": {
          "base_uri": "https://localhost:8080/"
        },
        "id": "XXL-POERyOcW",
        "outputId": "af532cad-7b3b-4228-f618-8914e2d0e68d"
      },
      "execution_count": 22,
      "outputs": [
        {
          "output_type": "execute_result",
          "data": {
            "text/plain": [
              "count     513\n",
              "unique     27\n",
              "top        SP\n",
              "freq       70\n",
              "Name: UF, dtype: object"
            ]
          },
          "metadata": {},
          "execution_count": 22
        }
      ]
    },
    {
      "cell_type": "markdown",
      "source": [
        "But we can also want to see how they are gender classified:"
      ],
      "metadata": {
        "id": "3utY1sSFx-fY"
      }
    },
    {
      "cell_type": "code",
      "source": [
        "Deputados['Gender'].value_counts()"
      ],
      "metadata": {
        "colab": {
          "base_uri": "https://localhost:8080/"
        },
        "id": "03wfh0Z9uLma",
        "outputId": "3a1c7280-89b2-4033-ccb1-448f7ec73f5b"
      },
      "execution_count": 23,
      "outputs": [
        {
          "output_type": "execute_result",
          "data": {
            "text/plain": [
              "masculino    426\n",
              "feminino      87\n",
              "Name: Gender, dtype: int64"
            ]
          },
          "metadata": {},
          "execution_count": 23
        }
      ]
    },
    {
      "cell_type": "markdown",
      "source": [
        "And make a pie chart of it:"
      ],
      "metadata": {
        "id": "HYKLvLCSyIlt"
      }
    },
    {
      "cell_type": "code",
      "source": [
        "Deputados['Gender'].value_counts().plot(kind=\"pie\")"
      ],
      "metadata": {
        "colab": {
          "base_uri": "https://localhost:8080/",
          "height": 423
        },
        "id": "EiM61mOzuYRX",
        "outputId": "b4556bd4-7c69-4398-cf26-d36ae1f13dd8"
      },
      "execution_count": 24,
      "outputs": [
        {
          "output_type": "execute_result",
          "data": {
            "text/plain": [
              "<Axes: ylabel='Gender'>"
            ]
          },
          "metadata": {},
          "execution_count": 24
        },
        {
          "output_type": "display_data",
          "data": {
            "text/plain": [
              "<Figure size 640x480 with 1 Axes>"
            ],
            "image/png": "[encoded data removed]"
          },
          "metadata": {}
        }
      ]
    },
    {
      "cell_type": "markdown",
      "source": [
        "This can get interesting when verifying the correlation between political party and gender, or UF and gender."
      ],
      "metadata": {
        "id": "LtqzJSfd5wAP"
      }
    },
    {
      "cell_type": "markdown",
      "source": [
        "## Adding other sources of data"
      ],
      "metadata": {
        "id": "vnp0-OgQ3Wd2"
      }
    },
    {
      "cell_type": "markdown",
      "source": [
        "# Data Cleaning"
      ],
      "metadata": {
        "id": "2IkDEX8HhLb_"
      }
    },
    {
      "cell_type": "markdown",
      "source": [
        "# Data Wrangling"
      ],
      "metadata": {
        "id": "ZdEKnnnlhRGu"
      }
    }
  ]
}